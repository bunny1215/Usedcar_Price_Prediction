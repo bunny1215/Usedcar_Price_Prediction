{
  "nbformat": 4,
  "nbformat_minor": 0,
  "metadata": {
    "colab": {
      "provenance": []
    },
    "kernelspec": {
      "name": "python3",
      "display_name": "Python 3"
    }
  },
  "cells": [
    {
      "cell_type": "markdown",
      "metadata": {
        "id": "FCzqQv-lpXNK"
      },
      "source": [
        "# Project 1. 중고차 시세 예측\n",
        "**과목명:  응용데이터애널리틱스 (Applied Data Analytics)** \\\\\n",
        "**학수번호:  INE4108** \\\\\n",
        "**교강사:  송재욱 교수 (산업공학과)** \\\\\n",
        " \\\\\n",
        "***"
      ]
    },
    {
      "cell_type": "markdown",
      "metadata": {
        "id": "21F0poqDnriY"
      },
      "source": [
        "## P1-1. Environmental Set-up & Data Loading"
      ]
    },
    {
      "cell_type": "code",
      "metadata": {
        "id": "16gjgF_8nmu_",
        "colab": {
          "base_uri": "https://localhost:8080/"
        },
        "outputId": "7b7e26d4-01fa-4cd1-9eba-b3744636c65c"
      },
      "source": [
        "from google.colab import drive\n",
        "\n",
        "drive.mount('/content/drive', force_remount=True)\n",
        "\n",
        "\n"
      ],
      "execution_count": null,
      "outputs": [
        {
          "output_type": "stream",
          "name": "stdout",
          "text": [
            "Mounted at /content/drive\n"
          ]
        }
      ]
    },
    {
      "cell_type": "code",
      "source": [
        "import pandas as pd\n",
        "import numpy as np\n",
        "import matplotlib.pyplot as plt\n",
        "import seaborn as sns\n",
        "import warnings\n",
        "warnings.filterwarnings('ignore')"
      ],
      "metadata": {
        "id": "qOposneneS0z"
      },
      "execution_count": null,
      "outputs": []
    },
    {
      "cell_type": "code",
      "source": [
        "\n",
        "# 한글 나눔포트 사용\n",
        "!sudo apt-get install -y fonts-nanum\n",
        "!sudo fc-cache -fv\n",
        "!rm ~/.cache/matplotlib -rf\n",
        "\n",
        "# 모델 수립을 위한 Train/Validation Set\n",
        "df = pd.read_csv('/content/drive/MyDrive/P1_dataset.csv', encoding ='cp949')  # 한글 Encoding 문제로 encoding = 'cp949'\n",
        "\n",
        "# 시스템 구현을 위한 Test Set 샘플\n",
        "df_test = pd.read_csv('/content/drive/MyDrive/P1_testset_sample.csv', encoding ='cp949')  # 한글 Encoding 문제로 encoding = 'cp949'"
      ],
      "metadata": {
        "colab": {
          "base_uri": "https://localhost:8080/"
        },
        "id": "z3yHNcKJdv38",
        "outputId": "64434523-2323-45f9-f791-2132e9b33572"
      },
      "execution_count": null,
      "outputs": [
        {
          "output_type": "stream",
          "name": "stdout",
          "text": [
            "Reading package lists... Done\n",
            "Building dependency tree... Done\n",
            "Reading state information... Done\n",
            "fonts-nanum is already the newest version (20200506-1).\n",
            "0 upgraded, 0 newly installed, 0 to remove and 30 not upgraded.\n",
            "/usr/share/fonts: caching, new cache contents: 0 fonts, 1 dirs\n",
            "/usr/share/fonts/truetype: caching, new cache contents: 0 fonts, 3 dirs\n",
            "/usr/share/fonts/truetype/humor-sans: caching, new cache contents: 1 fonts, 0 dirs\n",
            "/usr/share/fonts/truetype/liberation: caching, new cache contents: 16 fonts, 0 dirs\n",
            "/usr/share/fonts/truetype/nanum: caching, new cache contents: 12 fonts, 0 dirs\n",
            "/usr/local/share/fonts: caching, new cache contents: 0 fonts, 0 dirs\n",
            "/root/.local/share/fonts: skipping, no such directory\n",
            "/root/.fonts: skipping, no such directory\n",
            "/usr/share/fonts/truetype: skipping, looped directory detected\n",
            "/usr/share/fonts/truetype/humor-sans: skipping, looped directory detected\n",
            "/usr/share/fonts/truetype/liberation: skipping, looped directory detected\n",
            "/usr/share/fonts/truetype/nanum: skipping, looped directory detected\n",
            "/var/cache/fontconfig: cleaning cache directory\n",
            "/root/.cache/fontconfig: not cleaning non-existent cache directory\n",
            "/root/.fontconfig: not cleaning non-existent cache directory\n",
            "fc-cache: succeeded\n"
          ]
        }
      ]
    },
    {
      "cell_type": "markdown",
      "metadata": {
        "id": "rv3tA_28ovjx"
      },
      "source": [
        "## P1-2. Modelling\n",
        "- df를 사용하여 예측모형 수립\n",
        "- 상세 사항은 업로드 된 비디오 참고"
      ]
    },
    {
      "cell_type": "code",
      "metadata": {
        "id": "spT12uzMnm_G",
        "colab": {
          "base_uri": "https://localhost:8080/"
        },
        "outputId": "131dff1e-a1a6-4c25-f9b7-15b0cc768c51"
      },
      "source": [
        "df.columns"
      ],
      "execution_count": null,
      "outputs": [
        {
          "output_type": "execute_result",
          "data": {
            "text/plain": [
              "Index(['GOODNO', 'SUCCYMD', 'CARNM', 'CHASNO', 'CARREGIYMD', 'YEAR', 'MISSNM',\n",
              "       'FUELNM', 'COLOR', 'EXHA',\n",
              "       ...\n",
              "       'SUNLOOPPANORAMA', 'SUNLOOPCOMMON', 'SUNLOOPDUAL', 'DIS', 'TCS', 'AB1',\n",
              "       'ETC', 'AV', 'EPS', 'ECS'],\n",
              "      dtype='object', length=104)"
            ]
          },
          "metadata": {},
          "execution_count": 338
        }
      ]
    },
    {
      "cell_type": "code",
      "source": [
        "df_test.columns"
      ],
      "metadata": {
        "colab": {
          "base_uri": "https://localhost:8080/"
        },
        "id": "O5h63Wbvepaz",
        "outputId": "b33e991f-671b-476c-a653-0bf7ca20af1b"
      },
      "execution_count": null,
      "outputs": [
        {
          "output_type": "execute_result",
          "data": {
            "text/plain": [
              "Index(['GOODNO', 'SUCCYMD', 'CARNM', 'CHASNO', 'CARREGIYMD', 'YEAR', 'MISSNM',\n",
              "       'FUELNM', 'COLOR', 'EXHA',\n",
              "       ...\n",
              "       'SUNLOOPPANORAMA', 'SUNLOOPCOMMON', 'SUNLOOPDUAL', 'DIS', 'TCS', 'AB1',\n",
              "       'ETC', 'AV', 'EPS', 'ECS'],\n",
              "      dtype='object', length=104)"
            ]
          },
          "metadata": {},
          "execution_count": 339
        }
      ]
    },
    {
      "cell_type": "code",
      "source": [
        "nan_counts = df.isna().sum()\n",
        "\n",
        "# NaN이 하나라도 있는 컬럼만 보기\n",
        "nan_counts = nan_counts[nan_counts > 0]\n",
        "\n",
        "print(nan_counts)"
      ],
      "metadata": {
        "colab": {
          "base_uri": "https://localhost:8080/"
        },
        "id": "-gJtPhSqesHT",
        "outputId": "2ddab873-5b78-46fe-f112-ec9781637310"
      },
      "execution_count": null,
      "outputs": [
        {
          "output_type": "stream",
          "name": "stdout",
          "text": [
            "CARREGIYMD           1\n",
            "FUELNM               1\n",
            "USEUSENM           323\n",
            "OWNECLASNM          13\n",
            "SHIPPING_PRICE    4325\n",
            "NC_GRADE_PRICE    3781\n",
            "dtype: int64\n"
          ]
        }
      ]
    },
    {
      "cell_type": "code",
      "source": [
        "nan_counts = df_test.isna().sum()\n",
        "\n",
        "# NaN이 하나라도 있는 컬럼만 보기\n",
        "nan_counts = nan_counts[nan_counts > 0]\n",
        "\n",
        "print(nan_counts)"
      ],
      "metadata": {
        "colab": {
          "base_uri": "https://localhost:8080/"
        },
        "id": "2u1PlMO3jgpa",
        "outputId": "337a42f3-7d79-4dec-b77a-c2a7b165609f"
      },
      "execution_count": null,
      "outputs": [
        {
          "output_type": "stream",
          "name": "stdout",
          "text": [
            "SHIPPING_PRICE    8\n",
            "NC_GRADE_PRICE    1\n",
            "dtype: int64\n"
          ]
        }
      ]
    },
    {
      "cell_type": "code",
      "source": [
        "df = df.dropna(subset=['CARREGIYMD'])\n",
        "df['FUELNM'] = df['FUELNM'].fillna('가솔린')\n",
        "df['USEUSENM'] = df['USEUSENM'].fillna('미상')\n",
        "df['OWNECLASNM'] = df['OWNECLASNM'].fillna('개인')"
      ],
      "metadata": {
        "id": "WHyOT2KjjTxb"
      },
      "execution_count": null,
      "outputs": []
    },
    {
      "cell_type": "code",
      "source": [
        "nan_counts = df.isna().sum()\n",
        "\n",
        "# NaN이 하나라도 있는 컬럼만 보기\n",
        "nan_counts = nan_counts[nan_counts > 0]\n",
        "\n",
        "print(nan_counts)"
      ],
      "metadata": {
        "colab": {
          "base_uri": "https://localhost:8080/"
        },
        "outputId": "8236dceb-6ce2-432b-e829-503d32d8a588",
        "id": "KHO1g-5BjnzE"
      },
      "execution_count": null,
      "outputs": [
        {
          "output_type": "stream",
          "name": "stdout",
          "text": [
            "SHIPPING_PRICE    4324\n",
            "NC_GRADE_PRICE    3780\n",
            "dtype: int64\n"
          ]
        }
      ]
    },
    {
      "cell_type": "code",
      "source": [
        "print(df.shape)"
      ],
      "metadata": {
        "colab": {
          "base_uri": "https://localhost:8080/"
        },
        "id": "KVr-9zeGhDiW",
        "outputId": "523de639-e99e-416a-82c4-9ec308027803"
      },
      "execution_count": null,
      "outputs": [
        {
          "output_type": "stream",
          "name": "stdout",
          "text": [
            "(36793, 104)\n"
          ]
        }
      ]
    },
    {
      "cell_type": "markdown",
      "source": [
        "##['GOODNO', 'CHASNO', 'MF_KEY', 'MJ_MODEL_KEY', 'DT_MODEL_KEY', 'MJ_GRADE_KEY','DT_GRADE_KEY'] 변수 제거"
      ],
      "metadata": {
        "id": "j-nNBWSqqJn0"
      }
    },
    {
      "cell_type": "code",
      "source": [
        "# 제거할 식별자 변수 리스트\n",
        "cols_to_drop = ['GOODNO', 'CHASNO', 'MF_KEY', 'MJ_MODEL_KEY', 'DT_MODEL_KEY', 'MJ_GRADE_KEY','DT_GRADE_KEY']\n",
        "\n",
        "# 전처리 적용\n",
        "df = df.drop(columns=cols_to_drop)"
      ],
      "metadata": {
        "id": "qDxMyf9ihsi5"
      },
      "execution_count": null,
      "outputs": []
    },
    {
      "cell_type": "code",
      "source": [
        "print(df.shape)"
      ],
      "metadata": {
        "colab": {
          "base_uri": "https://localhost:8080/"
        },
        "id": "53GbmUilh4vq",
        "outputId": "f0251a83-5861-4a0a-ec9d-7d0d099212bd"
      },
      "execution_count": null,
      "outputs": [
        {
          "output_type": "stream",
          "name": "stdout",
          "text": [
            "(36793, 97)\n"
          ]
        }
      ]
    },
    {
      "cell_type": "markdown",
      "source": [
        "##['NOTAVAILABLE', 'FLOODING', 'TOTAL_LOSS', 'JOINCAR'] 4가지 변수 확인\n",
        "\n",
        "-> 데이터 그대로 사용"
      ],
      "metadata": {
        "id": "KCcsgutTi6C6"
      }
    },
    {
      "cell_type": "code",
      "source": [
        "columns_to_check = ['NOTAVAILABLE', 'FLOODING', 'TOTAL_LOSS', 'JOINCAR']\n",
        "\n",
        "for col in columns_to_check:\n",
        "    print(f\"[{col}] unique values:\")\n",
        "    print(df[col].value_counts(dropna=False))\n",
        "    print(\"-\" * 40)\n"
      ],
      "metadata": {
        "colab": {
          "base_uri": "https://localhost:8080/"
        },
        "id": "XeHERLEih9ud",
        "outputId": "822a2272-603a-4587-c709-92d400a4d5a9"
      },
      "execution_count": null,
      "outputs": [
        {
          "output_type": "stream",
          "name": "stdout",
          "text": [
            "[NOTAVAILABLE] unique values:\n",
            "NOTAVAILABLE\n",
            "0    36793\n",
            "Name: count, dtype: int64\n",
            "----------------------------------------\n",
            "[FLOODING] unique values:\n",
            "FLOODING\n",
            "0    34324\n",
            "1     2469\n",
            "Name: count, dtype: int64\n",
            "----------------------------------------\n",
            "[TOTAL_LOSS] unique values:\n",
            "TOTAL_LOSS\n",
            "0    36780\n",
            "1       13\n",
            "Name: count, dtype: int64\n",
            "----------------------------------------\n",
            "[JOINCAR] unique values:\n",
            "JOINCAR\n",
            "0    36793\n",
            "Name: count, dtype: int64\n",
            "----------------------------------------\n"
          ]
        }
      ]
    },
    {
      "cell_type": "markdown",
      "source": [
        "##CARNM 차량명 확인 후 label encoding  "
      ],
      "metadata": {
        "id": "SQdGsUaCuVAk"
      }
    },
    {
      "cell_type": "code",
      "source": [
        "df['CAR_NAME'] = df['CARNM'].astype(str).str.split().str[0]\n",
        "df['CAR_NAME'].unique()"
      ],
      "metadata": {
        "id": "EuExtIbftYqL",
        "colab": {
          "base_uri": "https://localhost:8080/"
        },
        "outputId": "6e5ff486-0fa3-4580-e1ac-e3593e937eca"
      },
      "execution_count": null,
      "outputs": [
        {
          "output_type": "execute_result",
          "data": {
            "text/plain": [
              "array(['모닝', 'K3', 'K5', 'K7', 'K9', 'Next_Innovation_K5', '더뉴K7', '더뉴모닝',\n",
              "       '레이', '로체', '로체(이노베이션)', '리오SF', '포르테', '프라이드(JB)', '뉴쎄라토',\n",
              "       '뉴오피러스', '오피러스', '스펙트라윙', '올뉴모닝', '올뉴프라이드(UB)', '쎄라토', '더뉴K5',\n",
              "       '로체(어드밴스)', '리오', '제네시스', '스펙트라', '옵티마리갈', '옵티마', '더뉴K9', '비스토',\n",
              "       '아반떼(HD)', 'ALL_NEW_K7', '그랜저XG', '더뉴프라이드', '그랜저(HG)', 'NEW그랜저XG',\n",
              "       '더뉴K3', '카덴자', 'Smart_Compact_올뉴모닝', '스팅어', 'JEEP', '스파크', '더뉴레이',\n",
              "       'The_New_K5', '더K9', '올뉴K3', '포텐샤', '그랜드카니발', '프런티어'], dtype=object)"
            ]
          },
          "metadata": {},
          "execution_count": 348
        }
      ]
    },
    {
      "cell_type": "code",
      "source": [
        "from sklearn.preprocessing import LabelEncoder\n",
        "\n",
        "# 1. LabelEncoder 학습\n",
        "car_name_encoder = LabelEncoder()\n",
        "car_name_encoder.fit(df['CAR_NAME'])\n",
        "\n",
        "# 2. 매핑 딕셔너리 생성\n",
        "car_name_map = dict(zip(\n",
        "    car_name_encoder.classes_,\n",
        "    car_name_encoder.transform(car_name_encoder.classes_)\n",
        "))\n",
        "\n",
        "# 3. df에 인코딩된 컬럼 생성\n",
        "df['CAR_NAME_ENC'] = df['CAR_NAME'].map(car_name_map).astype(int)\n",
        "\n",
        "print(\"✅ df['CAR_NAME'] 라벨 인코딩 완료\")\n"
      ],
      "metadata": {
        "colab": {
          "base_uri": "https://localhost:8080/"
        },
        "id": "rQXjCXIjiWZF",
        "outputId": "324bb7d0-b1a4-4cd9-8945-b498af9e1724"
      },
      "execution_count": null,
      "outputs": [
        {
          "output_type": "stream",
          "name": "stdout",
          "text": [
            "✅ df['CAR_NAME'] 라벨 인코딩 완료\n"
          ]
        }
      ]
    },
    {
      "cell_type": "code",
      "source": [
        "print(df[['CAR_NAME', 'CAR_NAME_ENC']])"
      ],
      "metadata": {
        "colab": {
          "base_uri": "https://localhost:8080/"
        },
        "id": "yp710CY-iqzF",
        "outputId": "9c200cbe-6bb0-43c5-f7a3-f3418145bc7c"
      },
      "execution_count": null,
      "outputs": [
        {
          "output_type": "stream",
          "name": "stdout",
          "text": [
            "      CAR_NAME  CAR_NAME_ENC\n",
            "0           모닝            29\n",
            "1           K3             2\n",
            "2           K3             2\n",
            "3           K5             3\n",
            "4           K5             3\n",
            "...        ...           ...\n",
            "36789     더뉴모닝            21\n",
            "36790     더뉴K9            19\n",
            "36791     더뉴K9            19\n",
            "36792     더뉴K5            17\n",
            "36793     더뉴K5            17\n",
            "\n",
            "[36793 rows x 2 columns]\n"
          ]
        }
      ]
    },
    {
      "cell_type": "code",
      "source": [
        "df = df.drop(columns=['CAR_NAME', 'CARNM'])"
      ],
      "metadata": {
        "id": "eZkyaMHqi1CB"
      },
      "execution_count": null,
      "outputs": []
    },
    {
      "cell_type": "code",
      "source": [
        "print(df.shape)"
      ],
      "metadata": {
        "colab": {
          "base_uri": "https://localhost:8080/"
        },
        "id": "aNCuIT1JjCIU",
        "outputId": "f2b3d040-f109-4b63-ce6a-0bb2e2309e69"
      },
      "execution_count": null,
      "outputs": [
        {
          "output_type": "stream",
          "name": "stdout",
          "text": [
            "(36793, 97)\n"
          ]
        }
      ]
    },
    {
      "cell_type": "code",
      "source": [
        "'''# test에도 동일하게 적용 (unseen은 -1로 처리)\n",
        "df_test['CAR_NAME_ENC'] = df_test['CAR_NAME'].map(car_name_map).fillna(-1).astype(int)\n",
        "'''"
      ],
      "metadata": {
        "id": "AwObl3TuinjD",
        "colab": {
          "base_uri": "https://localhost:8080/",
          "height": 36
        },
        "outputId": "5aed5347-26a6-4c3e-813f-74cbe94ad774"
      },
      "execution_count": null,
      "outputs": [
        {
          "output_type": "execute_result",
          "data": {
            "text/plain": [
              "\"# test에도 동일하게 적용 (unseen은 -1로 처리)\\ndf_test['CAR_NAME_ENC'] = df_test['CAR_NAME'].map(car_name_map).fillna(-1).astype(int)\\n\""
            ],
            "application/vnd.google.colaboratory.intrinsic+json": {
              "type": "string"
            }
          },
          "metadata": {},
          "execution_count": 353
        }
      ]
    },
    {
      "cell_type": "markdown",
      "source": [
        "##교환 여부 통합해서 1개 변수로 저장"
      ],
      "metadata": {
        "id": "jbEqzJoe6P9e"
      }
    },
    {
      "cell_type": "code",
      "source": [
        "# 1. 60개 변수 이름 리스트\n",
        "damage_cols = [\n",
        "    'BONET', 'FRONT_LEFT_FENDER', 'FRONT_RIGHT_FENDER',\n",
        "    'FRONT_LEFT_DOOR', 'FRONT_RIGHT_DOOR', 'BACK_LEFT_DOOR', 'BACK_RIGHT_DOOR',\n",
        "    'TRUNK', 'FRONT_PANNEL', 'LEFT_STEP', 'RIGHT_STEP',\n",
        "    'LEFT_FILER_A', 'RIGHT_FILER_A', 'LEFT_FILER_B', 'RIGHT_FILER_B',\n",
        "    'LEFT_FILER_C', 'RIGHT_FILER_C', 'LEFT_REAR_FENDER', 'RIGHT_REAR_FENDER',\n",
        "    'BACK_PANEL1', 'LEFT_INSIDE_PANEL', 'RIGHT_INSIDE_PANEL',\n",
        "    'LEFT_WHEEL_HOUSE', 'RIGHT_WHEEL_HOUSE', 'LEFT_INSIDE_WHEEL_HOUSE',\n",
        "    'RIGHT_INSIDE_WHEEL_HOUSE', 'LEFT_REAR_WHEEL_HOUSE', 'RIGHT_REAR_WHEEL_HOUSE',\n",
        "    'TRUNK_FLOOR', 'DASH_PANEL', 'SHEET_PANEL', 'SIDE_MEMBER_FRAME',\n",
        "    'LEFT_QUARTER', 'RIGHT_QUARTER', 'FLOOR_PANEL', 'LEFT_SIDE_PANEL',\n",
        "    'RIGHT_SIDE_PANEL', 'LEFT_REAR_CORNER_PANEL', 'RIGHT_REAR_CORNER_PANEL',\n",
        "    'BACK_PANEL2', 'LEFT_CORNER_PANEL', 'RIGHT_CORNER_PANEL',\n",
        "    'LEFT_SKIRT_PANEL', 'RIGHT_SKIRT_PANEL', 'SIDE_MEMBER_FRAME2',\n",
        "    'LEFT_INSIDE_SHEETING', 'RIGHT_INSIDE_SHEETING',\n",
        "    'LEFT_WHEEL_HOUSE_SHEETING', 'RIGHT_WHEEL_HOUSE_SHEETING',\n",
        "    'LEFT_REAR_INSIDE_PANEL_SHEETING', 'RIGHT_REAR_INSIDE_PANEL_SHEETING',\n",
        "    'LEFT_REAR_WHEEL_HOUSE_SHEETING', 'RIGHT_REAR_WHEEL_HOUSE_SHEETING',\n",
        "    'TRUNK_FLOOR_SHEETING', 'DASH_PANEL_SHEETING',\n",
        "    'SHEET_BACK_PANEL_SHEETING', 'SIDE_MEMBER_FRAME_SHEETING',\n",
        "    'FLOOR_PANEL_SHEETING', 'LEFT_SIDE_PANEL_SHEETING', 'RIGHT_SIDE_PANEL_SHEETING'\n",
        "]"
      ],
      "metadata": {
        "id": "IxDKWEZi7VNb"
      },
      "execution_count": null,
      "outputs": []
    },
    {
      "cell_type": "code",
      "source": [
        "df['DAMAGE_COUNT'] = df[damage_cols].fillna(0).sum(axis=1)\n"
      ],
      "metadata": {
        "id": "g9s3ImAH6T7s"
      },
      "execution_count": null,
      "outputs": []
    },
    {
      "cell_type": "code",
      "source": [
        "print(df['DAMAGE_COUNT'])"
      ],
      "metadata": {
        "colab": {
          "base_uri": "https://localhost:8080/"
        },
        "id": "LclKFg3Xjobf",
        "outputId": "95f4fe58-6e93-46ca-fbeb-2a154a93dc51"
      },
      "execution_count": null,
      "outputs": [
        {
          "output_type": "stream",
          "name": "stdout",
          "text": [
            "0        0\n",
            "1        0\n",
            "2        0\n",
            "3        0\n",
            "4        6\n",
            "        ..\n",
            "36789    0\n",
            "36790    3\n",
            "36791    2\n",
            "36792    3\n",
            "36793    0\n",
            "Name: DAMAGE_COUNT, Length: 36793, dtype: int64\n"
          ]
        }
      ]
    },
    {
      "cell_type": "code",
      "source": [
        "df = df.drop(columns=damage_cols)"
      ],
      "metadata": {
        "id": "gzo7bIDdjrSl"
      },
      "execution_count": null,
      "outputs": []
    },
    {
      "cell_type": "code",
      "source": [
        "print(df.shape)"
      ],
      "metadata": {
        "colab": {
          "base_uri": "https://localhost:8080/"
        },
        "id": "txLh8qO1jwLr",
        "outputId": "9252a38f-5e9f-411e-f336-19dc10b048d1"
      },
      "execution_count": null,
      "outputs": [
        {
          "output_type": "stream",
          "name": "stdout",
          "text": [
            "(36793, 38)\n"
          ]
        }
      ]
    },
    {
      "cell_type": "markdown",
      "source": [
        "##OPTION 여부 통합해서 1개 변수로 저장"
      ],
      "metadata": {
        "id": "NHXmX0SV9bt1"
      }
    },
    {
      "cell_type": "code",
      "source": [
        "option_cols = [\n",
        "    'ABS', 'AB2', 'NAVIGATION', 'VDC', 'SMARTKEY',\n",
        "    'SUNLOOPPANORAMA', 'SUNLOOPCOMMON', 'SUNLOOPDUAL',\n",
        "    'DIS', 'TCS', 'AB1', 'ETC', 'AV', 'EPS', 'ECS'\n",
        "]"
      ],
      "metadata": {
        "id": "QwRtFl17DnsN"
      },
      "execution_count": null,
      "outputs": []
    },
    {
      "cell_type": "code",
      "source": [
        "# Train\n",
        "df['OPTION_COUNT'] = df[option_cols].fillna(0).sum(axis=1)\n"
      ],
      "metadata": {
        "id": "_nHc0P699ibs"
      },
      "execution_count": null,
      "outputs": []
    },
    {
      "cell_type": "code",
      "source": [
        "print(df['OPTION_COUNT'])"
      ],
      "metadata": {
        "colab": {
          "base_uri": "https://localhost:8080/"
        },
        "id": "oaXUk1nRkLA6",
        "outputId": "e4e3b012-1989-4120-9ad6-7abca0f55c5e"
      },
      "execution_count": null,
      "outputs": [
        {
          "output_type": "stream",
          "name": "stdout",
          "text": [
            "0        1\n",
            "1        6\n",
            "2        6\n",
            "3        2\n",
            "4        2\n",
            "        ..\n",
            "36789    3\n",
            "36790    5\n",
            "36791    6\n",
            "36792    3\n",
            "36793    3\n",
            "Name: OPTION_COUNT, Length: 36793, dtype: int64\n"
          ]
        }
      ]
    },
    {
      "cell_type": "code",
      "source": [
        "df = df.drop(columns=option_cols)"
      ],
      "metadata": {
        "id": "mnfAXchpkO46"
      },
      "execution_count": null,
      "outputs": []
    },
    {
      "cell_type": "code",
      "source": [
        "print(df.shape)"
      ],
      "metadata": {
        "colab": {
          "base_uri": "https://localhost:8080/"
        },
        "id": "CIiTtiZSkTHL",
        "outputId": "af78439d-e4bc-4a7b-8937-51629949f9f3"
      },
      "execution_count": null,
      "outputs": [
        {
          "output_type": "stream",
          "name": "stdout",
          "text": [
            "(36793, 24)\n"
          ]
        }
      ]
    },
    {
      "cell_type": "markdown",
      "source": [
        "##COLOR 변수 전처리 후 라벨 인코딩 (색 종류)"
      ],
      "metadata": {
        "id": "Oec-IL1M9MHl"
      }
    },
    {
      "cell_type": "code",
      "source": [
        "print(df['COLOR'].unique())"
      ],
      "metadata": {
        "colab": {
          "base_uri": "https://localhost:8080/"
        },
        "id": "lWRYICe-DwAk",
        "outputId": "169e198d-4f59-48f7-a464-78b92c5e556b"
      },
      "execution_count": null,
      "outputs": [
        {
          "output_type": "stream",
          "name": "stdout",
          "text": [
            "['C' 'A' 'B' 'D' 'F']\n"
          ]
        }
      ]
    },
    {
      "cell_type": "code",
      "source": [
        "from sklearn.preprocessing import LabelEncoder\n",
        "\n",
        "# 1. LabelEncoder 학습\n",
        "color_encoder = LabelEncoder()\n",
        "color_encoder.fit(df['COLOR'])\n",
        "\n",
        "# 2. 매핑 딕셔너리 생성\n",
        "color_map = dict(zip(\n",
        "    color_encoder.classes_,\n",
        "    color_encoder.transform(color_encoder.classes_)\n",
        "))\n",
        "\n",
        "# 3. 인코딩된 컬럼 추가\n",
        "df['COLOR_ENC'] = df['COLOR'].map(color_map).astype(int)\n",
        "\n",
        "print(\"✅ df['COLOR'] 라벨 인코딩 완료\")\n"
      ],
      "metadata": {
        "colab": {
          "base_uri": "https://localhost:8080/"
        },
        "id": "T42m-cWkkeZ8",
        "outputId": "7ab8054d-7147-40bf-8c7d-417d51855835"
      },
      "execution_count": null,
      "outputs": [
        {
          "output_type": "stream",
          "name": "stdout",
          "text": [
            "✅ df['COLOR'] 라벨 인코딩 완료\n"
          ]
        }
      ]
    },
    {
      "cell_type": "code",
      "source": [
        "'''df_test['COLOR_ENC'] = df_test['COLOR'].map(color_map).fillna(-1).astype(int)\n",
        "print(\"✅ df_test['COLOR'] 인코딩 완료 (unseen → -1)\")\n",
        "'''"
      ],
      "metadata": {
        "id": "y66Cx_J3kx1W",
        "colab": {
          "base_uri": "https://localhost:8080/",
          "height": 36
        },
        "outputId": "e5fddb2e-bb32-48b1-d6b8-2b8ca5691f86"
      },
      "execution_count": null,
      "outputs": [
        {
          "output_type": "execute_result",
          "data": {
            "text/plain": [
              "'df_test[\\'COLOR_ENC\\'] = df_test[\\'COLOR\\'].map(color_map).fillna(-1).astype(int)\\nprint(\"✅ df_test[\\'COLOR\\'] 인코딩 완료 (unseen → -1)\")\\n'"
            ],
            "application/vnd.google.colaboratory.intrinsic+json": {
              "type": "string"
            }
          },
          "metadata": {},
          "execution_count": 366
        }
      ]
    },
    {
      "cell_type": "code",
      "source": [
        "print(df[['COLOR', 'COLOR_ENC']])"
      ],
      "metadata": {
        "colab": {
          "base_uri": "https://localhost:8080/"
        },
        "id": "902OWhxhkzHG",
        "outputId": "15eea740-0975-4c45-a61c-37767f52d6db"
      },
      "execution_count": null,
      "outputs": [
        {
          "output_type": "stream",
          "name": "stdout",
          "text": [
            "      COLOR  COLOR_ENC\n",
            "0         C          2\n",
            "1         A          0\n",
            "2         A          0\n",
            "3         B          1\n",
            "4         D          3\n",
            "...     ...        ...\n",
            "36789     A          0\n",
            "36790     D          3\n",
            "36791     B          1\n",
            "36792     A          0\n",
            "36793     A          0\n",
            "\n",
            "[36793 rows x 2 columns]\n"
          ]
        }
      ]
    },
    {
      "cell_type": "code",
      "source": [
        "df = df.drop(columns=['COLOR'])\n",
        "print(len(df.columns))"
      ],
      "metadata": {
        "colab": {
          "base_uri": "https://localhost:8080/"
        },
        "id": "58tIOq-nk41X",
        "outputId": "0f504210-d270-4bd9-b50e-0bf34aa7119b"
      },
      "execution_count": null,
      "outputs": [
        {
          "output_type": "stream",
          "name": "stdout",
          "text": [
            "24\n"
          ]
        }
      ]
    },
    {
      "cell_type": "markdown",
      "source": [
        "##MISSNM 미션명 (변속기) 종류 전처리 후 LABEL ENCODING"
      ],
      "metadata": {
        "id": "FuCYiJFVCKFE"
      }
    },
    {
      "cell_type": "code",
      "source": [
        "missnm_unique = df['MISSNM'].unique()\n",
        "\n",
        "print(\" df['MISSNM'] 고유값:\")\n",
        "print(missnm_unique)\n"
      ],
      "metadata": {
        "colab": {
          "base_uri": "https://localhost:8080/"
        },
        "id": "snLZS3pSlCSF",
        "outputId": "48e04174-75ab-40cb-b127-3eb4cc95ce76"
      },
      "execution_count": null,
      "outputs": [
        {
          "output_type": "stream",
          "name": "stdout",
          "text": [
            " df['MISSNM'] 고유값:\n",
            "['A/T' 'CVT' 'M/T']\n"
          ]
        }
      ]
    },
    {
      "cell_type": "code",
      "source": [
        "from sklearn.preprocessing import LabelEncoder\n",
        "\n",
        "# 1. LabelEncoder 학습\n",
        "mission_encoder = LabelEncoder()\n",
        "mission_encoder.fit(df['MISSNM'])\n",
        "\n",
        "# 2. 매핑 딕셔너리 생성\n",
        "mission_map = dict(zip(\n",
        "    mission_encoder.classes_,\n",
        "    mission_encoder.transform(mission_encoder.classes_)\n",
        "))\n",
        "\n",
        "# 3. df에 인코딩된 컬럼 추가\n",
        "df['MISSNM_ENC'] = df['MISSNM'].map(mission_map).astype(int)\n",
        "\n",
        "print(\"✅ df['MISSNM'] 라벨 인코딩 완료\")\n"
      ],
      "metadata": {
        "colab": {
          "base_uri": "https://localhost:8080/"
        },
        "id": "DbmU06B-lMkc",
        "outputId": "a9d78490-e2ac-467f-acb0-1e08c6edb490"
      },
      "execution_count": null,
      "outputs": [
        {
          "output_type": "stream",
          "name": "stdout",
          "text": [
            "✅ df['MISSNM'] 라벨 인코딩 완료\n"
          ]
        }
      ]
    },
    {
      "cell_type": "code",
      "source": [
        "'''df_test['MISSNM_ENC'] = df_test['MISSNM'].map(mission_map).fillna(-1).astype(int)\n",
        "print(\"✅ df_test['MISSNM'] 인코딩 완료 (unseen → -1)\")\n",
        "'''"
      ],
      "metadata": {
        "id": "A3iCLBanlSNh",
        "colab": {
          "base_uri": "https://localhost:8080/",
          "height": 36
        },
        "outputId": "09befe59-fc4b-43a0-b188-0b138a7c5858"
      },
      "execution_count": null,
      "outputs": [
        {
          "output_type": "execute_result",
          "data": {
            "text/plain": [
              "'df_test[\\'MISSNM_ENC\\'] = df_test[\\'MISSNM\\'].map(mission_map).fillna(-1).astype(int)\\nprint(\"✅ df_test[\\'MISSNM\\'] 인코딩 완료 (unseen → -1)\")\\n'"
            ],
            "application/vnd.google.colaboratory.intrinsic+json": {
              "type": "string"
            }
          },
          "metadata": {},
          "execution_count": 371
        }
      ]
    },
    {
      "cell_type": "code",
      "source": [
        "print(df[['MISSNM', 'MISSNM_ENC']].head())"
      ],
      "metadata": {
        "colab": {
          "base_uri": "https://localhost:8080/"
        },
        "id": "_8hu7c25laeN",
        "outputId": "db30c7ac-d2d1-4b2f-e62e-c3ef8925f849"
      },
      "execution_count": null,
      "outputs": [
        {
          "output_type": "stream",
          "name": "stdout",
          "text": [
            "  MISSNM  MISSNM_ENC\n",
            "0    A/T           0\n",
            "1    A/T           0\n",
            "2    A/T           0\n",
            "3    A/T           0\n",
            "4    A/T           0\n"
          ]
        }
      ]
    },
    {
      "cell_type": "code",
      "source": [
        "print(df[['MISSNM', 'MISSNM_ENC']].drop_duplicates().sort_values('MISSNM_ENC'))"
      ],
      "metadata": {
        "colab": {
          "base_uri": "https://localhost:8080/"
        },
        "id": "QlC6TpTOlgjb",
        "outputId": "00672d25-9dd5-4ff2-9ee7-2b1887d81204"
      },
      "execution_count": null,
      "outputs": [
        {
          "output_type": "stream",
          "name": "stdout",
          "text": [
            "   MISSNM  MISSNM_ENC\n",
            "0     A/T           0\n",
            "20    CVT           1\n",
            "39    M/T           2\n"
          ]
        }
      ]
    },
    {
      "cell_type": "code",
      "source": [
        "df = df.drop(columns=['MISSNM'], errors='ignore')\n",
        "print(\"🧹 'MISSNM' 원본 컬럼 삭제 완료\")\n",
        "print(len(df.columns))"
      ],
      "metadata": {
        "colab": {
          "base_uri": "https://localhost:8080/"
        },
        "id": "L7QjCKqTlk3O",
        "outputId": "c5dd228d-be4e-4ea9-837c-00969899f544"
      },
      "execution_count": null,
      "outputs": [
        {
          "output_type": "stream",
          "name": "stdout",
          "text": [
            "🧹 'MISSNM' 원본 컬럼 삭제 완료\n",
            "24\n"
          ]
        }
      ]
    },
    {
      "cell_type": "markdown",
      "source": [
        "##USEUSENM (용도명) 전처리 후 라벨 인코딩"
      ],
      "metadata": {
        "id": "6RdjszpjLos5"
      }
    },
    {
      "cell_type": "code",
      "source": [
        "print(\"🚗 df['USEUSENM'] 고유값:\")\n",
        "print(df['USEUSENM'].unique())"
      ],
      "metadata": {
        "colab": {
          "base_uri": "https://localhost:8080/"
        },
        "id": "qjWISv8Rls_o",
        "outputId": "9558fbbe-956c-4b4a-c9b1-f3571f446657"
      },
      "execution_count": null,
      "outputs": [
        {
          "output_type": "stream",
          "name": "stdout",
          "text": [
            "🚗 df['USEUSENM'] 고유값:\n",
            "['자가' '렌트' '업무' '리스' '사업' '미상']\n"
          ]
        }
      ]
    },
    {
      "cell_type": "code",
      "source": [
        "from sklearn.preprocessing import LabelEncoder\n",
        "\n",
        "# 1. LabelEncoder 학습\n",
        "useuse_encoder = LabelEncoder()\n",
        "useuse_encoder.fit(df['USEUSENM'])\n",
        "\n",
        "# 2. 매핑 딕셔너리 생성\n",
        "useusenm_map = dict(zip(\n",
        "    useuse_encoder.classes_,\n",
        "    useuse_encoder.transform(useuse_encoder.classes_)\n",
        "))\n",
        "\n",
        "# 3. 인코딩 적용\n",
        "df['USEUSENM_ENC'] = df['USEUSENM'].map(useusenm_map).astype(int)\n",
        "\n",
        "print(\"✅ df['USEUSENM'] 라벨 인코딩 완료\")\n"
      ],
      "metadata": {
        "colab": {
          "base_uri": "https://localhost:8080/"
        },
        "id": "60FrdcPelzK1",
        "outputId": "898d9104-e0b2-4c11-b39c-7c113a1815fd"
      },
      "execution_count": null,
      "outputs": [
        {
          "output_type": "stream",
          "name": "stdout",
          "text": [
            "✅ df['USEUSENM'] 라벨 인코딩 완료\n"
          ]
        }
      ]
    },
    {
      "cell_type": "code",
      "source": [
        "'''df_test['USEUSENM_ENC'] = df_test['USEUSENM'].map(useusenm_map).fillna(-1).astype(int)\n",
        "print(\"✅ df_test['USEUSENM'] 인코딩 완료 (unseen → -1)\")\n",
        "'''"
      ],
      "metadata": {
        "id": "IRU-MPT6l5Er",
        "colab": {
          "base_uri": "https://localhost:8080/",
          "height": 54
        },
        "outputId": "149ff0c8-c1d1-4ff3-89bb-4aded01ea87a"
      },
      "execution_count": null,
      "outputs": [
        {
          "output_type": "execute_result",
          "data": {
            "text/plain": [
              "'df_test[\\'USEUSENM_ENC\\'] = df_test[\\'USEUSENM\\'].map(useusenm_map).fillna(-1).astype(int)\\nprint(\"✅ df_test[\\'USEUSENM\\'] 인코딩 완료 (unseen → -1)\")\\n'"
            ],
            "application/vnd.google.colaboratory.intrinsic+json": {
              "type": "string"
            }
          },
          "metadata": {},
          "execution_count": 377
        }
      ]
    },
    {
      "cell_type": "code",
      "source": [
        "print(df[['USEUSENM', 'USEUSENM_ENC']].head())"
      ],
      "metadata": {
        "colab": {
          "base_uri": "https://localhost:8080/"
        },
        "id": "En3eSC-umA2I",
        "outputId": "c06e207c-a4ed-494c-fc1e-1de31d119979"
      },
      "execution_count": null,
      "outputs": [
        {
          "output_type": "stream",
          "name": "stdout",
          "text": [
            "  USEUSENM  USEUSENM_ENC\n",
            "0       자가             5\n",
            "1       자가             5\n",
            "2       자가             5\n",
            "3       렌트             0\n",
            "4       렌트             0\n"
          ]
        }
      ]
    },
    {
      "cell_type": "code",
      "source": [
        "print(df[['USEUSENM', 'USEUSENM_ENC']].drop_duplicates().sort_values('USEUSENM_ENC'))\n"
      ],
      "metadata": {
        "colab": {
          "base_uri": "https://localhost:8080/"
        },
        "id": "JjTU6Q9EmFiT",
        "outputId": "0b17c9ee-da8b-4064-afd2-d18aea103678"
      },
      "execution_count": null,
      "outputs": [
        {
          "output_type": "stream",
          "name": "stdout",
          "text": [
            "     USEUSENM  USEUSENM_ENC\n",
            "3          렌트             0\n",
            "18         리스             1\n",
            "1327       미상             2\n",
            "184        사업             3\n",
            "14         업무             4\n",
            "0          자가             5\n"
          ]
        }
      ]
    },
    {
      "cell_type": "code",
      "source": [
        "df = df.drop(columns=['USEUSENM'], errors='ignore')\n",
        "print(len(df.columns))\n"
      ],
      "metadata": {
        "colab": {
          "base_uri": "https://localhost:8080/"
        },
        "id": "psQlSa11mGZt",
        "outputId": "31e32f0d-b579-4cff-8f7d-46f31bc5fda4"
      },
      "execution_count": null,
      "outputs": [
        {
          "output_type": "stream",
          "name": "stdout",
          "text": [
            "24\n"
          ]
        }
      ]
    },
    {
      "cell_type": "markdown",
      "source": [
        "##OWNECLASNM  소유주 명 전처리 후 라벨 인코딩\n"
      ],
      "metadata": {
        "id": "flq6LY6qMapg"
      }
    },
    {
      "cell_type": "code",
      "source": [
        "print(\"👤 df['OWNECLASNM'] 고유값:\")\n",
        "print(df['OWNECLASNM'].unique())"
      ],
      "metadata": {
        "colab": {
          "base_uri": "https://localhost:8080/"
        },
        "id": "zM_Bt0bXMmPP",
        "outputId": "45f666a0-35e7-42dd-b67a-460571ce2dbb"
      },
      "execution_count": null,
      "outputs": [
        {
          "output_type": "stream",
          "name": "stdout",
          "text": [
            "👤 df['OWNECLASNM'] 고유값:\n",
            "['법인' '개인' '법인상품' '상품용' '재외국인' '개인사업' '종교단체']\n"
          ]
        }
      ]
    },
    {
      "cell_type": "code",
      "source": [
        "from sklearn.preprocessing import LabelEncoder\n",
        "\n",
        "# 1. LabelEncoder 학습\n",
        "owneclas_encoder = LabelEncoder()\n",
        "owneclas_encoder.fit(df['OWNECLASNM'])\n",
        "\n",
        "# 2. 매핑 딕셔너리 생성\n",
        "owneclas_map = dict(zip(\n",
        "    owneclas_encoder.classes_,\n",
        "    owneclas_encoder.transform(owneclas_encoder.classes_)\n",
        "))\n",
        "\n",
        "# 3. 인코딩 적용\n",
        "df['OWNECLASNM_ENC'] = df['OWNECLASNM'].map(owneclas_map).astype(int)\n",
        "\n",
        "print(\" df['OWNECLASNM'] 라벨 인코딩 완료\")\n"
      ],
      "metadata": {
        "colab": {
          "base_uri": "https://localhost:8080/"
        },
        "id": "E8hxlDJsmfXR",
        "outputId": "369825dc-3590-4d4c-c88b-2066b080dda5"
      },
      "execution_count": null,
      "outputs": [
        {
          "output_type": "stream",
          "name": "stdout",
          "text": [
            " df['OWNECLASNM'] 라벨 인코딩 완료\n"
          ]
        }
      ]
    },
    {
      "cell_type": "code",
      "source": [
        "'''df_test['OWNECLASNM_ENC'] = df_test['OWNECLASNM'].map(owneclas_map).fillna(-1).astype(int)\n",
        "print(\"✅ df_test['OWNECLASNM'] 인코딩 완료 (unseen → -1)\")'''"
      ],
      "metadata": {
        "colab": {
          "base_uri": "https://localhost:8080/",
          "height": 54
        },
        "id": "Q-RbwXtRNFFl",
        "outputId": "653e3f34-f397-4962-b4ab-7930130a17d3"
      },
      "execution_count": null,
      "outputs": [
        {
          "output_type": "execute_result",
          "data": {
            "text/plain": [
              "'df_test[\\'OWNECLASNM_ENC\\'] = df_test[\\'OWNECLASNM\\'].map(owneclas_map).fillna(-1).astype(int)\\nprint(\"✅ df_test[\\'OWNECLASNM\\'] 인코딩 완료 (unseen → -1)\")'"
            ],
            "application/vnd.google.colaboratory.intrinsic+json": {
              "type": "string"
            }
          },
          "metadata": {},
          "execution_count": 383
        }
      ]
    },
    {
      "cell_type": "code",
      "source": [
        "print(df[['OWNECLASNM', 'OWNECLASNM_ENC']].head(10))"
      ],
      "metadata": {
        "colab": {
          "base_uri": "https://localhost:8080/"
        },
        "id": "tplPJVxMmvUF",
        "outputId": "4df0ca99-51d3-4e89-d147-9a1c0b9e6f11"
      },
      "execution_count": null,
      "outputs": [
        {
          "output_type": "stream",
          "name": "stdout",
          "text": [
            "  OWNECLASNM  OWNECLASNM_ENC\n",
            "0         법인               2\n",
            "1         법인               2\n",
            "2         법인               2\n",
            "3         법인               2\n",
            "4         법인               2\n",
            "5         법인               2\n",
            "6         법인               2\n",
            "7         개인               0\n",
            "8         법인               2\n",
            "9         법인               2\n"
          ]
        }
      ]
    },
    {
      "cell_type": "code",
      "source": [
        "print(df[['OWNECLASNM', 'OWNECLASNM_ENC']].drop_duplicates().sort_values('OWNECLASNM_ENC'))\n"
      ],
      "metadata": {
        "colab": {
          "base_uri": "https://localhost:8080/"
        },
        "id": "riITmXlKmmdN",
        "outputId": "4acbf18a-8338-488b-c77f-007bcd617421"
      },
      "execution_count": null,
      "outputs": [
        {
          "output_type": "stream",
          "name": "stdout",
          "text": [
            "      OWNECLASNM  OWNECLASNM_ENC\n",
            "7             개인               0\n",
            "3437        개인사업               1\n",
            "0             법인               2\n",
            "13          법인상품               3\n",
            "39           상품용               4\n",
            "1905        재외국인               5\n",
            "25782       종교단체               6\n"
          ]
        }
      ]
    },
    {
      "cell_type": "code",
      "source": [
        "df = df.drop(columns=['OWNECLASNM'], errors='ignore')\n",
        "print(len(df.columns))\n"
      ],
      "metadata": {
        "colab": {
          "base_uri": "https://localhost:8080/"
        },
        "id": "RI1wQ2Wtmtaq",
        "outputId": "a45023dc-9203-45c7-d5a0-b7a12a25c6c6"
      },
      "execution_count": null,
      "outputs": [
        {
          "output_type": "stream",
          "name": "stdout",
          "text": [
            "24\n"
          ]
        }
      ]
    },
    {
      "cell_type": "markdown",
      "source": [
        "##FUELNM (연료명) 전처리 후 라벨 인코딩\n",
        "\n",
        "-> 초기 nan 값은 가장 흔한 값인 '가솔린'으로 채워넣음.\n",
        "\n",
        "-> 이미 코드초반에 진행함"
      ],
      "metadata": {
        "id": "Q1-HjY8MNQmU"
      }
    },
    {
      "cell_type": "code",
      "source": [
        "print(\"⛽️ df['FUELNM'] 고유값:\")\n",
        "print(df['FUELNM'].unique())"
      ],
      "metadata": {
        "colab": {
          "base_uri": "https://localhost:8080/"
        },
        "id": "WcmzTkXGnBix",
        "outputId": "b4d1b710-85bd-433c-f84d-cf99500cd725"
      },
      "execution_count": null,
      "outputs": [
        {
          "output_type": "stream",
          "name": "stdout",
          "text": [
            "⛽️ df['FUELNM'] 고유값:\n",
            "['LPG' '가솔린' 'Hybrid' '디젤' '겸용' '전기']\n"
          ]
        }
      ]
    },
    {
      "cell_type": "code",
      "source": [
        "from sklearn.preprocessing import LabelEncoder\n",
        "\n",
        "# 1. LabelEncoder 학습\n",
        "fuel_encoder = LabelEncoder()\n",
        "fuel_encoder.fit(df['FUELNM'])\n",
        "\n",
        "# 2. 매핑 딕셔너리 생성\n",
        "fuel_map = dict(zip(\n",
        "    fuel_encoder.classes_,\n",
        "    fuel_encoder.transform(fuel_encoder.classes_)\n",
        "))\n",
        "\n",
        "# 3. 인코딩 적용\n",
        "df['FUELNM_ENC'] = df['FUELNM'].map(fuel_map).astype(int)\n",
        "\n",
        "print(\"✅ df['FUELNM'] 라벨 인코딩 완료\")\n"
      ],
      "metadata": {
        "colab": {
          "base_uri": "https://localhost:8080/"
        },
        "id": "LPrnDH5UnEDv",
        "outputId": "38a4f514-748d-4d0e-94dc-08938e78b0ff"
      },
      "execution_count": null,
      "outputs": [
        {
          "output_type": "stream",
          "name": "stdout",
          "text": [
            "✅ df['FUELNM'] 라벨 인코딩 완료\n"
          ]
        }
      ]
    },
    {
      "cell_type": "code",
      "source": [
        "'''df_test['FUELNM_ENC'] = df_test['FUELNM'].map(fuel_map).fillna(-1).astype(int)\n",
        "print(\"✅ df_test['FUELNM'] 인코딩 완료 (unseen → -1)\")\n",
        "'''"
      ],
      "metadata": {
        "colab": {
          "base_uri": "https://localhost:8080/",
          "height": 36
        },
        "id": "Gikuj4DlN8S6",
        "outputId": "e48b1a11-3a06-4d64-89ac-ffdbf8d4004a"
      },
      "execution_count": null,
      "outputs": [
        {
          "output_type": "execute_result",
          "data": {
            "text/plain": [
              "'df_test[\\'FUELNM_ENC\\'] = df_test[\\'FUELNM\\'].map(fuel_map).fillna(-1).astype(int)\\nprint(\"✅ df_test[\\'FUELNM\\'] 인코딩 완료 (unseen → -1)\")\\n'"
            ],
            "application/vnd.google.colaboratory.intrinsic+json": {
              "type": "string"
            }
          },
          "metadata": {},
          "execution_count": 389
        }
      ]
    },
    {
      "cell_type": "code",
      "source": [
        "print(df[['FUELNM', 'FUELNM_ENC']].head())\n",
        "print(df[['FUELNM', 'FUELNM_ENC']].drop_duplicates().sort_values('FUELNM_ENC'))\n"
      ],
      "metadata": {
        "colab": {
          "base_uri": "https://localhost:8080/"
        },
        "id": "xk5O63F-nPq6",
        "outputId": "c3371474-2180-4c86-ab6b-e3ce7dc29678"
      },
      "execution_count": null,
      "outputs": [
        {
          "output_type": "stream",
          "name": "stdout",
          "text": [
            "  FUELNM  FUELNM_ENC\n",
            "0    LPG           1\n",
            "1    가솔린           2\n",
            "2    가솔린           2\n",
            "3    LPG           1\n",
            "4    LPG           1\n",
            "     FUELNM  FUELNM_ENC\n",
            "8    Hybrid           0\n",
            "0       LPG           1\n",
            "1       가솔린           2\n",
            "19       겸용           3\n",
            "15       디젤           4\n",
            "165      전기           5\n"
          ]
        }
      ]
    },
    {
      "cell_type": "code",
      "source": [
        "# 1. 원본 컬럼 삭제\n",
        "df = df.drop(columns=['FUELNM'], errors='ignore')\n",
        "print(\"🧹 'FUELNM' 원본 컬럼 삭제 완료\")\n",
        "\n",
        "# 2. 컬럼 수 확인\n",
        "print(f\"📊 현재 df의 컬럼 수: {len(df.columns)}개\")\n"
      ],
      "metadata": {
        "colab": {
          "base_uri": "https://localhost:8080/"
        },
        "id": "uFEhOYmqneaH",
        "outputId": "7bb05bad-f127-4474-c4c3-97e9b4055c40"
      },
      "execution_count": null,
      "outputs": [
        {
          "output_type": "stream",
          "name": "stdout",
          "text": [
            "🧹 'FUELNM' 원본 컬럼 삭제 완료\n",
            "📊 현재 df의 컬럼 수: 24개\n"
          ]
        }
      ]
    },
    {
      "cell_type": "markdown",
      "source": [
        "##YEARCHK (구식/신식) 구분 전처리\n",
        "\n",
        "-> onehot이 아닌 label encoding으로 처리"
      ],
      "metadata": {
        "id": "MK9S2GkpOOrw"
      }
    },
    {
      "cell_type": "code",
      "source": [
        "print(\"📅 df['YEARCHK'] 고유값:\")\n",
        "print(df['YEARCHK'].unique())"
      ],
      "metadata": {
        "colab": {
          "base_uri": "https://localhost:8080/"
        },
        "id": "OYYIKTdnOUvv",
        "outputId": "1eae99b7-b128-43eb-c0f9-a0189188fd78"
      },
      "execution_count": null,
      "outputs": [
        {
          "output_type": "stream",
          "name": "stdout",
          "text": [
            "📅 df['YEARCHK'] 고유값:\n",
            "['N' 'Y']\n"
          ]
        }
      ]
    },
    {
      "cell_type": "code",
      "source": [
        "from sklearn.preprocessing import LabelEncoder\n",
        "\n",
        "# 1. LabelEncoder 학습 및 적용\n",
        "yearchk_encoder = LabelEncoder()\n",
        "yearchk_encoder.fit(df['YEARCHK'])\n",
        "\n",
        "# 매핑 딕셔너리 생성\n",
        "yearchk_map = dict(zip(\n",
        "    yearchk_encoder.classes_,\n",
        "    yearchk_encoder.transform(yearchk_encoder.classes_)\n",
        "))\n",
        "\n",
        "# 인코딩 적용\n",
        "df['YEARCHK_ENC'] = df['YEARCHK'].map(yearchk_map).astype(int)\n",
        "print(\"✅ df['YEARCHK'] 라벨 인코딩 완료\")\n",
        "\n",
        "# 2. 매핑 관계 확인\n",
        "print(\"\\n📋 YEARCHK 인코딩 매핑:\")\n",
        "print(df[['YEARCHK', 'YEARCHK_ENC']].drop_duplicates().sort_values('YEARCHK_ENC'))\n",
        "\n",
        "# 3. 원본 컬럼 제거\n",
        "df = df.drop(columns=['YEARCHK'], errors='ignore')\n",
        "print(\"\\n🧹 'YEARCHK' 원본 컬럼 삭제 완료\")\n",
        "\n",
        "# 4. 컬럼 수 확인\n",
        "print(f\"📊 현재 df의 컬럼 수: {len(df.columns)}개\")\n"
      ],
      "metadata": {
        "colab": {
          "base_uri": "https://localhost:8080/"
        },
        "id": "50JNS0Xmnwgz",
        "outputId": "f65df916-d1f4-45aa-fdd8-ed7f5ce967aa"
      },
      "execution_count": null,
      "outputs": [
        {
          "output_type": "stream",
          "name": "stdout",
          "text": [
            "✅ df['YEARCHK'] 라벨 인코딩 완료\n",
            "\n",
            "📋 YEARCHK 인코딩 매핑:\n",
            "  YEARCHK  YEARCHK_ENC\n",
            "0       N            0\n",
            "1       Y            1\n",
            "\n",
            "🧹 'YEARCHK' 원본 컬럼 삭제 완료\n",
            "📊 현재 df의 컬럼 수: 24개\n"
          ]
        }
      ]
    },
    {
      "cell_type": "code",
      "source": [
        "'''df_test['YEARCHK_ENC'] = df_test['YEARCHK'].map(yearchk_map).fillna(-1).astype(int)\n",
        "print(\"✅ df_test['YEARCHK'] 인코딩 완료 (unseen → -1)\")\n",
        "'''"
      ],
      "metadata": {
        "id": "Mbgrs38hn--4",
        "colab": {
          "base_uri": "https://localhost:8080/",
          "height": 36
        },
        "outputId": "3899afec-9d6e-4b26-84c2-b3672ffaa12e"
      },
      "execution_count": null,
      "outputs": [
        {
          "output_type": "execute_result",
          "data": {
            "text/plain": [
              "'df_test[\\'YEARCHK_ENC\\'] = df_test[\\'YEARCHK\\'].map(yearchk_map).fillna(-1).astype(int)\\nprint(\"✅ df_test[\\'YEARCHK\\'] 인코딩 완료 (unseen → -1)\")\\n'"
            ],
            "application/vnd.google.colaboratory.intrinsic+json": {
              "type": "string"
            }
          },
          "metadata": {},
          "execution_count": 394
        }
      ]
    },
    {
      "cell_type": "code",
      "source": [
        "from sklearn.preprocessing import LabelEncoder\n",
        "\n",
        "# 1. 고유값 확인\n",
        "print(\"🔍 df['INNEEXPOCLASCD_YN'] 고유값:\")\n",
        "print(sorted(df['INNEEXPOCLASCD_YN'].dropna().unique()))\n",
        "\n",
        "# 2. LabelEncoder 학습 및 적용\n",
        "yn_encoder = LabelEncoder()\n",
        "yn_encoder.fit(df['INNEEXPOCLASCD_YN'])\n",
        "\n",
        "# 3. 매핑 딕셔너리 생성\n",
        "yn_map = dict(zip(\n",
        "    yn_encoder.classes_,\n",
        "    yn_encoder.transform(yn_encoder.classes_)\n",
        "))\n",
        "\n",
        "# 4. 인코딩 적용\n",
        "df['INNEEXPOCLASCD_YN_ENC'] = df['INNEEXPOCLASCD_YN'].map(yn_map).astype(int)\n",
        "print(\"\\n✅ df['INNEEXPOCLASCD_YN'] 라벨 인코딩 완료\")\n",
        "\n",
        "# 5. 매핑 확인\n",
        "print(\"\\n📋 인코딩 매핑 확인:\")\n",
        "print(df[['INNEEXPOCLASCD_YN', 'INNEEXPOCLASCD_YN_ENC']].drop_duplicates().sort_values('INNEEXPOCLASCD_YN_ENC'))\n",
        "\n",
        "# 6. 원본 컬럼 삭제\n",
        "df = df.drop(columns=['INNEEXPOCLASCD_YN'], errors='ignore')\n",
        "print(\"\\n🧹 'INNEEXPOCLASCD_YN' 원본 컬럼 삭제 완료\")\n",
        "\n",
        "# 7. 컬럼 수 확인\n",
        "print(f\"📊 현재 df의 컬럼 수: {len(df.columns)}개\")\n"
      ],
      "metadata": {
        "colab": {
          "base_uri": "https://localhost:8080/"
        },
        "id": "z6ZiqTwKoPA5",
        "outputId": "905692d3-7381-46a8-91a2-15dd7d491d0f"
      },
      "execution_count": null,
      "outputs": [
        {
          "output_type": "stream",
          "name": "stdout",
          "text": [
            "🔍 df['INNEEXPOCLASCD_YN'] 고유값:\n",
            "['O', 'X']\n",
            "\n",
            "✅ df['INNEEXPOCLASCD_YN'] 라벨 인코딩 완료\n",
            "\n",
            "📋 인코딩 매핑 확인:\n",
            "  INNEEXPOCLASCD_YN  INNEEXPOCLASCD_YN_ENC\n",
            "6                 O                      0\n",
            "0                 X                      1\n",
            "\n",
            "🧹 'INNEEXPOCLASCD_YN' 원본 컬럼 삭제 완료\n",
            "📊 현재 df의 컬럼 수: 24개\n"
          ]
        }
      ]
    },
    {
      "cell_type": "code",
      "source": [
        "'''df_test['INNEEXPOCLASCD_YN_ENC'] = df_test['INNEEXPOCLASCD_YN'].map(yn_map).fillna(-1).astype(int)\n",
        "print(\"✅ df_test['INNEEXPOCLASCD_YN'] 인코딩 완료 (unseen → -1)\")\n",
        "'''"
      ],
      "metadata": {
        "id": "Gdvil1MVoYH5",
        "colab": {
          "base_uri": "https://localhost:8080/",
          "height": 54
        },
        "outputId": "838bbbe7-5f75-4ac5-a05c-45c4342c8fc1"
      },
      "execution_count": null,
      "outputs": [
        {
          "output_type": "execute_result",
          "data": {
            "text/plain": [
              "'df_test[\\'INNEEXPOCLASCD_YN_ENC\\'] = df_test[\\'INNEEXPOCLASCD_YN\\'].map(yn_map).fillna(-1).astype(int)\\nprint(\"✅ df_test[\\'INNEEXPOCLASCD_YN\\'] 인코딩 완료 (unseen → -1)\")\\n'"
            ],
            "application/vnd.google.colaboratory.intrinsic+json": {
              "type": "string"
            }
          },
          "metadata": {},
          "execution_count": 396
        }
      ]
    },
    {
      "cell_type": "markdown",
      "source": [
        "##EXHA 배기량 변수 이상치 처리 및 중앙값 저장"
      ],
      "metadata": {
        "id": "uKaahUVrPldK"
      }
    },
    {
      "cell_type": "markdown",
      "source": [
        "##배기량에 따른 차종 구분\n",
        "\n",
        "경차\t700 ~ 1100\n",
        "\n",
        "소형/준중형\t1101 ~ 1600\n",
        "\n",
        "중형\t1601 ~ 2200\n",
        "\n",
        "대형\t2201 ~ 3000\n",
        "\n",
        "고성능차/수입차\t3001 ~5000 (드묾)\n",
        "\n",
        "이상치 5000초과 및 700미만"
      ],
      "metadata": {
        "id": "D4EHnB9JQKDJ"
      }
    },
    {
      "cell_type": "code",
      "source": [
        "print(\" df['EXHA'] 고유값:\")\n",
        "print(sorted(df['EXHA'].dropna().unique()))"
      ],
      "metadata": {
        "colab": {
          "base_uri": "https://localhost:8080/"
        },
        "id": "Uh0rm40AolZ8",
        "outputId": "b09436ad-e885-49d3-a70c-5c1dbfb2e119"
      },
      "execution_count": null,
      "outputs": [
        {
          "output_type": "stream",
          "name": "stdout",
          "text": [
            " df['EXHA'] 고유값:\n",
            "[np.int64(0), np.int64(1), np.int64(50), np.int64(199), np.int64(796), np.int64(798), np.int64(800), np.int64(995), np.int64(997), np.int64(998), np.int64(999), np.int64(1000), np.int64(1300), np.int64(1343), np.int64(1395), np.int64(1396), np.int64(1399), np.int64(1400), np.int64(1492), np.int64(1493), np.int64(1495), np.int64(1500), np.int64(1580), np.int64(1582), np.int64(1590), np.int64(1591), np.int64(1594), np.int64(1596), np.int64(1598), np.int64(1599), np.int64(1600), np.int64(1685), np.int64(1700), np.int64(1795), np.int64(1798), np.int64(1800), np.int64(1836), np.int64(1975), np.int64(1991), np.int64(1995), np.int64(1997), np.int64(1998), np.int64(1999), np.int64(2000), np.int64(2199), np.int64(2200), np.int64(2349), np.int64(2359), np.int64(2395), np.int64(2399), np.int64(2400), np.int64(2650), np.int64(2651), np.int64(2656), np.int64(2696), np.int64(2700), np.int64(2902), np.int64(2957), np.int64(2972), np.int64(2997), np.int64(2999), np.int64(3000), np.int64(3300), np.int64(3342), np.int64(3362), np.int64(3470), np.int64(3497), np.int64(3500), np.int64(3778), np.int64(3800), np.int64(5000), np.int64(5038)]\n"
          ]
        }
      ]
    },
    {
      "cell_type": "code",
      "source": [
        "exha = df['EXHA']\n",
        "\n",
        "# 각 구간별 개수\n",
        "light = ((exha >= 700) & (exha <= 1100)).sum()\n",
        "compact = ((exha >= 1101) & (exha <= 1600)).sum()\n",
        "midsize = ((exha >= 1601) & (exha <= 2200)).sum()\n",
        "fullsize = ((exha >= 2201) & (exha <= 3000)).sum()\n",
        "highperf = ((exha >= 3001) & (exha <= 5000)).sum()\n",
        "outlier = ((exha > 5000) | (exha < 700)).sum()\n",
        "\n",
        "# 출력\n",
        "print(f\"\\n🚘 df - EXHA 분포 (최종 기준)\")\n",
        "print(f\" - 경차 (700~1100): {light}\")\n",
        "print(f\" - 소형/준중형 (1101~1600): {compact}\")\n",
        "print(f\" - 중형 (1601~2200): {midsize}\")\n",
        "print(f\" - 대형 (2201~3000): {fullsize}\")\n",
        "print(f\" - 고성능/수입차 (3001~5000): {highperf}\")\n",
        "print(f\" - ❗ 이상치 (<700 or >5000): {outlier}\")\n"
      ],
      "metadata": {
        "colab": {
          "base_uri": "https://localhost:8080/"
        },
        "id": "hCcMMBdeP_Uk",
        "outputId": "64287071-33d4-4be0-92a3-57ed9aeeeab0"
      },
      "execution_count": null,
      "outputs": [
        {
          "output_type": "stream",
          "name": "stdout",
          "text": [
            "\n",
            "🚘 df - EXHA 분포 (최종 기준)\n",
            " - 경차 (700~1100): 12121\n",
            " - 소형/준중형 (1101~1600): 6301\n",
            " - 중형 (1601~2200): 10557\n",
            " - 대형 (2201~3000): 5525\n",
            " - 고성능/수입차 (3001~5000): 2209\n",
            " - ❗ 이상치 (<700 or >5000): 80\n"
          ]
        }
      ]
    },
    {
      "cell_type": "code",
      "source": [
        "import numpy as np\n",
        "\n",
        "# 1. 이상치를 NaN으로 처리\n",
        "df['EXHA'] = df['EXHA'].where((df['EXHA'] >= 700) & (df['EXHA'] <= 5000), other=np.nan)\n",
        "\n",
        "# 2. 중앙값 계산\n",
        "exha_median = df['EXHA'].median()\n",
        "\n",
        "# 3. NaN을 중앙값으로 대체\n",
        "df['EXHA'] = df['EXHA'].fillna(exha_median)\n",
        "\n",
        "print(f\"✅ df['EXHA']: 이상치 → NaN → 중앙값({exha_median:.2f})으로 대체 완료\")"
      ],
      "metadata": {
        "colab": {
          "base_uri": "https://localhost:8080/"
        },
        "id": "BESYGC0gP5BR",
        "outputId": "15e28036-84b1-4674-b43e-461f9e5ba1a9"
      },
      "execution_count": null,
      "outputs": [
        {
          "output_type": "stream",
          "name": "stdout",
          "text": [
            "✅ df['EXHA']: 이상치 → NaN → 중앙값(1600.00)으로 대체 완료\n"
          ]
        }
      ]
    },
    {
      "cell_type": "code",
      "source": [
        "exha_median = df['EXHA'].median()"
      ],
      "metadata": {
        "id": "hBR7n-zUSMiq"
      },
      "execution_count": null,
      "outputs": []
    },
    {
      "cell_type": "code",
      "source": [
        "'''# 예시: test셋에 같은 기준 적용\n",
        "df_test['EXHA'] = df_test['EXHA'].where((df_test['EXHA'] >= 700) & (df_test['EXHA'] <= 5000), other=np.nan)\n",
        "df_test['EXHA'] = df_test['EXHA'].fillna(median)\n",
        "\n",
        "print(f\"✅ df_test['EXHA']: '''"
      ],
      "metadata": {
        "id": "pFnvcU3DpL5j",
        "colab": {
          "base_uri": "https://localhost:8080/",
          "height": 54
        },
        "outputId": "e34e553e-b42a-4c14-bb8d-e76fc51b2805"
      },
      "execution_count": null,
      "outputs": [
        {
          "output_type": "execute_result",
          "data": {
            "text/plain": [
              "'# 예시: test셋에 같은 기준 적용\\ndf_test[\\'EXHA\\'] = df_test[\\'EXHA\\'].where((df_test[\\'EXHA\\'] >= 700) & (df_test[\\'EXHA\\'] <= 5000), other=np.nan)\\ndf_test[\\'EXHA\\'] = df_test[\\'EXHA\\'].fillna(median)\\n\\nprint(f\"✅ df_test[\\'EXHA\\']: '"
            ],
            "application/vnd.google.colaboratory.intrinsic+json": {
              "type": "string"
            }
          },
          "metadata": {},
          "execution_count": 401
        }
      ]
    },
    {
      "cell_type": "code",
      "source": [
        "len(df.columns)"
      ],
      "metadata": {
        "colab": {
          "base_uri": "https://localhost:8080/"
        },
        "outputId": "611648c7-a5d2-4267-e9d3-e120dec8547e",
        "id": "LT2pBnUFTWDH"
      },
      "execution_count": null,
      "outputs": [
        {
          "output_type": "execute_result",
          "data": {
            "text/plain": [
              "24"
            ]
          },
          "metadata": {},
          "execution_count": 402
        }
      ]
    },
    {
      "cell_type": "markdown",
      "source": [
        "##TRAVDIST 주행 거리로부터 파생변수 생성\n"
      ],
      "metadata": {
        "id": "UbbkmGqzTsM_"
      }
    },
    {
      "cell_type": "code",
      "source": [
        "import matplotlib.pyplot as plt\n",
        "import seaborn as sns\n",
        "\n",
        "plt.figure(figsize=(10, 5))\n",
        "sns.histplot(df['TRAVDIST'], bins=50, kde=True, color='skyblue')\n",
        "plt.title('Distribution of TRAVDIST')\n",
        "plt.xlabel('TRAVDIST')\n",
        "plt.ylabel('Frequency')\n",
        "plt.grid(True)\n",
        "plt.show()\n"
      ],
      "metadata": {
        "colab": {
          "base_uri": "https://localhost:8080/",
          "height": 487
        },
        "id": "W3ZttZ5tpcY3",
        "outputId": "1b424c2d-284f-4829-f3fe-950214f7dba9"
      },
      "execution_count": null,
      "outputs": [
        {
          "output_type": "display_data",
          "data": {
            "text/plain": [
              "<Figure size 1000x500 with 1 Axes>"
            ],
            "image/png": "[encoded data removed]"
          },
          "metadata": {}
        }
      ]
    },
    {
      "cell_type": "code",
      "source": [
        "import numpy as np\n",
        "\n",
        "# 1. 로그 변환 (log1p = log(1 + x))\n",
        "df['TRAVDIST_LOG'] = np.log1p(df['TRAVDIST'])\n",
        "\n",
        "print(\"✅ df['TRAVDIST'] → df['TRAVDIST_LOG'] (log1p) 변환 완료\")\n"
      ],
      "metadata": {
        "colab": {
          "base_uri": "https://localhost:8080/"
        },
        "id": "Y0R08EwyT_Sn",
        "outputId": "fc7d6826-3d6e-4991-877b-03cc626f390f"
      },
      "execution_count": null,
      "outputs": [
        {
          "output_type": "stream",
          "name": "stdout",
          "text": [
            "✅ df['TRAVDIST'] → df['TRAVDIST_LOG'] (log1p) 변환 완료\n"
          ]
        }
      ]
    },
    {
      "cell_type": "code",
      "source": [
        "import matplotlib.pyplot as plt\n",
        "import seaborn as sns\n",
        "\n",
        "plt.figure(figsize=(10, 5))\n",
        "sns.histplot(df['TRAVDIST_LOG'], bins=50, kde=True, color='teal')\n",
        "plt.title('Distribution of TRAVDIST_LOG (log1p scale)')\n",
        "plt.xlabel('TRAVDIST_LOG')\n",
        "plt.ylabel('Frequency')\n",
        "plt.grid(True)\n",
        "plt.show()\n",
        "\n"
      ],
      "metadata": {
        "colab": {
          "base_uri": "https://localhost:8080/",
          "height": 487
        },
        "id": "Ije7pIogUy01",
        "outputId": "29e3c9f0-5838-4407-d993-3ce15abee14d"
      },
      "execution_count": null,
      "outputs": [
        {
          "output_type": "display_data",
          "data": {
            "text/plain": [
              "<Figure size 1000x500 with 1 Axes>"
            ],
            "image/png": "[encoded data removed]"
          },
          "metadata": {}
        }
      ]
    },
    {
      "cell_type": "code",
      "source": [
        "# 왜도 계산\n",
        "original_skew = df['TRAVDIST'].skew()\n",
        "log_skew = df['TRAVDIST_LOG'].skew()\n",
        "\n",
        "# 결과 출력\n",
        "print(\"📊 df - Skewness 비교\")\n",
        "print(f\" - TRAVDIST        : {original_skew:.4f}\")\n",
        "print(f\" - TRAVDIST_LOG    : {log_skew:.4f} ✅ {'(개선됨)' if abs(log_skew) < abs(original_skew) else '(로그변환 무의미)'}\")"
      ],
      "metadata": {
        "colab": {
          "base_uri": "https://localhost:8080/"
        },
        "id": "2kq5hMIHUuw3",
        "outputId": "b99da635-e2db-4c75-e805-2acc896b3a77"
      },
      "execution_count": null,
      "outputs": [
        {
          "output_type": "stream",
          "name": "stdout",
          "text": [
            "📊 df - Skewness 비교\n",
            " - TRAVDIST        : 0.9345\n",
            " - TRAVDIST_LOG    : -2.3562 ✅ (로그변환 무의미)\n"
          ]
        }
      ]
    },
    {
      "cell_type": "markdown",
      "source": [
        "로그 변환을 해도 Skewness가 좋아지지 않아 로그 변환 안 하고 이상치 제거하는 방식 선택"
      ],
      "metadata": {
        "id": "G81hhy4VdALP"
      }
    },
    {
      "cell_type": "code",
      "source": [
        "import matplotlib.pyplot as plt\n",
        "import seaborn as sns\n",
        "\n",
        "plt.figure(figsize=(10, 2))\n",
        "sns.boxplot(x=df['TRAVDIST'], color='skyblue')\n",
        "plt.title('Boxplot of TRAVDIST')\n",
        "plt.xlabel('TRAVDIST')\n",
        "plt.grid(True, axis='x')\n",
        "plt.show()\n",
        "\n"
      ],
      "metadata": {
        "colab": {
          "base_uri": "https://localhost:8080/",
          "height": 256
        },
        "id": "AulYH4ATVYR7",
        "outputId": "d3e429fb-14cd-4a89-e886-85287c35c7a0"
      },
      "execution_count": null,
      "outputs": [
        {
          "output_type": "display_data",
          "data": {
            "text/plain": [
              "<Figure size 1000x200 with 1 Axes>"
            ],
            "image/png": "[encoded data removed]"
          },
          "metadata": {}
        }
      ]
    },
    {
      "cell_type": "markdown",
      "source": [
        "##상위 0.1% 이상치 제거 후 nan 처리 -> median으로 대체"
      ],
      "metadata": {
        "id": "_HmLyFz2Vocc"
      }
    },
    {
      "cell_type": "code",
      "source": [
        "import numpy as np\n",
        "\n",
        "# 1. 상위 0.1% 기준값 계산\n",
        "threshold = df['TRAVDIST'].quantile(0.999)\n",
        "\n",
        "# 2. 이상치 → NaN 처리\n",
        "df['TRAVDIST'] = df['TRAVDIST'].where(df['TRAVDIST'] <= threshold, np.nan)\n",
        "\n",
        "# 3. 중앙값 계산\n",
        "median_tra = df['TRAVDIST'].median()\n",
        "\n",
        "# 4. NaN → 중앙값으로 대체\n",
        "df['TRAVDIST'] = df['TRAVDIST'].fillna(median_tra)\n",
        "\n",
        "print(f\"✅ df['TRAVDIST']: 상위 0.1% 이상치 제거 후 중앙값({median_tra:.0f})으로 대체 완료\")\n"
      ],
      "metadata": {
        "colab": {
          "base_uri": "https://localhost:8080/"
        },
        "id": "wAPuQhXpVoE4",
        "outputId": "0d1dfb16-b0fa-4e66-bf73-195548115c47"
      },
      "execution_count": null,
      "outputs": [
        {
          "output_type": "stream",
          "name": "stdout",
          "text": [
            "✅ df['TRAVDIST']: 상위 0.1% 이상치 제거 후 중앙값(80270)으로 대체 완료\n"
          ]
        }
      ]
    },
    {
      "cell_type": "code",
      "source": [
        "median_tra"
      ],
      "metadata": {
        "colab": {
          "base_uri": "https://localhost:8080/"
        },
        "id": "ZFkRkM0wqUmW",
        "outputId": "5447c795-abd0-4e72-c62f-e6ceb07b5341"
      },
      "execution_count": null,
      "outputs": [
        {
          "output_type": "execute_result",
          "data": {
            "text/plain": [
              "80270.5"
            ]
          },
          "metadata": {},
          "execution_count": 409
        }
      ]
    },
    {
      "cell_type": "code",
      "source": [
        "import matplotlib.pyplot as plt\n",
        "import seaborn as sns\n",
        "\n",
        "plt.figure(figsize=(10, 2))\n",
        "sns.boxplot(x=df['TRAVDIST'], color='skyblue')\n",
        "plt.title('Boxplot of TRAVDIST')\n",
        "plt.xlabel('TRAVDIST')\n",
        "plt.grid(True, axis='x')\n",
        "plt.show()"
      ],
      "metadata": {
        "colab": {
          "base_uri": "https://localhost:8080/",
          "height": 256
        },
        "outputId": "5b4bc177-ccd5-4b7c-b2d2-83ffdd0a681b",
        "id": "euSG8u48WAHG"
      },
      "execution_count": null,
      "outputs": [
        {
          "output_type": "display_data",
          "data": {
            "text/plain": [
              "<Figure size 1000x200 with 1 Axes>"
            ],
            "image/png": "[encoded data removed]"
          },
          "metadata": {}
        }
      ]
    },
    {
      "cell_type": "code",
      "source": [
        "'''# df_test에 동일한 기준 적용\n",
        "df_test['TRAVDIST'] = df_test['TRAVDIST'].where(df_test['TRAVDIST'] <= threshold, np.nan)\n",
        "df_test['TRAVDIST'] = df_test['TRAVDIST'].fillna(median_tra)\n",
        "\n",
        "print(f\"✅ df_test['TRAVDIST']: 동일 기준 적용 (NaN → 중앙값 {median_tra:.0f}으로 대체)\")\n",
        "'''"
      ],
      "metadata": {
        "colab": {
          "base_uri": "https://localhost:8080/",
          "height": 54
        },
        "id": "Ve-GXc16XMeY",
        "outputId": "af72ea53-d88d-4e24-dfec-0ea7f835d4ab"
      },
      "execution_count": null,
      "outputs": [
        {
          "output_type": "execute_result",
          "data": {
            "text/plain": [
              "'# df_test에 동일한 기준 적용\\ndf_test[\\'TRAVDIST\\'] = df_test[\\'TRAVDIST\\'].where(df_test[\\'TRAVDIST\\'] <= threshold, np.nan)\\ndf_test[\\'TRAVDIST\\'] = df_test[\\'TRAVDIST\\'].fillna(median_tra)\\n\\nprint(f\"✅ df_test[\\'TRAVDIST\\']: 동일 기준 적용 (NaN → 중앙값 {median_tra:.0f}으로 대체)\")\\n'"
            ],
            "application/vnd.google.colaboratory.intrinsic+json": {
              "type": "string"
            }
          },
          "metadata": {},
          "execution_count": 411
        }
      ]
    },
    {
      "cell_type": "code",
      "source": [
        "# TRAVDIST_LOG 컬럼 삭제\n",
        "if 'TRAVDIST_LOG' in df.columns:\n",
        "    df = df.drop(columns=['TRAVDIST_LOG'])\n",
        "    print(\"🧹 df: 'TRAVDIST_LOG' 컬럼 삭제 완료\")\n",
        "else:\n",
        "    print(\"✅ df: 'TRAVDIST_LOG' 컬럼 없음 (이미 삭제됨)\")\n"
      ],
      "metadata": {
        "colab": {
          "base_uri": "https://localhost:8080/"
        },
        "id": "ZiJke1BjqcWQ",
        "outputId": "c9f296a3-c28d-4a65-e9c6-d149b45f940d"
      },
      "execution_count": null,
      "outputs": [
        {
          "output_type": "stream",
          "name": "stdout",
          "text": [
            "🧹 df: 'TRAVDIST_LOG' 컬럼 삭제 완료\n"
          ]
        }
      ]
    },
    {
      "cell_type": "code",
      "source": [
        "len(df.columns)"
      ],
      "metadata": {
        "colab": {
          "base_uri": "https://localhost:8080/"
        },
        "id": "eWx-bfmjqjvo",
        "outputId": "6097201a-ff1f-446b-cb28-519675fe4b45"
      },
      "execution_count": null,
      "outputs": [
        {
          "output_type": "execute_result",
          "data": {
            "text/plain": [
              "24"
            ]
          },
          "metadata": {},
          "execution_count": 413
        }
      ]
    },
    {
      "cell_type": "markdown",
      "source": [
        "##연간 주행거리 계산"
      ],
      "metadata": {
        "id": "0fVhSHDqYPyj"
      }
    },
    {
      "cell_type": "code",
      "source": [
        "# 1. 연도 추출\n",
        "df['SUCCYEAR'] = df['SUCCYMD'].astype(str).str[:4].astype(int)\n",
        "df['CARREGIYEAR'] = df['CARREGIYMD'].astype(str).str[:4].astype(int)\n",
        "\n",
        "# 2. 차령 계산 (최소 1년)\n",
        "df['CAR_AGE'] = (df['SUCCYEAR'] - df['CARREGIYEAR']).clip(lower=1)\n",
        "\n",
        "# 3. 연간 주행거리\n",
        "df['ANNUAL_TRAVDIST'] = df['TRAVDIST'] / df['CAR_AGE']\n",
        "\n",
        "print(\"✅ df: SUCCYEAR, CARREGIYEAR, CAR_AGE, ANNUAL_TRAVDIST 생성 완료\")\n"
      ],
      "metadata": {
        "colab": {
          "base_uri": "https://localhost:8080/"
        },
        "id": "67UTTfymYSLz",
        "outputId": "84e222f0-bd79-471d-f031-f11c4420a9ac"
      },
      "execution_count": null,
      "outputs": [
        {
          "output_type": "stream",
          "name": "stdout",
          "text": [
            "✅ df: SUCCYEAR, CARREGIYEAR, CAR_AGE, ANNUAL_TRAVDIST 생성 완료\n"
          ]
        }
      ]
    },
    {
      "cell_type": "code",
      "source": [
        "# 1. 연도 추출\n",
        "df['SUCCYEAR'] = df['SUCCYMD'].astype(str).str[:4].astype(int)\n",
        "df['CARREGIYEAR'] = df['CARREGIYMD'].astype(str).str[:4].astype(int)\n",
        "\n",
        "# 2. 차령 계산 (최소 1년)\n",
        "df['CAR_AGE'] = (df['SUCCYEAR'] - df['CARREGIYEAR']).clip(lower=1)\n",
        "\n",
        "# 3. 연간 주행거리\n",
        "df['ANNUAL_TRAVDIST'] = df['TRAVDIST'] / df['CAR_AGE']\n",
        "\n",
        "print(\"✅ df: SUCCYEAR, CARREGIYEAR, CAR_AGE, ANNUAL_TRAVDIST 생성 완료\")\n"
      ],
      "metadata": {
        "colab": {
          "base_uri": "https://localhost:8080/"
        },
        "id": "_LS-QRgGYs4O",
        "outputId": "8b43df35-fbf7-4bd8-af01-8853265a1ca0"
      },
      "execution_count": null,
      "outputs": [
        {
          "output_type": "stream",
          "name": "stdout",
          "text": [
            "✅ df: SUCCYEAR, CARREGIYEAR, CAR_AGE, ANNUAL_TRAVDIST 생성 완료\n"
          ]
        }
      ]
    },
    {
      "cell_type": "code",
      "source": [
        "cols_to_drop = ['SUCCYEAR', 'CARREGIYEAR', 'CAR_AGE']\n",
        "\n",
        "df = df.drop(columns=cols_to_drop, errors='ignore')\n",
        "print(\"🧹 df: SUCCYEAR, CARREGIYEAR, CAR_AGE 컬럼 삭제 완료\")\n"
      ],
      "metadata": {
        "colab": {
          "base_uri": "https://localhost:8080/"
        },
        "id": "-GJYIo-pYuGj",
        "outputId": "c9613097-0f9d-4b21-e11c-16f9f13073d4"
      },
      "execution_count": null,
      "outputs": [
        {
          "output_type": "stream",
          "name": "stdout",
          "text": [
            "🧹 df: SUCCYEAR, CARREGIYEAR, CAR_AGE 컬럼 삭제 완료\n"
          ]
        }
      ]
    },
    {
      "cell_type": "code",
      "source": [
        "len(df.columns)"
      ],
      "metadata": {
        "colab": {
          "base_uri": "https://localhost:8080/"
        },
        "id": "mdlvhE0rY5Mj",
        "outputId": "1a56da71-c338-4631-f841-81bc61381212"
      },
      "execution_count": null,
      "outputs": [
        {
          "output_type": "execute_result",
          "data": {
            "text/plain": [
              "25"
            ]
          },
          "metadata": {},
          "execution_count": 417
        }
      ]
    },
    {
      "cell_type": "code",
      "source": [
        "df.columns"
      ],
      "metadata": {
        "colab": {
          "base_uri": "https://localhost:8080/"
        },
        "id": "Pe2jAshUzCyn",
        "outputId": "6b5f4336-8913-41a4-e6d6-cb2798ac4b03"
      },
      "execution_count": null,
      "outputs": [
        {
          "output_type": "execute_result",
          "data": {
            "text/plain": [
              "Index(['SUCCYMD', 'CARREGIYMD', 'YEAR', 'EXHA', 'TRAVDIST', 'NEWCARPRIC',\n",
              "       'SUCCPRIC', 'FLOODING', 'TOTAL_LOSS', 'JOINCAR', 'NOTAVAILABLE',\n",
              "       'NC_GRADE_KEY', 'SHIPPING_PRICE', 'NC_GRADE_PRICE', 'CAR_NAME_ENC',\n",
              "       'DAMAGE_COUNT', 'OPTION_COUNT', 'COLOR_ENC', 'MISSNM_ENC',\n",
              "       'USEUSENM_ENC', 'OWNECLASNM_ENC', 'FUELNM_ENC', 'YEARCHK_ENC',\n",
              "       'INNEEXPOCLASCD_YN_ENC', 'ANNUAL_TRAVDIST'],\n",
              "      dtype='object')"
            ]
          },
          "metadata": {},
          "execution_count": 418
        }
      ]
    },
    {
      "cell_type": "markdown",
      "source": [
        "##SEASON 변수 생성\n",
        "\n",
        "→ 낙찰일자에서 1-3월(Q1), 4-6월(Q2), 7-9월(Q3), 10-12월(Q4) 4개의 기간 구분\n",
        "\n",
        "→ 연초(Q1)는 비수기라 가격 낮을 가능성 존재\n",
        "\n",
        "→ 여름방학 및 휴가철(Q3)는 성수기라 가격 높을 가능성 존재\n",
        "\n",
        "→ 연말(Q4)는 연식이 바뀌기 직전이라 할인이 많을 가능성 존재\n",
        "\n",
        "- 차량이 언제 낙찰되었는지에 따라 가격이 달라질 수 있기에 중요한 변수\n"
      ],
      "metadata": {
        "id": "f6tobWpZZLHz"
      }
    },
    {
      "cell_type": "code",
      "source": [
        "# 분기 추출 함수\n",
        "def get_quarter(month):\n",
        "    if month in [1, 2, 3]:\n",
        "        return 'Q1'\n",
        "    elif month in [4, 5, 6]:\n",
        "        return 'Q2'\n",
        "    elif month in [7, 8, 9]:\n",
        "        return 'Q3'\n",
        "    else:\n",
        "        return 'Q4'\n",
        "\n",
        "# 문자열에서 월 추출 후 → 분기로 매핑\n",
        "df['AUCTION_QUARTER'] = df['SUCCYMD'].astype(str).str[4:6].astype(int).map(get_quarter)\n",
        "\n",
        "print(\"✅ df: AUCTION_QUARTER 컬럼 생성 완료\")\n"
      ],
      "metadata": {
        "colab": {
          "base_uri": "https://localhost:8080/"
        },
        "id": "Z7yHzJ6ezSLk",
        "outputId": "6bdd9bdc-7bfc-464b-d881-ac0edbfcd30d"
      },
      "execution_count": null,
      "outputs": [
        {
          "output_type": "stream",
          "name": "stdout",
          "text": [
            "✅ df: AUCTION_QUARTER 컬럼 생성 완료\n"
          ]
        }
      ]
    },
    {
      "cell_type": "code",
      "source": [
        "print(\"📘 df - AUCTION_QUARTER 확인:\")\n",
        "print(df[['AUCTION_QUARTER', 'SUCCYMD']].head())"
      ],
      "metadata": {
        "colab": {
          "base_uri": "https://localhost:8080/"
        },
        "id": "MDP3lhmVZdeh",
        "outputId": "4bdb73f3-7fa1-4845-cd61-075ebeed25de"
      },
      "execution_count": null,
      "outputs": [
        {
          "output_type": "stream",
          "name": "stdout",
          "text": [
            "📘 df - AUCTION_QUARTER 확인:\n",
            "  AUCTION_QUARTER   SUCCYMD\n",
            "0              Q1  20160105\n",
            "1              Q1  20160105\n",
            "2              Q1  20160105\n",
            "3              Q1  20160105\n",
            "4              Q1  20160105\n"
          ]
        }
      ]
    },
    {
      "cell_type": "code",
      "source": [
        "from sklearn.preprocessing import LabelEncoder\n",
        "\n",
        "# 1. LabelEncoder 학습 (전체 df 기준)\n",
        "quarter_encoder = LabelEncoder()\n",
        "quarter_encoder.fit(df['AUCTION_QUARTER'])\n",
        "\n",
        "# 2. 매핑 딕셔너리 생성\n",
        "quarter_map = dict(zip(\n",
        "    quarter_encoder.classes_,\n",
        "    quarter_encoder.transform(quarter_encoder.classes_)\n",
        "))\n",
        "\n",
        "# 3. 인코딩 적용\n",
        "df['AUCTION_QUARTER_ENC'] = df['AUCTION_QUARTER'].map(quarter_map).astype(int)\n",
        "\n",
        "print(f\"✅ df['AUCTION_QUARTER'] 라벨 인코딩 완료 (클래스 수: {len(quarter_map)})\")\n"
      ],
      "metadata": {
        "colab": {
          "base_uri": "https://localhost:8080/"
        },
        "id": "9NgyjFkXzkE0",
        "outputId": "ac26a873-cfba-4dbf-ab59-b42721d152e5"
      },
      "execution_count": null,
      "outputs": [
        {
          "output_type": "stream",
          "name": "stdout",
          "text": [
            "✅ df['AUCTION_QUARTER'] 라벨 인코딩 완료 (클래스 수: 4)\n"
          ]
        }
      ]
    },
    {
      "cell_type": "code",
      "source": [
        "'''df_test['AUCTION_QUARTER_ENC'] = df_test['AUCTION_QUARTER'].map(quarter_map).fillna(-1).astype(int)\n",
        "print(\"✅ df_test['AUCTION_QUARTER'] 인코딩 완료 (unseen → -1)\")\n",
        "'''"
      ],
      "metadata": {
        "id": "I1HLcsbfzpMl",
        "colab": {
          "base_uri": "https://localhost:8080/",
          "height": 54
        },
        "outputId": "c9a7e945-d943-445f-82b0-71ae47e56d61"
      },
      "execution_count": null,
      "outputs": [
        {
          "output_type": "execute_result",
          "data": {
            "text/plain": [
              "'df_test[\\'AUCTION_QUARTER_ENC\\'] = df_test[\\'AUCTION_QUARTER\\'].map(quarter_map).fillna(-1).astype(int)\\nprint(\"✅ df_test[\\'AUCTION_QUARTER\\'] 인코딩 완료 (unseen → -1)\")\\n'"
            ],
            "application/vnd.google.colaboratory.intrinsic+json": {
              "type": "string"
            }
          },
          "metadata": {},
          "execution_count": 422
        }
      ]
    },
    {
      "cell_type": "code",
      "source": [
        "print(\"📘 df - AUCTION_QUARTER 인코딩 확인:\")\n",
        "print(df[['AUCTION_QUARTER', 'AUCTION_QUARTER_ENC']].head())\n",
        "print(\"📋 AUCTION_QUARTER ↔ AUCTION_QUARTER_ENC 매핑 (중복 제거):\")\n",
        "print(df[['AUCTION_QUARTER', 'AUCTION_QUARTER_ENC']].drop_duplicates().sort_values('AUCTION_QUARTER_ENC'))"
      ],
      "metadata": {
        "colab": {
          "base_uri": "https://localhost:8080/"
        },
        "id": "-mbN61-nzqbK",
        "outputId": "a1fe5754-b2ce-4be2-86a4-1644b599b7b1"
      },
      "execution_count": null,
      "outputs": [
        {
          "output_type": "stream",
          "name": "stdout",
          "text": [
            "📘 df - AUCTION_QUARTER 인코딩 확인:\n",
            "  AUCTION_QUARTER  AUCTION_QUARTER_ENC\n",
            "0              Q1                    0\n",
            "1              Q1                    0\n",
            "2              Q1                    0\n",
            "3              Q1                    0\n",
            "4              Q1                    0\n",
            "📋 AUCTION_QUARTER ↔ AUCTION_QUARTER_ENC 매핑 (중복 제거):\n",
            "     AUCTION_QUARTER  AUCTION_QUARTER_ENC\n",
            "0                 Q1                    0\n",
            "2510              Q2                    1\n",
            "5319              Q3                    2\n",
            "7739              Q4                    3\n"
          ]
        }
      ]
    },
    {
      "cell_type": "code",
      "source": [
        "df = df.drop(columns=['AUCTION_QUARTER'], errors='ignore')\n",
        "print(\"🧹 df: 'AUCTION_QUARTER' 컬럼 삭제 완료\")"
      ],
      "metadata": {
        "colab": {
          "base_uri": "https://localhost:8080/"
        },
        "id": "-qoxugKY0CXg",
        "outputId": "d2f8dee3-fa3a-4b35-b6cb-fcc33d16695f"
      },
      "execution_count": null,
      "outputs": [
        {
          "output_type": "stream",
          "name": "stdout",
          "text": [
            "🧹 df: 'AUCTION_QUARTER' 컬럼 삭제 완료\n"
          ]
        }
      ]
    },
    {
      "cell_type": "code",
      "source": [
        "df.columns"
      ],
      "metadata": {
        "id": "zusYrtGH0god",
        "outputId": "60ffec35-3b06-4a92-a3ee-a7ffd7d84aed",
        "colab": {
          "base_uri": "https://localhost:8080/"
        }
      },
      "execution_count": null,
      "outputs": [
        {
          "output_type": "execute_result",
          "data": {
            "text/plain": [
              "Index(['SUCCYMD', 'CARREGIYMD', 'YEAR', 'EXHA', 'TRAVDIST', 'NEWCARPRIC',\n",
              "       'SUCCPRIC', 'FLOODING', 'TOTAL_LOSS', 'JOINCAR', 'NOTAVAILABLE',\n",
              "       'NC_GRADE_KEY', 'SHIPPING_PRICE', 'NC_GRADE_PRICE', 'CAR_NAME_ENC',\n",
              "       'DAMAGE_COUNT', 'OPTION_COUNT', 'COLOR_ENC', 'MISSNM_ENC',\n",
              "       'USEUSENM_ENC', 'OWNECLASNM_ENC', 'FUELNM_ENC', 'YEARCHK_ENC',\n",
              "       'INNEEXPOCLASCD_YN_ENC', 'ANNUAL_TRAVDIST', 'AUCTION_QUARTER_ENC'],\n",
              "      dtype='object')"
            ]
          },
          "metadata": {},
          "execution_count": 425
        }
      ]
    },
    {
      "cell_type": "markdown",
      "source": [
        "##사용 일수 파생 변수 생성"
      ],
      "metadata": {
        "id": "Z3i4AEBa2P4q"
      }
    },
    {
      "cell_type": "code",
      "source": [
        "# 1. 날짜 형식 변환\n",
        "df['SUCCYMD'] = pd.to_datetime(df['SUCCYMD'], format='%Y%m%d')\n",
        "df['CARREGIYMD'] = pd.to_datetime(df['CARREGIYMD'], format='%Y%m%d')\n",
        "\n",
        "# 2. 사용일수 계산\n",
        "df['USED_DAYS'] = (df['SUCCYMD'] - df['CARREGIYMD']).dt.days\n",
        "\n",
        "print(\"📆 df: 'USED_DAYS' 컬럼 생성 완료\")"
      ],
      "metadata": {
        "colab": {
          "base_uri": "https://localhost:8080/"
        },
        "id": "oYs-tQWW2aq2",
        "outputId": "31a5dfd9-76ea-4dce-a333-df0f8424699e"
      },
      "execution_count": null,
      "outputs": [
        {
          "output_type": "stream",
          "name": "stdout",
          "text": [
            "📆 df: 'USED_DAYS' 컬럼 생성 완료\n"
          ]
        }
      ]
    },
    {
      "cell_type": "code",
      "source": [
        "df['USED_DAYS']"
      ],
      "metadata": {
        "colab": {
          "base_uri": "https://localhost:8080/",
          "height": 458
        },
        "id": "T19R5TxO2fMk",
        "outputId": "96fabf47-9dcc-418a-dfa9-9f42423bf483"
      },
      "execution_count": null,
      "outputs": [
        {
          "output_type": "execute_result",
          "data": {
            "text/plain": [
              "0        2029\n",
              "1        1062\n",
              "2         707\n",
              "3        1113\n",
              "4        1713\n",
              "         ... \n",
              "36789    1557\n",
              "36790    1617\n",
              "36791    1478\n",
              "36792    1770\n",
              "36793    1820\n",
              "Name: USED_DAYS, Length: 36793, dtype: int64"
            ],
            "text/html": [
              "<div>\n",
              "<style scoped>\n",
              "    .dataframe tbody tr th:only-of-type {\n",
              "        vertical-align: middle;\n",
              "    }\n",
              "\n",
              "    .dataframe tbody tr th {\n",
              "        vertical-align: top;\n",
              "    }\n",
              "\n",
              "    .dataframe thead th {\n",
              "        text-align: right;\n",
              "    }\n",
              "</style>\n",
              "<table border=\"1\" class=\"dataframe\">\n",
              "  <thead>\n",
              "    <tr style=\"text-align: right;\">\n",
              "      <th></th>\n",
              "      <th>USED_DAYS</th>\n",
              "    </tr>\n",
              "  </thead>\n",
              "  <tbody>\n",
              "    <tr>\n",
              "      <th>0</th>\n",
              "      <td>2029</td>\n",
              "    </tr>\n",
              "    <tr>\n",
              "      <th>1</th>\n",
              "      <td>1062</td>\n",
              "    </tr>\n",
              "    <tr>\n",
              "      <th>2</th>\n",
              "      <td>707</td>\n",
              "    </tr>\n",
              "    <tr>\n",
              "      <th>3</th>\n",
              "      <td>1113</td>\n",
              "    </tr>\n",
              "    <tr>\n",
              "      <th>4</th>\n",
              "      <td>1713</td>\n",
              "    </tr>\n",
              "    <tr>\n",
              "      <th>...</th>\n",
              "      <td>...</td>\n",
              "    </tr>\n",
              "    <tr>\n",
              "      <th>36789</th>\n",
              "      <td>1557</td>\n",
              "    </tr>\n",
              "    <tr>\n",
              "      <th>36790</th>\n",
              "      <td>1617</td>\n",
              "    </tr>\n",
              "    <tr>\n",
              "      <th>36791</th>\n",
              "      <td>1478</td>\n",
              "    </tr>\n",
              "    <tr>\n",
              "      <th>36792</th>\n",
              "      <td>1770</td>\n",
              "    </tr>\n",
              "    <tr>\n",
              "      <th>36793</th>\n",
              "      <td>1820</td>\n",
              "    </tr>\n",
              "  </tbody>\n",
              "</table>\n",
              "<p>36793 rows × 1 columns</p>\n",
              "</div><br><label><b>dtype:</b> int64</label>"
            ]
          },
          "metadata": {},
          "execution_count": 427
        }
      ]
    },
    {
      "cell_type": "code",
      "source": [
        "df.columns"
      ],
      "metadata": {
        "colab": {
          "base_uri": "https://localhost:8080/"
        },
        "id": "dIPaTjp43B_N",
        "outputId": "6e8f0f83-8a49-4e48-8b0d-060679ca0433"
      },
      "execution_count": null,
      "outputs": [
        {
          "output_type": "execute_result",
          "data": {
            "text/plain": [
              "Index(['SUCCYMD', 'CARREGIYMD', 'YEAR', 'EXHA', 'TRAVDIST', 'NEWCARPRIC',\n",
              "       'SUCCPRIC', 'FLOODING', 'TOTAL_LOSS', 'JOINCAR', 'NOTAVAILABLE',\n",
              "       'NC_GRADE_KEY', 'SHIPPING_PRICE', 'NC_GRADE_PRICE', 'CAR_NAME_ENC',\n",
              "       'DAMAGE_COUNT', 'OPTION_COUNT', 'COLOR_ENC', 'MISSNM_ENC',\n",
              "       'USEUSENM_ENC', 'OWNECLASNM_ENC', 'FUELNM_ENC', 'YEARCHK_ENC',\n",
              "       'INNEEXPOCLASCD_YN_ENC', 'ANNUAL_TRAVDIST', 'AUCTION_QUARTER_ENC',\n",
              "       'USED_DAYS'],\n",
              "      dtype='object')"
            ]
          },
          "metadata": {},
          "execution_count": 428
        }
      ]
    },
    {
      "cell_type": "code",
      "source": [
        "df = df.drop(columns=['SUCCYMD','CARREGIYMD', 'YEAR'])"
      ],
      "metadata": {
        "id": "yzNeCIJi3PUK"
      },
      "execution_count": null,
      "outputs": []
    },
    {
      "cell_type": "code",
      "source": [
        "len(df.columns)"
      ],
      "metadata": {
        "id": "DaFNId2a3sof",
        "outputId": "4d9dea6f-81bf-4189-c48a-76f7575e5b27",
        "colab": {
          "base_uri": "https://localhost:8080/"
        }
      },
      "execution_count": null,
      "outputs": [
        {
          "output_type": "execute_result",
          "data": {
            "text/plain": [
              "24"
            ]
          },
          "metadata": {},
          "execution_count": 430
        }
      ]
    },
    {
      "cell_type": "markdown",
      "source": [
        "##FINAL_PRICE 변수 생성"
      ],
      "metadata": {
        "id": "KvHI2Dgv0_sl"
      }
    },
    {
      "cell_type": "markdown",
      "source": [
        "## **FINAL_PRICE 이상치 범위 설정 시나리오**\n",
        "\n",
        "## **1. 상한값 확인**\n",
        "1) 상한값 설정 불필요\\\n",
        "데이터에서 1억 원 초과 값이 존재하지 않음으로, 상한값을 설정할 필요가 없음\\\n",
        "→ 최대값은 94,100,000원으로 확인\n",
        "\n",
        "2) 상한값 설정\\\n",
        "1억 원 초과 값은 존재하지 않으므로 상한값을 따로 설정하지 않고 이상치 처리에서 제외\n",
        "\n",
        "\n",
        "## **2. 하한값 설정을 위한 4가지 방법**\n",
        "하한값을 설정하기 위해 4가지 방법을 사용하여 하한값을 측정\n",
        "\n",
        "> 1) Box Plot 기준\\\n",
        "Q1 (1사분위수): 13,250,000원\\\n",
        "Q3 (3사분위수): 27,090,000원\\\n",
        "IQR (Interquartile Range): 13,840,000원\\\n",
        "하한 (Lower Bound): -7,510,000원 (음수로 나왔으므로 올바르지 않음)\\\n",
        "상한 (Upper Bound): 47,850,000원\\\n",
        "너무 작은 값 개수: 0개 (음수 값이 없으므로 제외)\\\n",
        "너무 큰 값 개수: 1,639개 (상한을 초과한 값)\n",
        "\n",
        "결론: 하한값이 음수로 나온 결과로, 이 방법은 사용하지 않음\n",
        "\n",
        "> 2) Z-score 기준\\\n",
        "평균 (mean): 21,575,719원\\\n",
        "표준편차 (std): 12,173,458원\\\n",
        "하한 = mean - 3 × std = 21,575,719 - 3 × 12,173,458 = -14,944,654원\\\n",
        "상한 (Upper Bound):\n",
        "상한 = mean + 3 × std = 21,575,719 + 3 × 12,173,458 = 58,096,093원\\\n",
        "너무 작은 값 개수: 0개\\\n",
        "너무 큰 값 개수: 873개\n",
        "\n",
        "결론: 하한값이 음수로 나왔으므로, 이 방법도 적합하지 않음\n",
        "\n",
        "\n",
        "> 3) Modified Z-score 기준\\\n",
        "중앙값 (median): 17,120,000원\\\n",
        "MAD (Mean Absolute Deviation): 4,980,000원\\\n",
        "Modified Z-score = 0.6745 × (filtered value - median) / MAD\\\n",
        "하한 = median - (3.5 × MAD / 0.6745)\n",
        "     = 17,120,000 - (3.5 × 4,980,000 / 0.6745)\n",
        "     = -8,721,364원\\\n",
        "상한 = median + (3.5 × MAD / 0.6745)\n",
        "     = 17,120,000 + (3.5 × 4,980,000 / 0.6745)\n",
        "     = 42,961,364원\\\n",
        "너무 작은 값 개수: 0개\\\n",
        "너무 큰 값 개수: 1,932개\n",
        "\n",
        "결론: 하한값이 음수로 나왔으므로, 이 방법도 적합하지 않음\n",
        "\n",
        "> 4) 하위 1% 기준\\\n",
        "하위 1% 기준값 (Percentile 1): 8,910,000원\\\n",
        "하위 1% 미만 값 개수: 348개\\\n",
        "하위 1% 미만인 348개의 데이터는 이상치로 처리하고 제외\n",
        "\n",
        "결론: 하위 1% 기준으로 하한값 8,910,000원을 설정하여 이상치 제거"
      ],
      "metadata": {
        "id": "rbsz63e-UkbY"
      }
    },
    {
      "cell_type": "markdown",
      "source": [
        "## **최종 결론**\n",
        "\n",
        "1) 0과 1은 명백한 이상치\\\n",
        "→\n",
        "FINAL_PRICE가 0이나 1인 값은 비현실적인 가격으로 간주되어 이상치로 처리하고 제외\n",
        "\n",
        "2) 1억 원 초과 값은 존재하지 않음\\\n",
        "→\n",
        "데이터에서 1억 원을 초과하는 가격은 존재하지 않으므로 상한값 설정은 불필요\n",
        "\n",
        "3) 가격 분포\\\n",
        "→\n",
        "전체 가격 분포의 대부분은 1천만 원~2천만 원 구간에 집중되어 있으며, 낮은 가격대의 이상치를 제거하는 것이 중요\n",
        "\n",
        "4) 하한값 설정\\\n",
        "→\n",
        "하한값은 다양한 방법으로 설정할 수 있습니다.\\\n",
        "Box Plot, Z-score, Modified Z-score, 하위 1% 절단법을 통해 하한값을 설정했으며, 그 중 하위 1% 기준으로 8,910,000원을 하한값으로 설정하고 이상치를 제외\n",
        "\n",
        "5) 하한값 설정 방법\\\n",
        "→\n",
        "Box Plot과 Z-score, Modified Z-score 방법은 모두 음수값을 도출해 부적합한 하한값으로 처리\\\n",
        "하위 1% 절단법을 사용하여 하한값을 8,910,000원으로 설정하고, 그 이하의 값을 이상치로 판단하여 제외\n",
        "\n",
        "6) 이상치 처리 결과\\\n",
        "→\n",
        "전체 36,795개 행 중 1,038개 행이 이상치로 제외\\\n",
        "최종적으로 35,757개의 유효한 데이터가 남음"
      ],
      "metadata": {
        "id": "q7mR2x3FcGGH"
      }
    },
    {
      "cell_type": "code",
      "source": [
        "# 가격 우선순위에 따라 FINAL_PRICE 생성: SHIPPING_PRICE > NC_GRADE_PRICE > NEWCARPRIC\n",
        "df['FINAL_PRICE'] = df['SHIPPING_PRICE']\n",
        "df['FINAL_PRICE'] = df['FINAL_PRICE'].fillna(df['NC_GRADE_PRICE'])\n",
        "df['FINAL_PRICE'] = df['FINAL_PRICE'].fillna(df['NEWCARPRIC'])\n",
        "\n",
        "# 3개 모두 NaN인 행 제거\n",
        "## 데이터 확인 결과, 본 코드는 사실상 해당 없음 ('NEWCARPRIC'에 NaN 없음)\n",
        "df = df[df['FINAL_PRICE'].notna()].reset_index(drop=True)\n",
        "\n",
        "# 이상치 → NaN 처리 (891만원 미만)\n",
        "df['FINAL_PRICE'] = df['FINAL_PRICE'].where(df['FINAL_PRICE'] >= 8_910_000, np.nan)\n",
        "\n",
        "# 중앙값 계산\n",
        "final_price_median = df['FINAL_PRICE'].median()\n",
        "\n",
        "# NaN → 중앙값 대체\n",
        "df['FINAL_PRICE'] = df['FINAL_PRICE'].fillna(final_price_median)\n",
        "\n",
        "print(f\"이상치(891만원 미만) → NaN → 중앙값({final_price_median:,.0f})으로 대체 완료\")\n"
      ],
      "metadata": {
        "colab": {
          "base_uri": "https://localhost:8080/"
        },
        "id": "ACDwFegj4FSO",
        "outputId": "b04b8f0e-2221-45bc-ea39-b6d105a05bc3"
      },
      "execution_count": null,
      "outputs": [
        {
          "output_type": "stream",
          "name": "stdout",
          "text": [
            "이상치(891만원 미만) → NaN → 중앙값(17,130,000)으로 대체 완료\n"
          ]
        }
      ]
    },
    {
      "cell_type": "code",
      "source": [
        "df = df.drop(columns=['SHIPPING_PRICE','NC_GRADE_PRICE', 'NEWCARPRIC'])"
      ],
      "metadata": {
        "id": "Xz7-nWTN4U6n"
      },
      "execution_count": null,
      "outputs": []
    },
    {
      "cell_type": "code",
      "source": [
        "len(df.columns)"
      ],
      "metadata": {
        "colab": {
          "base_uri": "https://localhost:8080/"
        },
        "id": "sAu05E-N4iI3",
        "outputId": "2343dd43-2876-4c45-830c-2a037507f3fe"
      },
      "execution_count": null,
      "outputs": [
        {
          "output_type": "execute_result",
          "data": {
            "text/plain": [
              "22"
            ]
          },
          "metadata": {},
          "execution_count": 433
        }
      ]
    },
    {
      "cell_type": "code",
      "source": [
        "df=df.drop(columns=['NC_GRADE_KEY'])"
      ],
      "metadata": {
        "id": "okVlhM2s4kp9"
      },
      "execution_count": null,
      "outputs": []
    },
    {
      "cell_type": "code",
      "source": [
        "len(df.columns)"
      ],
      "metadata": {
        "colab": {
          "base_uri": "https://localhost:8080/"
        },
        "id": "uoVoKUCc5CO3",
        "outputId": "3bbb64b6-b203-4c45-f071-24c38662cd81"
      },
      "execution_count": null,
      "outputs": [
        {
          "output_type": "execute_result",
          "data": {
            "text/plain": [
              "21"
            ]
          },
          "metadata": {},
          "execution_count": 435
        }
      ]
    },
    {
      "cell_type": "code",
      "source": [
        "df"
      ],
      "metadata": {
        "colab": {
          "base_uri": "https://localhost:8080/",
          "height": 443
        },
        "id": "n1zkrHBU5Dft",
        "outputId": "017a3d46-2e8b-4855-c98a-584e79d7e9ef"
      },
      "execution_count": null,
      "outputs": [
        {
          "output_type": "execute_result",
          "data": {
            "text/plain": [
              "         EXHA  TRAVDIST  SUCCPRIC  FLOODING  TOTAL_LOSS  JOINCAR  \\\n",
              "0      1000.0   38480.0   4300000         0           0        0   \n",
              "1      1600.0   62240.0  11650000         0           0        0   \n",
              "2      1591.0   37926.0  12350000         0           0        0   \n",
              "3      2000.0  110149.0   5900000         0           0        0   \n",
              "4      2000.0   81675.0   4730000         0           0        0   \n",
              "...       ...       ...       ...       ...         ...      ...   \n",
              "36788   998.0   62180.0   5910000         0           0        0   \n",
              "36789  3778.0   97801.0  19200000         0           0        0   \n",
              "36790  3342.0  153601.0  18200000         0           0        0   \n",
              "36791  1999.0  140058.0   5800000         0           0        0   \n",
              "36792  1999.0  159467.0   5700000         0           0        0   \n",
              "\n",
              "       NOTAVAILABLE  CAR_NAME_ENC  DAMAGE_COUNT  OPTION_COUNT  ...  \\\n",
              "0                 0            29             0             1  ...   \n",
              "1                 0             2             0             6  ...   \n",
              "2                 0             2             0             6  ...   \n",
              "3                 0             3             0             2  ...   \n",
              "4                 0             3             6             2  ...   \n",
              "...             ...           ...           ...           ...  ...   \n",
              "36788             0            21             0             3  ...   \n",
              "36789             0            19             3             5  ...   \n",
              "36790             0            19             2             6  ...   \n",
              "36791             0            17             3             3  ...   \n",
              "36792             0            17             0             3  ...   \n",
              "\n",
              "       MISSNM_ENC  USEUSENM_ENC  OWNECLASNM_ENC  FUELNM_ENC  YEARCHK_ENC  \\\n",
              "0               0             5               2           1            0   \n",
              "1               0             5               2           2            1   \n",
              "2               0             5               2           2            1   \n",
              "3               0             0               2           1            0   \n",
              "4               0             0               2           1            1   \n",
              "...           ...           ...             ...         ...          ...   \n",
              "36788           0             5               3           2            0   \n",
              "36789           0             5               3           2            0   \n",
              "36790           0             0               3           2            1   \n",
              "36791           0             0               3           1            0   \n",
              "36792           0             0               3           1            0   \n",
              "\n",
              "       INNEEXPOCLASCD_YN_ENC  ANNUAL_TRAVDIST  AUCTION_QUARTER_ENC  USED_DAYS  \\\n",
              "0                          1      6413.333333                    0       2029   \n",
              "1                          1     20746.666667                    0       1062   \n",
              "2                          1     18963.000000                    0        707   \n",
              "3                          1     27537.250000                    0       1113   \n",
              "4                          1     16335.000000                    0       1713   \n",
              "...                      ...              ...                  ...        ...   \n",
              "36788                      1     15545.000000                    1       1557   \n",
              "36789                      1     19560.200000                    1       1617   \n",
              "36790                      1     38400.250000                    1       1478   \n",
              "36791                      1     28011.600000                    1       1770   \n",
              "36792                      1     31893.400000                    1       1820   \n",
              "\n",
              "       FINAL_PRICE  \n",
              "0       11310000.0  \n",
              "1       19750000.0  \n",
              "2       19340000.0  \n",
              "3       17680000.0  \n",
              "4       15800000.0  \n",
              "...            ...  \n",
              "36788   12500000.0  \n",
              "36789   56800000.0  \n",
              "36790   49089202.0  \n",
              "36791   17130000.0  \n",
              "36792   17130000.0  \n",
              "\n",
              "[36793 rows x 21 columns]"
            ],
            "text/html": [
              "\n",
              "  <div id=\"df-3877dfe8-9af5-4ef0-b49d-1e7773c38fbc\" class=\"colab-df-container\">\n",
              "    <div>\n",
              "<style scoped>\n",
              "    .dataframe tbody tr th:only-of-type {\n",
              "        vertical-align: middle;\n",
              "    }\n",
              "\n",
              "    .dataframe tbody tr th {\n",
              "        vertical-align: top;\n",
              "    }\n",
              "\n",
              "    .dataframe thead th {\n",
              "        text-align: right;\n",
              "    }\n",
              "</style>\n",
              "<table border=\"1\" class=\"dataframe\">\n",
              "  <thead>\n",
              "    <tr style=\"text-align: right;\">\n",
              "      <th></th>\n",
              "      <th>EXHA</th>\n",
              "      <th>TRAVDIST</th>\n",
              "      <th>SUCCPRIC</th>\n",
              "      <th>FLOODING</th>\n",
              "      <th>TOTAL_LOSS</th>\n",
              "      <th>JOINCAR</th>\n",
              "      <th>NOTAVAILABLE</th>\n",
              "      <th>CAR_NAME_ENC</th>\n",
              "      <th>DAMAGE_COUNT</th>\n",
              "      <th>OPTION_COUNT</th>\n",
              "      <th>...</th>\n",
              "      <th>MISSNM_ENC</th>\n",
              "      <th>USEUSENM_ENC</th>\n",
              "      <th>OWNECLASNM_ENC</th>\n",
              "      <th>FUELNM_ENC</th>\n",
              "      <th>YEARCHK_ENC</th>\n",
              "      <th>INNEEXPOCLASCD_YN_ENC</th>\n",
              "      <th>ANNUAL_TRAVDIST</th>\n",
              "      <th>AUCTION_QUARTER_ENC</th>\n",
              "      <th>USED_DAYS</th>\n",
              "      <th>FINAL_PRICE</th>\n",
              "    </tr>\n",
              "  </thead>\n",
              "  <tbody>\n",
              "    <tr>\n",
              "      <th>0</th>\n",
              "      <td>1000.0</td>\n",
              "      <td>38480.0</td>\n",
              "      <td>4300000</td>\n",
              "      <td>0</td>\n",
              "      <td>0</td>\n",
              "      <td>0</td>\n",
              "      <td>0</td>\n",
              "      <td>29</td>\n",
              "      <td>0</td>\n",
              "      <td>1</td>\n",
              "      <td>...</td>\n",
              "      <td>0</td>\n",
              "      <td>5</td>\n",
              "      <td>2</td>\n",
              "      <td>1</td>\n",
              "      <td>0</td>\n",
              "      <td>1</td>\n",
              "      <td>6413.333333</td>\n",
              "      <td>0</td>\n",
              "      <td>2029</td>\n",
              "      <td>11310000.0</td>\n",
              "    </tr>\n",
              "    <tr>\n",
              "      <th>1</th>\n",
              "      <td>1600.0</td>\n",
              "      <td>62240.0</td>\n",
              "      <td>11650000</td>\n",
              "      <td>0</td>\n",
              "      <td>0</td>\n",
              "      <td>0</td>\n",
              "      <td>0</td>\n",
              "      <td>2</td>\n",
              "      <td>0</td>\n",
              "      <td>6</td>\n",
              "      <td>...</td>\n",
              "      <td>0</td>\n",
              "      <td>5</td>\n",
              "      <td>2</td>\n",
              "      <td>2</td>\n",
              "      <td>1</td>\n",
              "      <td>1</td>\n",
              "      <td>20746.666667</td>\n",
              "      <td>0</td>\n",
              "      <td>1062</td>\n",
              "      <td>19750000.0</td>\n",
              "    </tr>\n",
              "    <tr>\n",
              "      <th>2</th>\n",
              "      <td>1591.0</td>\n",
              "      <td>37926.0</td>\n",
              "      <td>12350000</td>\n",
              "      <td>0</td>\n",
              "      <td>0</td>\n",
              "      <td>0</td>\n",
              "      <td>0</td>\n",
              "      <td>2</td>\n",
              "      <td>0</td>\n",
              "      <td>6</td>\n",
              "      <td>...</td>\n",
              "      <td>0</td>\n",
              "      <td>5</td>\n",
              "      <td>2</td>\n",
              "      <td>2</td>\n",
              "      <td>1</td>\n",
              "      <td>1</td>\n",
              "      <td>18963.000000</td>\n",
              "      <td>0</td>\n",
              "      <td>707</td>\n",
              "      <td>19340000.0</td>\n",
              "    </tr>\n",
              "    <tr>\n",
              "      <th>3</th>\n",
              "      <td>2000.0</td>\n",
              "      <td>110149.0</td>\n",
              "      <td>5900000</td>\n",
              "      <td>0</td>\n",
              "      <td>0</td>\n",
              "      <td>0</td>\n",
              "      <td>0</td>\n",
              "      <td>3</td>\n",
              "      <td>0</td>\n",
              "      <td>2</td>\n",
              "      <td>...</td>\n",
              "      <td>0</td>\n",
              "      <td>0</td>\n",
              "      <td>2</td>\n",
              "      <td>1</td>\n",
              "      <td>0</td>\n",
              "      <td>1</td>\n",
              "      <td>27537.250000</td>\n",
              "      <td>0</td>\n",
              "      <td>1113</td>\n",
              "      <td>17680000.0</td>\n",
              "    </tr>\n",
              "    <tr>\n",
              "      <th>4</th>\n",
              "      <td>2000.0</td>\n",
              "      <td>81675.0</td>\n",
              "      <td>4730000</td>\n",
              "      <td>0</td>\n",
              "      <td>0</td>\n",
              "      <td>0</td>\n",
              "      <td>0</td>\n",
              "      <td>3</td>\n",
              "      <td>6</td>\n",
              "      <td>2</td>\n",
              "      <td>...</td>\n",
              "      <td>0</td>\n",
              "      <td>0</td>\n",
              "      <td>2</td>\n",
              "      <td>1</td>\n",
              "      <td>1</td>\n",
              "      <td>1</td>\n",
              "      <td>16335.000000</td>\n",
              "      <td>0</td>\n",
              "      <td>1713</td>\n",
              "      <td>15800000.0</td>\n",
              "    </tr>\n",
              "    <tr>\n",
              "      <th>...</th>\n",
              "      <td>...</td>\n",
              "      <td>...</td>\n",
              "      <td>...</td>\n",
              "      <td>...</td>\n",
              "      <td>...</td>\n",
              "      <td>...</td>\n",
              "      <td>...</td>\n",
              "      <td>...</td>\n",
              "      <td>...</td>\n",
              "      <td>...</td>\n",
              "      <td>...</td>\n",
              "      <td>...</td>\n",
              "      <td>...</td>\n",
              "      <td>...</td>\n",
              "      <td>...</td>\n",
              "      <td>...</td>\n",
              "      <td>...</td>\n",
              "      <td>...</td>\n",
              "      <td>...</td>\n",
              "      <td>...</td>\n",
              "      <td>...</td>\n",
              "    </tr>\n",
              "    <tr>\n",
              "      <th>36788</th>\n",
              "      <td>998.0</td>\n",
              "      <td>62180.0</td>\n",
              "      <td>5910000</td>\n",
              "      <td>0</td>\n",
              "      <td>0</td>\n",
              "      <td>0</td>\n",
              "      <td>0</td>\n",
              "      <td>21</td>\n",
              "      <td>0</td>\n",
              "      <td>3</td>\n",
              "      <td>...</td>\n",
              "      <td>0</td>\n",
              "      <td>5</td>\n",
              "      <td>3</td>\n",
              "      <td>2</td>\n",
              "      <td>0</td>\n",
              "      <td>1</td>\n",
              "      <td>15545.000000</td>\n",
              "      <td>1</td>\n",
              "      <td>1557</td>\n",
              "      <td>12500000.0</td>\n",
              "    </tr>\n",
              "    <tr>\n",
              "      <th>36789</th>\n",
              "      <td>3778.0</td>\n",
              "      <td>97801.0</td>\n",
              "      <td>19200000</td>\n",
              "      <td>0</td>\n",
              "      <td>0</td>\n",
              "      <td>0</td>\n",
              "      <td>0</td>\n",
              "      <td>19</td>\n",
              "      <td>3</td>\n",
              "      <td>5</td>\n",
              "      <td>...</td>\n",
              "      <td>0</td>\n",
              "      <td>5</td>\n",
              "      <td>3</td>\n",
              "      <td>2</td>\n",
              "      <td>0</td>\n",
              "      <td>1</td>\n",
              "      <td>19560.200000</td>\n",
              "      <td>1</td>\n",
              "      <td>1617</td>\n",
              "      <td>56800000.0</td>\n",
              "    </tr>\n",
              "    <tr>\n",
              "      <th>36790</th>\n",
              "      <td>3342.0</td>\n",
              "      <td>153601.0</td>\n",
              "      <td>18200000</td>\n",
              "      <td>0</td>\n",
              "      <td>0</td>\n",
              "      <td>0</td>\n",
              "      <td>0</td>\n",
              "      <td>19</td>\n",
              "      <td>2</td>\n",
              "      <td>6</td>\n",
              "      <td>...</td>\n",
              "      <td>0</td>\n",
              "      <td>0</td>\n",
              "      <td>3</td>\n",
              "      <td>2</td>\n",
              "      <td>1</td>\n",
              "      <td>1</td>\n",
              "      <td>38400.250000</td>\n",
              "      <td>1</td>\n",
              "      <td>1478</td>\n",
              "      <td>49089202.0</td>\n",
              "    </tr>\n",
              "    <tr>\n",
              "      <th>36791</th>\n",
              "      <td>1999.0</td>\n",
              "      <td>140058.0</td>\n",
              "      <td>5800000</td>\n",
              "      <td>0</td>\n",
              "      <td>0</td>\n",
              "      <td>0</td>\n",
              "      <td>0</td>\n",
              "      <td>17</td>\n",
              "      <td>3</td>\n",
              "      <td>3</td>\n",
              "      <td>...</td>\n",
              "      <td>0</td>\n",
              "      <td>0</td>\n",
              "      <td>3</td>\n",
              "      <td>1</td>\n",
              "      <td>0</td>\n",
              "      <td>1</td>\n",
              "      <td>28011.600000</td>\n",
              "      <td>1</td>\n",
              "      <td>1770</td>\n",
              "      <td>17130000.0</td>\n",
              "    </tr>\n",
              "    <tr>\n",
              "      <th>36792</th>\n",
              "      <td>1999.0</td>\n",
              "      <td>159467.0</td>\n",
              "      <td>5700000</td>\n",
              "      <td>0</td>\n",
              "      <td>0</td>\n",
              "      <td>0</td>\n",
              "      <td>0</td>\n",
              "      <td>17</td>\n",
              "      <td>0</td>\n",
              "      <td>3</td>\n",
              "      <td>...</td>\n",
              "      <td>0</td>\n",
              "      <td>0</td>\n",
              "      <td>3</td>\n",
              "      <td>1</td>\n",
              "      <td>0</td>\n",
              "      <td>1</td>\n",
              "      <td>31893.400000</td>\n",
              "      <td>1</td>\n",
              "      <td>1820</td>\n",
              "      <td>17130000.0</td>\n",
              "    </tr>\n",
              "  </tbody>\n",
              "</table>\n",
              "<p>36793 rows × 21 columns</p>\n",
              "</div>\n",
              "    <div class=\"colab-df-buttons\">\n",
              "\n",
              "  <div class=\"colab-df-container\">\n",
              "    <button class=\"colab-df-convert\" onclick=\"convertToInteractive('df-3877dfe8-9af5-4ef0-b49d-1e7773c38fbc')\"\n",
              "            title=\"Convert this dataframe to an interactive table.\"\n",
              "            style=\"display:none;\">\n",
              "\n",
              "  <svg xmlns=\"http://www.w3.org/2000/svg\" height=\"24px\" viewBox=\"0 -960 960 960\">\n",
              "    <path d=\"M120-120v-720h720v720H120Zm60-500h600v-160H180v160Zm220 220h160v-160H400v160Zm0 220h160v-160H400v160ZM180-400h160v-160H180v160Zm440 0h160v-160H620v160ZM180-180h160v-160H180v160Zm440 0h160v-160H620v160Z\"/>\n",
              "  </svg>\n",
              "    </button>\n",
              "\n",
              "  <style>\n",
              "    .colab-df-container {\n",
              "      display:flex;\n",
              "      gap: 12px;\n",
              "    }\n",
              "\n",
              "    .colab-df-convert {\n",
              "      background-color: #E8F0FE;\n",
              "      border: none;\n",
              "      border-radius: 50%;\n",
              "      cursor: pointer;\n",
              "      display: none;\n",
              "      fill: #1967D2;\n",
              "      height: 32px;\n",
              "      padding: 0 0 0 0;\n",
              "      width: 32px;\n",
              "    }\n",
              "\n",
              "    .colab-df-convert:hover {\n",
              "      background-color: #E2EBFA;\n",
              "      box-shadow: 0px 1px 2px rgba(60, 64, 67, 0.3), 0px 1px 3px 1px rgba(60, 64, 67, 0.15);\n",
              "      fill: #174EA6;\n",
              "    }\n",
              "\n",
              "    .colab-df-buttons div {\n",
              "      margin-bottom: 4px;\n",
              "    }\n",
              "\n",
              "    [theme=dark] .colab-df-convert {\n",
              "      background-color: #3B4455;\n",
              "      fill: #D2E3FC;\n",
              "    }\n",
              "\n",
              "    [theme=dark] .colab-df-convert:hover {\n",
              "      background-color: #434B5C;\n",
              "      box-shadow: 0px 1px 3px 1px rgba(0, 0, 0, 0.15);\n",
              "      filter: drop-shadow(0px 1px 2px rgba(0, 0, 0, 0.3));\n",
              "      fill: #FFFFFF;\n",
              "    }\n",
              "  </style>\n",
              "\n",
              "    <script>\n",
              "      const buttonEl =\n",
              "        document.querySelector('#df-3877dfe8-9af5-4ef0-b49d-1e7773c38fbc button.colab-df-convert');\n",
              "      buttonEl.style.display =\n",
              "        google.colab.kernel.accessAllowed ? 'block' : 'none';\n",
              "\n",
              "      async function convertToInteractive(key) {\n",
              "        const element = document.querySelector('#df-3877dfe8-9af5-4ef0-b49d-1e7773c38fbc');\n",
              "        const dataTable =\n",
              "          await google.colab.kernel.invokeFunction('convertToInteractive',\n",
              "                                                    [key], {});\n",
              "        if (!dataTable) return;\n",
              "\n",
              "        const docLinkHtml = 'Like what you see? Visit the ' +\n",
              "          '<a target=\"_blank\" href=https://colab.research.google.com/notebooks/data_table.ipynb>data table notebook</a>'\n",
              "          + ' to learn more about interactive tables.';\n",
              "        element.innerHTML = '';\n",
              "        dataTable['output_type'] = 'display_data';\n",
              "        await google.colab.output.renderOutput(dataTable, element);\n",
              "        const docLink = document.createElement('div');\n",
              "        docLink.innerHTML = docLinkHtml;\n",
              "        element.appendChild(docLink);\n",
              "      }\n",
              "    </script>\n",
              "  </div>\n",
              "\n",
              "\n",
              "<div id=\"df-b63eaf08-0b0a-48c4-806a-95c7d6a059ba\">\n",
              "  <button class=\"colab-df-quickchart\" onclick=\"quickchart('df-b63eaf08-0b0a-48c4-806a-95c7d6a059ba')\"\n",
              "            title=\"Suggest charts\"\n",
              "            style=\"display:none;\">\n",
              "\n",
              "<svg xmlns=\"http://www.w3.org/2000/svg\" height=\"24px\"viewBox=\"0 0 24 24\"\n",
              "     width=\"24px\">\n",
              "    <g>\n",
              "        <path d=\"M19 3H5c-1.1 0-2 .9-2 2v14c0 1.1.9 2 2 2h14c1.1 0 2-.9 2-2V5c0-1.1-.9-2-2-2zM9 17H7v-7h2v7zm4 0h-2V7h2v10zm4 0h-2v-4h2v4z\"/>\n",
              "    </g>\n",
              "</svg>\n",
              "  </button>\n",
              "\n",
              "<style>\n",
              "  .colab-df-quickchart {\n",
              "      --bg-color: #E8F0FE;\n",
              "      --fill-color: #1967D2;\n",
              "      --hover-bg-color: #E2EBFA;\n",
              "      --hover-fill-color: #174EA6;\n",
              "      --disabled-fill-color: #AAA;\n",
              "      --disabled-bg-color: #DDD;\n",
              "  }\n",
              "\n",
              "  [theme=dark] .colab-df-quickchart {\n",
              "      --bg-color: #3B4455;\n",
              "      --fill-color: #D2E3FC;\n",
              "      --hover-bg-color: #434B5C;\n",
              "      --hover-fill-color: #FFFFFF;\n",
              "      --disabled-bg-color: #3B4455;\n",
              "      --disabled-fill-color: #666;\n",
              "  }\n",
              "\n",
              "  .colab-df-quickchart {\n",
              "    background-color: var(--bg-color);\n",
              "    border: none;\n",
              "    border-radius: 50%;\n",
              "    cursor: pointer;\n",
              "    display: none;\n",
              "    fill: var(--fill-color);\n",
              "    height: 32px;\n",
              "    padding: 0;\n",
              "    width: 32px;\n",
              "  }\n",
              "\n",
              "  .colab-df-quickchart:hover {\n",
              "    background-color: var(--hover-bg-color);\n",
              "    box-shadow: 0 1px 2px rgba(60, 64, 67, 0.3), 0 1px 3px 1px rgba(60, 64, 67, 0.15);\n",
              "    fill: var(--button-hover-fill-color);\n",
              "  }\n",
              "\n",
              "  .colab-df-quickchart-complete:disabled,\n",
              "  .colab-df-quickchart-complete:disabled:hover {\n",
              "    background-color: var(--disabled-bg-color);\n",
              "    fill: var(--disabled-fill-color);\n",
              "    box-shadow: none;\n",
              "  }\n",
              "\n",
              "  .colab-df-spinner {\n",
              "    border: 2px solid var(--fill-color);\n",
              "    border-color: transparent;\n",
              "    border-bottom-color: var(--fill-color);\n",
              "    animation:\n",
              "      spin 1s steps(1) infinite;\n",
              "  }\n",
              "\n",
              "  @keyframes spin {\n",
              "    0% {\n",
              "      border-color: transparent;\n",
              "      border-bottom-color: var(--fill-color);\n",
              "      border-left-color: var(--fill-color);\n",
              "    }\n",
              "    20% {\n",
              "      border-color: transparent;\n",
              "      border-left-color: var(--fill-color);\n",
              "      border-top-color: var(--fill-color);\n",
              "    }\n",
              "    30% {\n",
              "      border-color: transparent;\n",
              "      border-left-color: var(--fill-color);\n",
              "      border-top-color: var(--fill-color);\n",
              "      border-right-color: var(--fill-color);\n",
              "    }\n",
              "    40% {\n",
              "      border-color: transparent;\n",
              "      border-right-color: var(--fill-color);\n",
              "      border-top-color: var(--fill-color);\n",
              "    }\n",
              "    60% {\n",
              "      border-color: transparent;\n",
              "      border-right-color: var(--fill-color);\n",
              "    }\n",
              "    80% {\n",
              "      border-color: transparent;\n",
              "      border-right-color: var(--fill-color);\n",
              "      border-bottom-color: var(--fill-color);\n",
              "    }\n",
              "    90% {\n",
              "      border-color: transparent;\n",
              "      border-bottom-color: var(--fill-color);\n",
              "    }\n",
              "  }\n",
              "</style>\n",
              "\n",
              "  <script>\n",
              "    async function quickchart(key) {\n",
              "      const quickchartButtonEl =\n",
              "        document.querySelector('#' + key + ' button');\n",
              "      quickchartButtonEl.disabled = true;  // To prevent multiple clicks.\n",
              "      quickchartButtonEl.classList.add('colab-df-spinner');\n",
              "      try {\n",
              "        const charts = await google.colab.kernel.invokeFunction(\n",
              "            'suggestCharts', [key], {});\n",
              "      } catch (error) {\n",
              "        console.error('Error during call to suggestCharts:', error);\n",
              "      }\n",
              "      quickchartButtonEl.classList.remove('colab-df-spinner');\n",
              "      quickchartButtonEl.classList.add('colab-df-quickchart-complete');\n",
              "    }\n",
              "    (() => {\n",
              "      let quickchartButtonEl =\n",
              "        document.querySelector('#df-b63eaf08-0b0a-48c4-806a-95c7d6a059ba button');\n",
              "      quickchartButtonEl.style.display =\n",
              "        google.colab.kernel.accessAllowed ? 'block' : 'none';\n",
              "    })();\n",
              "  </script>\n",
              "</div>\n",
              "\n",
              "  <div id=\"id_5b3c0d01-0cf4-4594-80e7-3dd4136278a4\">\n",
              "    <style>\n",
              "      .colab-df-generate {\n",
              "        background-color: #E8F0FE;\n",
              "        border: none;\n",
              "        border-radius: 50%;\n",
              "        cursor: pointer;\n",
              "        display: none;\n",
              "        fill: #1967D2;\n",
              "        height: 32px;\n",
              "        padding: 0 0 0 0;\n",
              "        width: 32px;\n",
              "      }\n",
              "\n",
              "      .colab-df-generate:hover {\n",
              "        background-color: #E2EBFA;\n",
              "        box-shadow: 0px 1px 2px rgba(60, 64, 67, 0.3), 0px 1px 3px 1px rgba(60, 64, 67, 0.15);\n",
              "        fill: #174EA6;\n",
              "      }\n",
              "\n",
              "      [theme=dark] .colab-df-generate {\n",
              "        background-color: #3B4455;\n",
              "        fill: #D2E3FC;\n",
              "      }\n",
              "\n",
              "      [theme=dark] .colab-df-generate:hover {\n",
              "        background-color: #434B5C;\n",
              "        box-shadow: 0px 1px 3px 1px rgba(0, 0, 0, 0.15);\n",
              "        filter: drop-shadow(0px 1px 2px rgba(0, 0, 0, 0.3));\n",
              "        fill: #FFFFFF;\n",
              "      }\n",
              "    </style>\n",
              "    <button class=\"colab-df-generate\" onclick=\"generateWithVariable('df')\"\n",
              "            title=\"Generate code using this dataframe.\"\n",
              "            style=\"display:none;\">\n",
              "\n",
              "  <svg xmlns=\"http://www.w3.org/2000/svg\" height=\"24px\"viewBox=\"0 0 24 24\"\n",
              "       width=\"24px\">\n",
              "    <path d=\"M7,19H8.4L18.45,9,17,7.55,7,17.6ZM5,21V16.75L18.45,3.32a2,2,0,0,1,2.83,0l1.4,1.43a1.91,1.91,0,0,1,.58,1.4,1.91,1.91,0,0,1-.58,1.4L9.25,21ZM18.45,9,17,7.55Zm-12,3A5.31,5.31,0,0,0,4.9,8.1,5.31,5.31,0,0,0,1,6.5,5.31,5.31,0,0,0,4.9,4.9,5.31,5.31,0,0,0,6.5,1,5.31,5.31,0,0,0,8.1,4.9,5.31,5.31,0,0,0,12,6.5,5.46,5.46,0,0,0,6.5,12Z\"/>\n",
              "  </svg>\n",
              "    </button>\n",
              "    <script>\n",
              "      (() => {\n",
              "      const buttonEl =\n",
              "        document.querySelector('#id_5b3c0d01-0cf4-4594-80e7-3dd4136278a4 button.colab-df-generate');\n",
              "      buttonEl.style.display =\n",
              "        google.colab.kernel.accessAllowed ? 'block' : 'none';\n",
              "\n",
              "      buttonEl.onclick = () => {\n",
              "        google.colab.notebook.generateWithVariable('df');\n",
              "      }\n",
              "      })();\n",
              "    </script>\n",
              "  </div>\n",
              "\n",
              "    </div>\n",
              "  </div>\n"
            ],
            "application/vnd.google.colaboratory.intrinsic+json": {
              "type": "dataframe",
              "variable_name": "df"
            }
          },
          "metadata": {},
          "execution_count": 436
        }
      ]
    },
    {
      "cell_type": "code",
      "source": [
        "df.to_csv('/content/drive/MyDrive/Colab Notebooks/P1_team3_real.csv', index=False)"
      ],
      "metadata": {
        "id": "NkfFfKah5Fe2"
      },
      "execution_count": null,
      "outputs": []
    },
    {
      "cell_type": "markdown",
      "metadata": {
        "id": "UeLpAeWVo1rW"
      },
      "source": [
        "## P1-3. System Implementation\n",
        "- df_test에 기반하여 실제 사용을 위한 system implemetation 작업 진행"
      ]
    },
    {
      "cell_type": "markdown",
      "source": [
        "##df 전처리한 순서대로 그대로 전처리\n",
        "\n",
        "-> label encoding은 df에 fit한대로"
      ],
      "metadata": {
        "id": "ih1W-REK_6OT"
      }
    },
    {
      "cell_type": "code",
      "metadata": {
        "id": "j9Y3dWkknnB2",
        "colab": {
          "base_uri": "https://localhost:8080/"
        },
        "outputId": "1fc5158e-d1a5-4444-f1c8-828ce6f79eb7"
      },
      "source": [
        "len(df_test.columns)\n",
        "print(df_test.shape)"
      ],
      "execution_count": null,
      "outputs": [
        {
          "output_type": "stream",
          "name": "stdout",
          "text": [
            "(20, 104)\n"
          ]
        }
      ]
    },
    {
      "cell_type": "code",
      "source": [
        "nan_counts = df_test.isna().sum()\n",
        "\n",
        "# NaN이 하나라도 있는 컬럼만 보기\n",
        "nan_counts = nan_counts[nan_counts > 0]\n",
        "\n",
        "print(nan_counts)"
      ],
      "metadata": {
        "id": "Wq64cj2Z_jHG",
        "colab": {
          "base_uri": "https://localhost:8080/"
        },
        "outputId": "1b97013d-91a5-4feb-8ad4-565969fbc49e"
      },
      "execution_count": null,
      "outputs": [
        {
          "output_type": "stream",
          "name": "stdout",
          "text": [
            "SHIPPING_PRICE    8\n",
            "NC_GRADE_PRICE    1\n",
            "dtype: int64\n"
          ]
        }
      ]
    },
    {
      "cell_type": "code",
      "source": [
        "# 제거할 식별자 변수 리스트\n",
        "cols_to_drop = ['GOODNO', 'CHASNO', 'MF_KEY', 'MJ_MODEL_KEY', 'DT_MODEL_KEY', 'MJ_GRADE_KEY','DT_GRADE_KEY']\n",
        "\n",
        "# 전처리 적용\n",
        "df_test = df_test.drop(columns=cols_to_drop)\n",
        "print(df_test.shape)"
      ],
      "metadata": {
        "colab": {
          "base_uri": "https://localhost:8080/"
        },
        "id": "ht512fxc_5M6",
        "outputId": "7d09ef1a-cfb8-4289-cdd8-5b7edae3a210"
      },
      "execution_count": null,
      "outputs": [
        {
          "output_type": "stream",
          "name": "stdout",
          "text": [
            "(20, 97)\n"
          ]
        }
      ]
    },
    {
      "cell_type": "code",
      "source": [
        "columns_to_check = ['NOTAVAILABLE', 'FLOODING', 'TOTAL_LOSS', 'JOINCAR']\n",
        "\n",
        "for col in columns_to_check:\n",
        "    print(f\"[{col}] unique values:\")\n",
        "    print(df_test[col].value_counts(dropna=False))\n",
        "    print(\"-\" * 40)\n"
      ],
      "metadata": {
        "colab": {
          "base_uri": "https://localhost:8080/"
        },
        "id": "W8rhnCaeABiB",
        "outputId": "0da99170-ca7e-415d-9770-52ca2b20ff01"
      },
      "execution_count": null,
      "outputs": [
        {
          "output_type": "stream",
          "name": "stdout",
          "text": [
            "[NOTAVAILABLE] unique values:\n",
            "NOTAVAILABLE\n",
            "0    20\n",
            "Name: count, dtype: int64\n",
            "----------------------------------------\n",
            "[FLOODING] unique values:\n",
            "FLOODING\n",
            "0    20\n",
            "Name: count, dtype: int64\n",
            "----------------------------------------\n",
            "[TOTAL_LOSS] unique values:\n",
            "TOTAL_LOSS\n",
            "0    20\n",
            "Name: count, dtype: int64\n",
            "----------------------------------------\n",
            "[JOINCAR] unique values:\n",
            "JOINCAR\n",
            "0    20\n",
            "Name: count, dtype: int64\n",
            "----------------------------------------\n"
          ]
        }
      ]
    },
    {
      "cell_type": "markdown",
      "source": [
        "CAR_NAME_ENC 변수 생성"
      ],
      "metadata": {
        "id": "Ee5ybbMXAGp6"
      }
    },
    {
      "cell_type": "code",
      "source": [
        "df_test['CAR_NAME'] = df_test['CARNM'].astype(str).str.split().str[0]\n",
        "df_test['CAR_NAME'].unique()\n",
        "# test에도 동일하게 적용 (unseen은 -1로 처리)\n",
        "df_test['CAR_NAME_ENC'] = df_test['CAR_NAME'].map(car_name_map).fillna(-1).astype(int)\n"
      ],
      "metadata": {
        "id": "ft16mfh4ADhV"
      },
      "execution_count": null,
      "outputs": []
    },
    {
      "cell_type": "code",
      "source": [
        "print(df_test[['CAR_NAME', 'CAR_NAME_ENC']])"
      ],
      "metadata": {
        "colab": {
          "base_uri": "https://localhost:8080/"
        },
        "id": "aIFMg7myAIrQ",
        "outputId": "ab1252d7-b3ac-45b1-cf7d-9469f71228a3"
      },
      "execution_count": null,
      "outputs": [
        {
          "output_type": "stream",
          "name": "stdout",
          "text": [
            "              CAR_NAME  CAR_NAME_ENC\n",
            "0                 더뉴K5            17\n",
            "1                 더뉴K5            17\n",
            "2                 더뉴K5            17\n",
            "3                 더뉴K3            16\n",
            "4                 더뉴K9            19\n",
            "5   Next_Innovation_K5             7\n",
            "6                 더뉴K3            16\n",
            "7   Next_Innovation_K5             7\n",
            "8                   레이            23\n",
            "9   Next_Innovation_K5             7\n",
            "10                  레이            23\n",
            "11                  레이            23\n",
            "12                  레이            23\n",
            "13                  레이            23\n",
            "14                  레이            23\n",
            "15                  레이            23\n",
            "16                  레이            23\n",
            "17                  레이            23\n",
            "18                더뉴K5            17\n",
            "19                  모닝            29\n"
          ]
        }
      ]
    },
    {
      "cell_type": "code",
      "source": [
        "df_test = df_test.drop(columns=['CAR_NAME', 'CARNM'])\n",
        "len(df_test.columns)"
      ],
      "metadata": {
        "colab": {
          "base_uri": "https://localhost:8080/"
        },
        "id": "b4ILAer-AVCu",
        "outputId": "7f6b2cee-018d-4ba3-d36c-9813823e6b09"
      },
      "execution_count": null,
      "outputs": [
        {
          "output_type": "execute_result",
          "data": {
            "text/plain": [
              "97"
            ]
          },
          "metadata": {},
          "execution_count": 444
        }
      ]
    },
    {
      "cell_type": "markdown",
      "source": [
        "DAMAGE_COUNT 파생변수 생성"
      ],
      "metadata": {
        "id": "IfbmOznOAaTt"
      }
    },
    {
      "cell_type": "code",
      "source": [
        "# 1. 60개 변수 이름 리스트\n",
        "damage_cols = [\n",
        "    'BONET', 'FRONT_LEFT_FENDER', 'FRONT_RIGHT_FENDER',\n",
        "    'FRONT_LEFT_DOOR', 'FRONT_RIGHT_DOOR', 'BACK_LEFT_DOOR', 'BACK_RIGHT_DOOR',\n",
        "    'TRUNK', 'FRONT_PANNEL', 'LEFT_STEP', 'RIGHT_STEP',\n",
        "    'LEFT_FILER_A', 'RIGHT_FILER_A', 'LEFT_FILER_B', 'RIGHT_FILER_B',\n",
        "    'LEFT_FILER_C', 'RIGHT_FILER_C', 'LEFT_REAR_FENDER', 'RIGHT_REAR_FENDER',\n",
        "    'BACK_PANEL1', 'LEFT_INSIDE_PANEL', 'RIGHT_INSIDE_PANEL',\n",
        "    'LEFT_WHEEL_HOUSE', 'RIGHT_WHEEL_HOUSE', 'LEFT_INSIDE_WHEEL_HOUSE',\n",
        "    'RIGHT_INSIDE_WHEEL_HOUSE', 'LEFT_REAR_WHEEL_HOUSE', 'RIGHT_REAR_WHEEL_HOUSE',\n",
        "    'TRUNK_FLOOR', 'DASH_PANEL', 'SHEET_PANEL', 'SIDE_MEMBER_FRAME',\n",
        "    'LEFT_QUARTER', 'RIGHT_QUARTER', 'FLOOR_PANEL', 'LEFT_SIDE_PANEL',\n",
        "    'RIGHT_SIDE_PANEL', 'LEFT_REAR_CORNER_PANEL', 'RIGHT_REAR_CORNER_PANEL',\n",
        "    'BACK_PANEL2', 'LEFT_CORNER_PANEL', 'RIGHT_CORNER_PANEL',\n",
        "    'LEFT_SKIRT_PANEL', 'RIGHT_SKIRT_PANEL', 'SIDE_MEMBER_FRAME2',\n",
        "    'LEFT_INSIDE_SHEETING', 'RIGHT_INSIDE_SHEETING',\n",
        "    'LEFT_WHEEL_HOUSE_SHEETING', 'RIGHT_WHEEL_HOUSE_SHEETING',\n",
        "    'LEFT_REAR_INSIDE_PANEL_SHEETING', 'RIGHT_REAR_INSIDE_PANEL_SHEETING',\n",
        "    'LEFT_REAR_WHEEL_HOUSE_SHEETING', 'RIGHT_REAR_WHEEL_HOUSE_SHEETING',\n",
        "    'TRUNK_FLOOR_SHEETING', 'DASH_PANEL_SHEETING',\n",
        "    'SHEET_BACK_PANEL_SHEETING', 'SIDE_MEMBER_FRAME_SHEETING',\n",
        "    'FLOOR_PANEL_SHEETING', 'LEFT_SIDE_PANEL_SHEETING', 'RIGHT_SIDE_PANEL_SHEETING'\n",
        "]"
      ],
      "metadata": {
        "id": "LMW0B5S59SBX"
      },
      "execution_count": null,
      "outputs": []
    },
    {
      "cell_type": "code",
      "source": [
        "df_test['DAMAGE_COUNT'] = df_test[damage_cols].fillna(0).sum(axis=1)\n",
        "print(df_test['DAMAGE_COUNT'])\n",
        "df_test = df_test.drop(columns=damage_cols)\n",
        "print(df_test.shape)"
      ],
      "metadata": {
        "colab": {
          "base_uri": "https://localhost:8080/"
        },
        "id": "Y5sGSnJ5AglJ",
        "outputId": "d34c0c3a-ba15-4a19-8f1d-9a26c92d720a"
      },
      "execution_count": null,
      "outputs": [
        {
          "output_type": "stream",
          "name": "stdout",
          "text": [
            "0      0\n",
            "1      0\n",
            "2      6\n",
            "3      4\n",
            "4      0\n",
            "5      0\n",
            "6      0\n",
            "7      1\n",
            "8     10\n",
            "9      0\n",
            "10     5\n",
            "11     1\n",
            "12     0\n",
            "13     0\n",
            "14     1\n",
            "15     4\n",
            "16     1\n",
            "17     5\n",
            "18     9\n",
            "19     4\n",
            "Name: DAMAGE_COUNT, dtype: int64\n",
            "(20, 38)\n"
          ]
        }
      ]
    },
    {
      "cell_type": "markdown",
      "source": [
        "OPTION_COUNT 파생 변수 생성"
      ],
      "metadata": {
        "id": "qkPmtIf1AiB9"
      }
    },
    {
      "cell_type": "code",
      "source": [
        "option_cols = [\n",
        "    'ABS', 'AB2', 'NAVIGATION', 'VDC', 'SMARTKEY',\n",
        "    'SUNLOOPPANORAMA', 'SUNLOOPCOMMON', 'SUNLOOPDUAL',\n",
        "    'DIS', 'TCS', 'AB1', 'ETC', 'AV', 'EPS', 'ECS'\n",
        "]"
      ],
      "metadata": {
        "id": "wgUAEt7190pK"
      },
      "execution_count": null,
      "outputs": []
    },
    {
      "cell_type": "code",
      "source": [
        "# Train\n",
        "df_test['OPTION_COUNT'] = df_test[option_cols].fillna(0).sum(axis=1)\n",
        "print(df_test['OPTION_COUNT'])\n",
        "df_test = df_test.drop(columns=option_cols)\n",
        "print(df_test.shape)"
      ],
      "metadata": {
        "colab": {
          "base_uri": "https://localhost:8080/"
        },
        "id": "jXNKgfDRAow0",
        "outputId": "e9c26b80-dbb6-40e1-8b79-eae407d98cea"
      },
      "execution_count": null,
      "outputs": [
        {
          "output_type": "stream",
          "name": "stdout",
          "text": [
            "0     3\n",
            "1     3\n",
            "2     3\n",
            "3     6\n",
            "4     6\n",
            "5     4\n",
            "6     3\n",
            "7     5\n",
            "8     3\n",
            "9     4\n",
            "10    3\n",
            "11    3\n",
            "12    3\n",
            "13    3\n",
            "14    3\n",
            "15    3\n",
            "16    3\n",
            "17    4\n",
            "18    4\n",
            "19    1\n",
            "Name: OPTION_COUNT, dtype: int64\n",
            "(20, 24)\n"
          ]
        }
      ]
    },
    {
      "cell_type": "markdown",
      "source": [
        "COLOR 변수 라벨 인코딩"
      ],
      "metadata": {
        "id": "1eHsyWDeAraj"
      }
    },
    {
      "cell_type": "code",
      "source": [
        "print(df_test['COLOR'])\n",
        "df_test['COLOR_ENC'] = df_test['COLOR'].map(color_map).fillna(-1).astype(int)\n",
        "print(\"df_test['COLOR'] 인코딩 완료 (unseen → -1)\")"
      ],
      "metadata": {
        "colab": {
          "base_uri": "https://localhost:8080/"
        },
        "id": "46yiHTWCAuBj",
        "outputId": "94007828-315f-45e7-c76b-371ecac93299"
      },
      "execution_count": null,
      "outputs": [
        {
          "output_type": "stream",
          "name": "stdout",
          "text": [
            "0     A\n",
            "1     A\n",
            "2     A\n",
            "3     A\n",
            "4     B\n",
            "5     C\n",
            "6     C\n",
            "7     B\n",
            "8     D\n",
            "9     C\n",
            "10    D\n",
            "11    D\n",
            "12    D\n",
            "13    D\n",
            "14    D\n",
            "15    D\n",
            "16    D\n",
            "17    A\n",
            "18    B\n",
            "19    C\n",
            "Name: COLOR, dtype: object\n",
            "df_test['COLOR'] 인코딩 완료 (unseen → -1)\n"
          ]
        }
      ]
    },
    {
      "cell_type": "code",
      "source": [
        "print(df_test[['COLOR', 'COLOR_ENC']])\n",
        "df_test = df_test.drop(columns=['COLOR'])\n",
        "print(len(df_test.columns))"
      ],
      "metadata": {
        "colab": {
          "base_uri": "https://localhost:8080/"
        },
        "id": "Ml6QRNsqAu0T",
        "outputId": "4ecf976f-660b-4c96-de70-2857a9ae42d2"
      },
      "execution_count": null,
      "outputs": [
        {
          "output_type": "stream",
          "name": "stdout",
          "text": [
            "   COLOR  COLOR_ENC\n",
            "0      A          0\n",
            "1      A          0\n",
            "2      A          0\n",
            "3      A          0\n",
            "4      B          1\n",
            "5      C          2\n",
            "6      C          2\n",
            "7      B          1\n",
            "8      D          3\n",
            "9      C          2\n",
            "10     D          3\n",
            "11     D          3\n",
            "12     D          3\n",
            "13     D          3\n",
            "14     D          3\n",
            "15     D          3\n",
            "16     D          3\n",
            "17     A          0\n",
            "18     B          1\n",
            "19     C          2\n",
            "24\n"
          ]
        }
      ]
    },
    {
      "cell_type": "markdown",
      "source": [
        "MISSNM 라벨 인코딩"
      ],
      "metadata": {
        "id": "FxtOvvFyAxK2"
      }
    },
    {
      "cell_type": "code",
      "source": [
        "df_test['MISSNM']\n",
        "df_test['MISSNM_ENC'] = df_test['MISSNM'].map(mission_map).fillna(-1).astype(int)\n",
        "print(\"✅ df_test['MISSNM'] 인코딩 완료 (unseen → -1)\")\n"
      ],
      "metadata": {
        "colab": {
          "base_uri": "https://localhost:8080/"
        },
        "id": "GMrx_V0aA1S9",
        "outputId": "58c395da-10e9-4a65-9678-0261a64442a2"
      },
      "execution_count": null,
      "outputs": [
        {
          "output_type": "stream",
          "name": "stdout",
          "text": [
            "✅ df_test['MISSNM'] 인코딩 완료 (unseen → -1)\n"
          ]
        }
      ]
    },
    {
      "cell_type": "code",
      "source": [
        "print(df_test[['MISSNM', 'MISSNM_ENC']])\n",
        "df_test = df_test.drop(columns=['MISSNM'])\n",
        "print(len(df_test.columns))"
      ],
      "metadata": {
        "colab": {
          "base_uri": "https://localhost:8080/"
        },
        "id": "AywDu5irA2DD",
        "outputId": "43795511-85bb-42f1-92a5-61a010c78b3b"
      },
      "execution_count": null,
      "outputs": [
        {
          "output_type": "stream",
          "name": "stdout",
          "text": [
            "   MISSNM  MISSNM_ENC\n",
            "0     A/T           0\n",
            "1     A/T           0\n",
            "2     A/T           0\n",
            "3     A/T           0\n",
            "4     A/T           0\n",
            "5     A/T           0\n",
            "6     A/T           0\n",
            "7     A/T           0\n",
            "8     A/T           0\n",
            "9     A/T           0\n",
            "10    A/T           0\n",
            "11    A/T           0\n",
            "12    A/T           0\n",
            "13    A/T           0\n",
            "14    A/T           0\n",
            "15    A/T           0\n",
            "16    A/T           0\n",
            "17    A/T           0\n",
            "18    A/T           0\n",
            "19    A/T           0\n",
            "24\n"
          ]
        }
      ]
    },
    {
      "cell_type": "markdown",
      "source": [
        "USEUSENM  라벨 인코딩"
      ],
      "metadata": {
        "id": "3CtYZz9oA6ow"
      }
    },
    {
      "cell_type": "code",
      "source": [
        "df_test['USEUSENM']\n",
        "df_test['USEUSENM_ENC'] = df_test['USEUSENM'].map(useusenm_map).fillna(-1).astype(int)\n",
        "print(\"✅ df_test['USEUSENM'] 인코딩 완료 (unseen → -1)\")\n"
      ],
      "metadata": {
        "colab": {
          "base_uri": "https://localhost:8080/"
        },
        "id": "dii-WeQ9A32k",
        "outputId": "a81258cc-a9ef-451f-9886-2ad158444810"
      },
      "execution_count": null,
      "outputs": [
        {
          "output_type": "stream",
          "name": "stdout",
          "text": [
            "✅ df_test['USEUSENM'] 인코딩 완료 (unseen → -1)\n"
          ]
        }
      ]
    },
    {
      "cell_type": "code",
      "source": [
        "print(df_test[['USEUSENM', 'USEUSENM_ENC']])\n",
        "df_test = df_test.drop(columns=['USEUSENM'])\n",
        "print(len(df_test.columns))"
      ],
      "metadata": {
        "colab": {
          "base_uri": "https://localhost:8080/"
        },
        "id": "iqogOeFPA96N",
        "outputId": "6a82483a-6dc4-4e66-8327-04c5743f1cdd"
      },
      "execution_count": null,
      "outputs": [
        {
          "output_type": "stream",
          "name": "stdout",
          "text": [
            "   USEUSENM  USEUSENM_ENC\n",
            "0        렌트             0\n",
            "1        렌트             0\n",
            "2        렌트             0\n",
            "3        자가             5\n",
            "4        업무             4\n",
            "5        렌트             0\n",
            "6        렌트             0\n",
            "7        렌트             0\n",
            "8        리스             1\n",
            "9        렌트             0\n",
            "10       리스             1\n",
            "11       리스             1\n",
            "12       리스             1\n",
            "13       리스             1\n",
            "14       리스             1\n",
            "15       리스             1\n",
            "16       업무             4\n",
            "17       자가             5\n",
            "18       렌트             0\n",
            "19       자가             5\n",
            "24\n"
          ]
        }
      ]
    },
    {
      "cell_type": "markdown",
      "source": [
        "OWNECLASNM  라벨 인코딩"
      ],
      "metadata": {
        "id": "XHoFP_WCBAjM"
      }
    },
    {
      "cell_type": "code",
      "source": [
        "df_test['OWNECLASNM']\n",
        "df_test['OWNECLASNM_ENC'] = df_test['OWNECLASNM'].map(owneclas_map).fillna(-1).astype(int)\n",
        "print(\"✅ df_test['OWNECLASNM'] 인코딩 완료 (unseen → -1)\")"
      ],
      "metadata": {
        "colab": {
          "base_uri": "https://localhost:8080/"
        },
        "id": "DH_jsh32BCuy",
        "outputId": "1a1f36ce-99cb-4a3a-8f5a-7ddccee9e7d9"
      },
      "execution_count": null,
      "outputs": [
        {
          "output_type": "stream",
          "name": "stdout",
          "text": [
            "✅ df_test['OWNECLASNM'] 인코딩 완료 (unseen → -1)\n"
          ]
        }
      ]
    },
    {
      "cell_type": "code",
      "source": [
        "print(df_test[['OWNECLASNM', 'OWNECLASNM_ENC']])\n",
        "df_test = df_test.drop(columns=['OWNECLASNM'])\n",
        "print(len(df_test.columns))"
      ],
      "metadata": {
        "colab": {
          "base_uri": "https://localhost:8080/"
        },
        "id": "jX7q9oS_BEul",
        "outputId": "bde1d48e-024d-4146-ec1c-3ee8d4b4d2b1"
      },
      "execution_count": null,
      "outputs": [
        {
          "output_type": "stream",
          "name": "stdout",
          "text": [
            "   OWNECLASNM  OWNECLASNM_ENC\n",
            "0        법인상품               3\n",
            "1        법인상품               3\n",
            "2        법인상품               3\n",
            "3        법인상품               3\n",
            "4        법인상품               3\n",
            "5        법인상품               3\n",
            "6        법인상품               3\n",
            "7        법인상품               3\n",
            "8        법인상품               3\n",
            "9        법인상품               3\n",
            "10       법인상품               3\n",
            "11       법인상품               3\n",
            "12       법인상품               3\n",
            "13       법인상품               3\n",
            "14       법인상품               3\n",
            "15       법인상품               3\n",
            "16       법인상품               3\n",
            "17       법인상품               3\n",
            "18       법인상품               3\n",
            "19       법인상품               3\n",
            "24\n"
          ]
        }
      ]
    },
    {
      "cell_type": "markdown",
      "source": [
        "FUELNM  라벨 인코딩"
      ],
      "metadata": {
        "id": "ldUEDKoXBHvz"
      }
    },
    {
      "cell_type": "code",
      "source": [
        "df_test['FUELNM']\n",
        "df_test['FUELNM_ENC'] = df_test['FUELNM'].map(fuel_map).fillna(-1).astype(int)\n",
        "print(\"✅ df_test['FUELNM'] 인코딩 완료 (unseen → -1)\")"
      ],
      "metadata": {
        "colab": {
          "base_uri": "https://localhost:8080/"
        },
        "id": "02Z4CAAfBGbD",
        "outputId": "23f33986-922d-4608-d15d-5be2a67ba49f"
      },
      "execution_count": null,
      "outputs": [
        {
          "output_type": "stream",
          "name": "stdout",
          "text": [
            "✅ df_test['FUELNM'] 인코딩 완료 (unseen → -1)\n"
          ]
        }
      ]
    },
    {
      "cell_type": "code",
      "source": [
        "print(df_test[['FUELNM', 'FUELNM_ENC']].head())\n",
        "df_test = df_test.drop(columns=['FUELNM'], errors='ignore')\n",
        "\n",
        "\n",
        "# 2. 컬럼 수 확인\n",
        "print(len(df_test.columns))\n"
      ],
      "metadata": {
        "colab": {
          "base_uri": "https://localhost:8080/"
        },
        "id": "1d4zLFTpBuC9",
        "outputId": "14aa8696-af59-4197-cc98-4e2a4cdd35bc"
      },
      "execution_count": null,
      "outputs": [
        {
          "output_type": "stream",
          "name": "stdout",
          "text": [
            "  FUELNM  FUELNM_ENC\n",
            "0    LPG           1\n",
            "1    LPG           1\n",
            "2    LPG           1\n",
            "3    가솔린           2\n",
            "4    가솔린           2\n",
            "24\n"
          ]
        }
      ]
    },
    {
      "cell_type": "markdown",
      "source": [
        "YEARCHK (구식/신식) 구분 전처리\n",
        "-> onehot이 아닌 label encoding으로 처리"
      ],
      "metadata": {
        "id": "CKNowjyiB1QP"
      }
    },
    {
      "cell_type": "code",
      "source": [
        "df_test['YEARCHK_ENC'] = df_test['YEARCHK'].map(yearchk_map).fillna(-1).astype(int)\n",
        "print(\"✅ df_test['YEARCHK'] 인코딩 완료 (unseen → -1)\")\n"
      ],
      "metadata": {
        "colab": {
          "base_uri": "https://localhost:8080/"
        },
        "id": "uuaSBGP6BvoN",
        "outputId": "d6cadf8f-9167-4728-f865-4cb39358990c"
      },
      "execution_count": null,
      "outputs": [
        {
          "output_type": "stream",
          "name": "stdout",
          "text": [
            "✅ df_test['YEARCHK'] 인코딩 완료 (unseen → -1)\n"
          ]
        }
      ]
    },
    {
      "cell_type": "code",
      "source": [
        "print(df_test[['YEARCHK', 'YEARCHK_ENC']].head())\n",
        "df_test = df_test.drop(columns=['YEARCHK'], errors='ignore')\n",
        "\n",
        "\n",
        "# 2. 컬럼 수 확인\n",
        "print(len(df_test.columns))"
      ],
      "metadata": {
        "colab": {
          "base_uri": "https://localhost:8080/"
        },
        "id": "mlG5yIRRB8d-",
        "outputId": "9aa5e0d5-cd33-4729-cc27-ac759a7d97e6"
      },
      "execution_count": null,
      "outputs": [
        {
          "output_type": "stream",
          "name": "stdout",
          "text": [
            "  YEARCHK  YEARCHK_ENC\n",
            "0       N            0\n",
            "1       N            0\n",
            "2       N            0\n",
            "3       Y            1\n",
            "4       N            0\n",
            "24\n"
          ]
        }
      ]
    },
    {
      "cell_type": "markdown",
      "source": [
        "INNEEXPOCLASCD_YN  라벨 인코딩"
      ],
      "metadata": {
        "id": "BmJnNsgTCBcU"
      }
    },
    {
      "cell_type": "code",
      "source": [
        "df_test['INNEEXPOCLASCD_YN_ENC'] = df_test['INNEEXPOCLASCD_YN'].map(yn_map).fillna(-1).astype(int)\n",
        "print(\"✅ df_test['INNEEXPOCLASCD_YN'] 인코딩 완료 (unseen → -1)\")"
      ],
      "metadata": {
        "colab": {
          "base_uri": "https://localhost:8080/"
        },
        "id": "ektzsg8dCEva",
        "outputId": "f8605dd5-564a-4305-98a5-bb6594bd02d6"
      },
      "execution_count": null,
      "outputs": [
        {
          "output_type": "stream",
          "name": "stdout",
          "text": [
            "✅ df_test['INNEEXPOCLASCD_YN'] 인코딩 완료 (unseen → -1)\n"
          ]
        }
      ]
    },
    {
      "cell_type": "code",
      "source": [
        "print(df_test[['INNEEXPOCLASCD_YN', 'INNEEXPOCLASCD_YN_ENC']].head())\n",
        "df_test = df_test.drop(columns=['INNEEXPOCLASCD_YN'], errors='ignore')\n",
        "\n",
        "\n",
        "# 2. 컬럼 수 확인\n",
        "print(len(df_test.columns))"
      ],
      "metadata": {
        "colab": {
          "base_uri": "https://localhost:8080/"
        },
        "id": "tKtk9bkxCL0O",
        "outputId": "df9754d1-7261-46bd-e1c7-e1e4b9629c48"
      },
      "execution_count": null,
      "outputs": [
        {
          "output_type": "stream",
          "name": "stdout",
          "text": [
            "  INNEEXPOCLASCD_YN  INNEEXPOCLASCD_YN_ENC\n",
            "0                 X                      1\n",
            "1                 X                      1\n",
            "2                 X                      1\n",
            "3                 X                      1\n",
            "4                 X                      1\n",
            "24\n"
          ]
        }
      ]
    },
    {
      "cell_type": "markdown",
      "source": [
        "##상기 df와 같은 방식으로 구분 후 label encoding\n",
        "\n",
        "EXHA 배기량 변수 이상치 처리 및 중앙값 저장\n",
        "\n",
        "경차 700 ~ 1100\n",
        "\n",
        "소형/준중형 1101 ~ 1600\n",
        "\n",
        "중형 1601 ~ 2200\n",
        "\n",
        "대형 2201 ~ 3000\n",
        "\n",
        "고성능차/수입차 3001 ~5000 (드묾)\n",
        "\n",
        "이상치 5000초과 및 700미만"
      ],
      "metadata": {
        "id": "ualuj7v3CWuX"
      }
    },
    {
      "cell_type": "code",
      "source": [
        "exha = df_test['EXHA']\n",
        "\n",
        "# 각 구간별 개수\n",
        "light = ((exha >= 700) & (exha <= 1100)).sum()\n",
        "compact = ((exha >= 1101) & (exha <= 1600)).sum()\n",
        "midsize = ((exha >= 1601) & (exha <= 2200)).sum()\n",
        "fullsize = ((exha >= 2201) & (exha <= 3000)).sum()\n",
        "highperf = ((exha >= 3001) & (exha <= 5000)).sum()\n",
        "outlier = ((exha > 5000) | (exha < 700)).sum()\n",
        "\n",
        "# 출력\n",
        "print(f\"\\n🚘 df - EXHA 분포 (최종 기준)\")\n",
        "print(f\" - 경차 (700~1100): {light}\")\n",
        "print(f\" - 소형/준중형 (1101~1600): {compact}\")\n",
        "print(f\" - 중형 (1601~2200): {midsize}\")\n",
        "print(f\" - 대형 (2201~3000): {fullsize}\")\n",
        "print(f\" - 고성능/수입차 (3001~5000): {highperf}\")\n",
        "print(f\" - ❗ 이상치 (<700 or >5000): {outlier}\")\n"
      ],
      "metadata": {
        "colab": {
          "base_uri": "https://localhost:8080/"
        },
        "id": "P5X1McXKCUlj",
        "outputId": "3eababdf-5858-4c37-a161-e28a45f7f241"
      },
      "execution_count": null,
      "outputs": [
        {
          "output_type": "stream",
          "name": "stdout",
          "text": [
            "\n",
            "🚘 df - EXHA 분포 (최종 기준)\n",
            " - 경차 (700~1100): 10\n",
            " - 소형/준중형 (1101~1600): 2\n",
            " - 중형 (1601~2200): 7\n",
            " - 대형 (2201~3000): 0\n",
            " - 고성능/수입차 (3001~5000): 1\n",
            " - ❗ 이상치 (<700 or >5000): 0\n"
          ]
        }
      ]
    },
    {
      "cell_type": "markdown",
      "source": [
        "이상치가 없으므로 그대로 진행"
      ],
      "metadata": {
        "id": "S_vaesghCeQZ"
      }
    },
    {
      "cell_type": "code",
      "source": [
        "len(df_test.columns)"
      ],
      "metadata": {
        "colab": {
          "base_uri": "https://localhost:8080/"
        },
        "id": "aLKA_r2lCXaX",
        "outputId": "1debee2e-f097-4b1b-ff03-c8f358e1e2dc"
      },
      "execution_count": null,
      "outputs": [
        {
          "output_type": "execute_result",
          "data": {
            "text/plain": [
              "24"
            ]
          },
          "metadata": {},
          "execution_count": 464
        }
      ]
    },
    {
      "cell_type": "markdown",
      "source": [
        "##TRAVDIST 주행 거리로부터 파생변수 생성"
      ],
      "metadata": {
        "id": "CuZZawVIC0Co"
      }
    },
    {
      "cell_type": "code",
      "source": [
        "df_test['TRAVDIST']"
      ],
      "metadata": {
        "colab": {
          "base_uri": "https://localhost:8080/",
          "height": 711
        },
        "id": "_8yXQIjsCyv5",
        "outputId": "43906bb1-1617-4879-f47e-0de7d606fa64"
      },
      "execution_count": null,
      "outputs": [
        {
          "output_type": "execute_result",
          "data": {
            "text/plain": [
              "0     155933\n",
              "1     152960\n",
              "2     161471\n",
              "3      35382\n",
              "4      46965\n",
              "5      28046\n",
              "6      85104\n",
              "7     102099\n",
              "8      37303\n",
              "9      25483\n",
              "10     83262\n",
              "11     62908\n",
              "12     54133\n",
              "13     49490\n",
              "14     81308\n",
              "15    105163\n",
              "16     47757\n",
              "17    111209\n",
              "18     86488\n",
              "19     53287\n",
              "Name: TRAVDIST, dtype: int64"
            ],
            "text/html": [
              "<div>\n",
              "<style scoped>\n",
              "    .dataframe tbody tr th:only-of-type {\n",
              "        vertical-align: middle;\n",
              "    }\n",
              "\n",
              "    .dataframe tbody tr th {\n",
              "        vertical-align: top;\n",
              "    }\n",
              "\n",
              "    .dataframe thead th {\n",
              "        text-align: right;\n",
              "    }\n",
              "</style>\n",
              "<table border=\"1\" class=\"dataframe\">\n",
              "  <thead>\n",
              "    <tr style=\"text-align: right;\">\n",
              "      <th></th>\n",
              "      <th>TRAVDIST</th>\n",
              "    </tr>\n",
              "  </thead>\n",
              "  <tbody>\n",
              "    <tr>\n",
              "      <th>0</th>\n",
              "      <td>155933</td>\n",
              "    </tr>\n",
              "    <tr>\n",
              "      <th>1</th>\n",
              "      <td>152960</td>\n",
              "    </tr>\n",
              "    <tr>\n",
              "      <th>2</th>\n",
              "      <td>161471</td>\n",
              "    </tr>\n",
              "    <tr>\n",
              "      <th>3</th>\n",
              "      <td>35382</td>\n",
              "    </tr>\n",
              "    <tr>\n",
              "      <th>4</th>\n",
              "      <td>46965</td>\n",
              "    </tr>\n",
              "    <tr>\n",
              "      <th>5</th>\n",
              "      <td>28046</td>\n",
              "    </tr>\n",
              "    <tr>\n",
              "      <th>6</th>\n",
              "      <td>85104</td>\n",
              "    </tr>\n",
              "    <tr>\n",
              "      <th>7</th>\n",
              "      <td>102099</td>\n",
              "    </tr>\n",
              "    <tr>\n",
              "      <th>8</th>\n",
              "      <td>37303</td>\n",
              "    </tr>\n",
              "    <tr>\n",
              "      <th>9</th>\n",
              "      <td>25483</td>\n",
              "    </tr>\n",
              "    <tr>\n",
              "      <th>10</th>\n",
              "      <td>83262</td>\n",
              "    </tr>\n",
              "    <tr>\n",
              "      <th>11</th>\n",
              "      <td>62908</td>\n",
              "    </tr>\n",
              "    <tr>\n",
              "      <th>12</th>\n",
              "      <td>54133</td>\n",
              "    </tr>\n",
              "    <tr>\n",
              "      <th>13</th>\n",
              "      <td>49490</td>\n",
              "    </tr>\n",
              "    <tr>\n",
              "      <th>14</th>\n",
              "      <td>81308</td>\n",
              "    </tr>\n",
              "    <tr>\n",
              "      <th>15</th>\n",
              "      <td>105163</td>\n",
              "    </tr>\n",
              "    <tr>\n",
              "      <th>16</th>\n",
              "      <td>47757</td>\n",
              "    </tr>\n",
              "    <tr>\n",
              "      <th>17</th>\n",
              "      <td>111209</td>\n",
              "    </tr>\n",
              "    <tr>\n",
              "      <th>18</th>\n",
              "      <td>86488</td>\n",
              "    </tr>\n",
              "    <tr>\n",
              "      <th>19</th>\n",
              "      <td>53287</td>\n",
              "    </tr>\n",
              "  </tbody>\n",
              "</table>\n",
              "</div><br><label><b>dtype:</b> int64</label>"
            ]
          },
          "metadata": {},
          "execution_count": 465
        }
      ]
    },
    {
      "cell_type": "markdown",
      "source": [
        "NaN 값이 없으므로 그대로 진행\n"
      ],
      "metadata": {
        "id": "V_SvtRZqC9b2"
      }
    },
    {
      "cell_type": "markdown",
      "source": [
        "##연간 주행거리 계산하는 파생변수 생성"
      ],
      "metadata": {
        "id": "BlbD1LH-d4eg"
      }
    },
    {
      "cell_type": "code",
      "source": [
        "# 1. 연도 추출\n",
        "df_test['SUCCYEAR'] = df_test['SUCCYMD'].astype(str).str[:4].astype(int)\n",
        "df_test['CARREGIYEAR'] = df_test['CARREGIYMD'].astype(str).str[:4].astype(int)\n",
        "\n",
        "# 2. 차령 계산 (최소 1년)\n",
        "df_test['CAR_AGE'] = (df_test['SUCCYEAR'] - df_test['CARREGIYEAR']).clip(lower=1)\n",
        "\n",
        "# 3. 연간 주행거리 계산\n",
        "df_test['ANNUAL_TRAVDIST'] = df_test['TRAVDIST'] / df_test['CAR_AGE']\n",
        "\n",
        "print(\"✅ df_test: SUCCYEAR, CARREGIYEAR, CAR_AGE, ANNUAL_TRAVDIST 생성 완료\")\n"
      ],
      "metadata": {
        "colab": {
          "base_uri": "https://localhost:8080/"
        },
        "id": "FzjD1RMODFW3",
        "outputId": "590c7874-8585-449a-e76d-f530f3f09155"
      },
      "execution_count": null,
      "outputs": [
        {
          "output_type": "stream",
          "name": "stdout",
          "text": [
            "✅ df_test: SUCCYEAR, CARREGIYEAR, CAR_AGE, ANNUAL_TRAVDIST 생성 완료\n"
          ]
        }
      ]
    },
    {
      "cell_type": "code",
      "source": [
        "cols_to_drop = ['SUCCYEAR', 'CARREGIYEAR', 'CAR_AGE']\n",
        "\n",
        "df_test = df_test.drop(columns=cols_to_drop, errors='ignore')\n",
        "print(\"🧹 df: SUCCYEAR, CARREGIYEAR, CAR_AGE 컬럼 삭제 완료\")\n"
      ],
      "metadata": {
        "colab": {
          "base_uri": "https://localhost:8080/"
        },
        "id": "It8gwalVDYT0",
        "outputId": "bc72f219-f81d-4a6c-cf0d-c6981f243bc9"
      },
      "execution_count": null,
      "outputs": [
        {
          "output_type": "stream",
          "name": "stdout",
          "text": [
            "🧹 df: SUCCYEAR, CARREGIYEAR, CAR_AGE 컬럼 삭제 완료\n"
          ]
        }
      ]
    },
    {
      "cell_type": "code",
      "source": [
        "len(df_test.columns)"
      ],
      "metadata": {
        "colab": {
          "base_uri": "https://localhost:8080/"
        },
        "id": "t8H6_BOUDck9",
        "outputId": "c688b05e-9ec2-45e4-f0ce-422def530d48"
      },
      "execution_count": null,
      "outputs": [
        {
          "output_type": "execute_result",
          "data": {
            "text/plain": [
              "25"
            ]
          },
          "metadata": {},
          "execution_count": 468
        }
      ]
    },
    {
      "cell_type": "markdown",
      "source": [
        "##분기 생성 후 라벨 인코딩"
      ],
      "metadata": {
        "id": "pOuVBXF1DfPj"
      }
    },
    {
      "cell_type": "code",
      "source": [
        "# 분기 추출 함수\n",
        "def get_quarter(month):\n",
        "    if month in [1, 2, 3]:\n",
        "        return 'Q1'\n",
        "    elif month in [4, 5, 6]:\n",
        "        return 'Q2'\n",
        "    elif month in [7, 8, 9]:\n",
        "        return 'Q3'\n",
        "    else:\n",
        "        return 'Q4'\n",
        "\n",
        "# 문자열에서 월 추출 후 → 분기로 매핑\n",
        "df_test['AUCTION_QUARTER'] = df_test['SUCCYMD'].astype(str).str[4:6].astype(int).map(get_quarter)\n",
        "\n",
        "print(\"✅ df_test: AUCTION_QUARTER 컬럼 생성 완료\")\n"
      ],
      "metadata": {
        "colab": {
          "base_uri": "https://localhost:8080/"
        },
        "id": "jb6LG_H8DiU8",
        "outputId": "7884e8cd-6773-4650-a716-c3b6dab6232d"
      },
      "execution_count": null,
      "outputs": [
        {
          "output_type": "stream",
          "name": "stdout",
          "text": [
            "✅ df_test: AUCTION_QUARTER 컬럼 생성 완료\n"
          ]
        }
      ]
    },
    {
      "cell_type": "code",
      "source": [
        "print(\"📘 df_test - AUCTION_QUARTER 확인:\")\n",
        "print(df_test[['AUCTION_QUARTER', 'SUCCYMD']])"
      ],
      "metadata": {
        "colab": {
          "base_uri": "https://localhost:8080/"
        },
        "id": "ifGtdLJmDpoy",
        "outputId": "76e0e402-a303-4241-f56f-d5e0b50fcb93"
      },
      "execution_count": null,
      "outputs": [
        {
          "output_type": "stream",
          "name": "stdout",
          "text": [
            "📘 df_test - AUCTION_QUARTER 확인:\n",
            "   AUCTION_QUARTER   SUCCYMD\n",
            "0               Q2  20190523\n",
            "1               Q2  20190523\n",
            "2               Q2  20190523\n",
            "3               Q2  20190523\n",
            "4               Q2  20190523\n",
            "5               Q2  20190523\n",
            "6               Q2  20190523\n",
            "7               Q2  20190523\n",
            "8               Q2  20190523\n",
            "9               Q2  20190523\n",
            "10              Q2  20190523\n",
            "11              Q2  20190523\n",
            "12              Q2  20190523\n",
            "13              Q2  20190523\n",
            "14              Q2  20190523\n",
            "15              Q2  20190523\n",
            "16              Q2  20190523\n",
            "17              Q2  20190523\n",
            "18              Q2  20190523\n",
            "19              Q2  20190523\n"
          ]
        }
      ]
    },
    {
      "cell_type": "code",
      "source": [
        "df_test['AUCTION_QUARTER_ENC'] = df_test['AUCTION_QUARTER'].map(quarter_map).fillna(-1).astype(int)\n",
        "print(\"✅ df_test['AUCTION_QUARTER'] 인코딩 완료 (unseen → -1)\")\n"
      ],
      "metadata": {
        "colab": {
          "base_uri": "https://localhost:8080/"
        },
        "id": "9c7RtfiCDxNj",
        "outputId": "21467791-a55e-417e-df89-193f9a707f05"
      },
      "execution_count": null,
      "outputs": [
        {
          "output_type": "stream",
          "name": "stdout",
          "text": [
            "✅ df_test['AUCTION_QUARTER'] 인코딩 완료 (unseen → -1)\n"
          ]
        }
      ]
    },
    {
      "cell_type": "code",
      "source": [
        "df_test = df_test.drop(columns=['AUCTION_QUARTER'], errors='ignore')\n",
        "print(\"🧹 df_test: 'AUCTION_QUARTER' 컬럼 삭제 완료\")"
      ],
      "metadata": {
        "colab": {
          "base_uri": "https://localhost:8080/"
        },
        "id": "us5JOFOCD2Lw",
        "outputId": "7fa1a186-feaf-4318-8ce7-4ce8c14ced14"
      },
      "execution_count": null,
      "outputs": [
        {
          "output_type": "stream",
          "name": "stdout",
          "text": [
            "🧹 df_test: 'AUCTION_QUARTER' 컬럼 삭제 완료\n"
          ]
        }
      ]
    },
    {
      "cell_type": "code",
      "source": [
        "len(df_test.columns)"
      ],
      "metadata": {
        "colab": {
          "base_uri": "https://localhost:8080/"
        },
        "id": "q-AMwUxuD6XS",
        "outputId": "edaeb5bc-4c48-4201-8330-b55365480833"
      },
      "execution_count": null,
      "outputs": [
        {
          "output_type": "execute_result",
          "data": {
            "text/plain": [
              "26"
            ]
          },
          "metadata": {},
          "execution_count": 473
        }
      ]
    },
    {
      "cell_type": "markdown",
      "source": [
        "##사용 일수 파생변수 생성"
      ],
      "metadata": {
        "id": "qT6p2xu6D-sZ"
      }
    },
    {
      "cell_type": "code",
      "source": [
        "# 1. 날짜 형식 변환\n",
        "df_test['SUCCYMD'] = pd.to_datetime(df_test['SUCCYMD'], format='%Y%m%d')\n",
        "df_test['CARREGIYMD'] = pd.to_datetime(df_test['CARREGIYMD'], format='%Y%m%d')\n",
        "\n",
        "# 2. 사용일수 계산\n",
        "df_test['USED_DAYS'] = (df_test['SUCCYMD'] - df_test['CARREGIYMD']).dt.days\n",
        "\n",
        "print(\"📆 df_test: 'USED_DAYS' 컬럼 생성 완료\")\n"
      ],
      "metadata": {
        "colab": {
          "base_uri": "https://localhost:8080/"
        },
        "id": "bC5l_qAXEBOr",
        "outputId": "9d4f08c8-2b0b-470b-d7e9-99ca4385db86"
      },
      "execution_count": null,
      "outputs": [
        {
          "output_type": "stream",
          "name": "stdout",
          "text": [
            "📆 df_test: 'USED_DAYS' 컬럼 생성 완료\n"
          ]
        }
      ]
    },
    {
      "cell_type": "code",
      "source": [
        "df_test = df_test.drop(columns=['SUCCYMD','CARREGIYMD', 'YEAR'])"
      ],
      "metadata": {
        "id": "qG3Waju9EMor"
      },
      "execution_count": null,
      "outputs": []
    },
    {
      "cell_type": "code",
      "source": [
        "len(df_test.columns)"
      ],
      "metadata": {
        "colab": {
          "base_uri": "https://localhost:8080/"
        },
        "id": "xMCJkI4lEQ9w",
        "outputId": "992fccce-0bdb-46ef-836e-c0bbf535d86c"
      },
      "execution_count": null,
      "outputs": [
        {
          "output_type": "execute_result",
          "data": {
            "text/plain": [
              "24"
            ]
          },
          "metadata": {},
          "execution_count": 476
        }
      ]
    },
    {
      "cell_type": "markdown",
      "source": [
        "##FINAL_PRICE 변수 생성"
      ],
      "metadata": {
        "id": "Wc1JeoKpEbnO"
      }
    },
    {
      "cell_type": "code",
      "source": [
        "df_test['FINAL_PRICE'] = df_test['SHIPPING_PRICE']\n",
        "df_test['FINAL_PRICE'] = df_test['FINAL_PRICE'].fillna(df_test['NC_GRADE_PRICE'])\n",
        "df_test['FINAL_PRICE'] = df_test['FINAL_PRICE'].fillna(df_test['NEWCARPRIC'])\n",
        "\n",
        "# 학습셋에서 계산한 중앙값 사용\n",
        "df_test['FINAL_PRICE'] = df_test['FINAL_PRICE'].apply(\n",
        "    lambda x: final_price_median if x < 8_910_000 else x\n",
        ")\n",
        "\n",
        "print(\"✅ df_test: FINAL_PRICE가 891만원 미만인 값 → 중앙값으로 대체 완료\")\n",
        "df_test['FINAL_PRICE']"
      ],
      "metadata": {
        "colab": {
          "base_uri": "https://localhost:8080/",
          "height": 730
        },
        "id": "-mi1r-bfE3lB",
        "outputId": "569bde4f-b5d5-4708-8cea-0f6c196e1a7d"
      },
      "execution_count": null,
      "outputs": [
        {
          "output_type": "stream",
          "name": "stdout",
          "text": [
            "✅ df_test: FINAL_PRICE가 891만원 미만인 값 → 중앙값으로 대체 완료\n"
          ]
        },
        {
          "output_type": "execute_result",
          "data": {
            "text/plain": [
              "0     17130000.0\n",
              "1     17130000.0\n",
              "2     17130000.0\n",
              "3     24050000.0\n",
              "4     58670000.0\n",
              "5     19460000.0\n",
              "6     16050000.0\n",
              "7     26130000.0\n",
              "8     11890000.0\n",
              "9     19460000.0\n",
              "10    11890000.0\n",
              "11    11890000.0\n",
              "12    11890000.0\n",
              "13    11890000.0\n",
              "14    11890000.0\n",
              "15    11890000.0\n",
              "16    12110000.0\n",
              "17    15700000.0\n",
              "18    17670000.0\n",
              "19    17130000.0\n",
              "Name: FINAL_PRICE, dtype: float64"
            ],
            "text/html": [
              "<div>\n",
              "<style scoped>\n",
              "    .dataframe tbody tr th:only-of-type {\n",
              "        vertical-align: middle;\n",
              "    }\n",
              "\n",
              "    .dataframe tbody tr th {\n",
              "        vertical-align: top;\n",
              "    }\n",
              "\n",
              "    .dataframe thead th {\n",
              "        text-align: right;\n",
              "    }\n",
              "</style>\n",
              "<table border=\"1\" class=\"dataframe\">\n",
              "  <thead>\n",
              "    <tr style=\"text-align: right;\">\n",
              "      <th></th>\n",
              "      <th>FINAL_PRICE</th>\n",
              "    </tr>\n",
              "  </thead>\n",
              "  <tbody>\n",
              "    <tr>\n",
              "      <th>0</th>\n",
              "      <td>17130000.0</td>\n",
              "    </tr>\n",
              "    <tr>\n",
              "      <th>1</th>\n",
              "      <td>17130000.0</td>\n",
              "    </tr>\n",
              "    <tr>\n",
              "      <th>2</th>\n",
              "      <td>17130000.0</td>\n",
              "    </tr>\n",
              "    <tr>\n",
              "      <th>3</th>\n",
              "      <td>24050000.0</td>\n",
              "    </tr>\n",
              "    <tr>\n",
              "      <th>4</th>\n",
              "      <td>58670000.0</td>\n",
              "    </tr>\n",
              "    <tr>\n",
              "      <th>5</th>\n",
              "      <td>19460000.0</td>\n",
              "    </tr>\n",
              "    <tr>\n",
              "      <th>6</th>\n",
              "      <td>16050000.0</td>\n",
              "    </tr>\n",
              "    <tr>\n",
              "      <th>7</th>\n",
              "      <td>26130000.0</td>\n",
              "    </tr>\n",
              "    <tr>\n",
              "      <th>8</th>\n",
              "      <td>11890000.0</td>\n",
              "    </tr>\n",
              "    <tr>\n",
              "      <th>9</th>\n",
              "      <td>19460000.0</td>\n",
              "    </tr>\n",
              "    <tr>\n",
              "      <th>10</th>\n",
              "      <td>11890000.0</td>\n",
              "    </tr>\n",
              "    <tr>\n",
              "      <th>11</th>\n",
              "      <td>11890000.0</td>\n",
              "    </tr>\n",
              "    <tr>\n",
              "      <th>12</th>\n",
              "      <td>11890000.0</td>\n",
              "    </tr>\n",
              "    <tr>\n",
              "      <th>13</th>\n",
              "      <td>11890000.0</td>\n",
              "    </tr>\n",
              "    <tr>\n",
              "      <th>14</th>\n",
              "      <td>11890000.0</td>\n",
              "    </tr>\n",
              "    <tr>\n",
              "      <th>15</th>\n",
              "      <td>11890000.0</td>\n",
              "    </tr>\n",
              "    <tr>\n",
              "      <th>16</th>\n",
              "      <td>12110000.0</td>\n",
              "    </tr>\n",
              "    <tr>\n",
              "      <th>17</th>\n",
              "      <td>15700000.0</td>\n",
              "    </tr>\n",
              "    <tr>\n",
              "      <th>18</th>\n",
              "      <td>17670000.0</td>\n",
              "    </tr>\n",
              "    <tr>\n",
              "      <th>19</th>\n",
              "      <td>17130000.0</td>\n",
              "    </tr>\n",
              "  </tbody>\n",
              "</table>\n",
              "</div><br><label><b>dtype:</b> float64</label>"
            ]
          },
          "metadata": {},
          "execution_count": 477
        }
      ]
    },
    {
      "cell_type": "code",
      "source": [
        "df_test.columns"
      ],
      "metadata": {
        "colab": {
          "base_uri": "https://localhost:8080/"
        },
        "id": "ZFN_lEWYFspu",
        "outputId": "dad43952-2d0d-47e0-bb7e-5c19553a39a0"
      },
      "execution_count": null,
      "outputs": [
        {
          "output_type": "execute_result",
          "data": {
            "text/plain": [
              "Index(['EXHA', 'TRAVDIST', 'NEWCARPRIC', 'SUCCPRIC', 'FLOODING', 'TOTAL_LOSS',\n",
              "       'JOINCAR', 'NOTAVAILABLE', 'NC_GRADE_KEY', 'SHIPPING_PRICE',\n",
              "       'NC_GRADE_PRICE', 'CAR_NAME_ENC', 'DAMAGE_COUNT', 'OPTION_COUNT',\n",
              "       'COLOR_ENC', 'MISSNM_ENC', 'USEUSENM_ENC', 'OWNECLASNM_ENC',\n",
              "       'FUELNM_ENC', 'YEARCHK_ENC', 'INNEEXPOCLASCD_YN_ENC', 'ANNUAL_TRAVDIST',\n",
              "       'AUCTION_QUARTER_ENC', 'USED_DAYS', 'FINAL_PRICE'],\n",
              "      dtype='object')"
            ]
          },
          "metadata": {},
          "execution_count": 478
        }
      ]
    },
    {
      "cell_type": "code",
      "source": [
        "df_test = df_test.drop(columns=['SHIPPING_PRICE','NC_GRADE_PRICE', 'NEWCARPRIC', 'NC_GRADE_KEY'])"
      ],
      "metadata": {
        "id": "OJnl16XpFPib"
      },
      "execution_count": null,
      "outputs": []
    },
    {
      "cell_type": "code",
      "source": [
        "len(df_test.columns)"
      ],
      "metadata": {
        "colab": {
          "base_uri": "https://localhost:8080/"
        },
        "id": "HEMiuSqzF6di",
        "outputId": "17616b01-9e5e-473a-922e-13ea5f341358"
      },
      "execution_count": null,
      "outputs": [
        {
          "output_type": "execute_result",
          "data": {
            "text/plain": [
              "21"
            ]
          },
          "metadata": {},
          "execution_count": 480
        }
      ]
    },
    {
      "cell_type": "code",
      "source": [
        "df_test"
      ],
      "metadata": {
        "colab": {
          "base_uri": "https://localhost:8080/",
          "height": 725
        },
        "id": "YJ85rz5mF-wt",
        "outputId": "7353ee07-57d4-4e5d-84b3-38966f51bc51"
      },
      "execution_count": null,
      "outputs": [
        {
          "output_type": "execute_result",
          "data": {
            "text/plain": [
              "    EXHA  TRAVDIST  SUCCPRIC  FLOODING  TOTAL_LOSS  JOINCAR  NOTAVAILABLE  \\\n",
              "0   1999    155933   5600000         0           0        0             0   \n",
              "1   1999    152960   5700000         0           0        0             0   \n",
              "2   1999    161471   5700000         0           0        0             0   \n",
              "3   1591     35382  13100000         0           0        0             0   \n",
              "4   3342     46965  25800000         0           0        0             0   \n",
              "5   1999     28046  12850000         0           0        0             0   \n",
              "6   1591     85104   8100000         0           0        0             0   \n",
              "7   1999    102099  12100000         0           0        0             0   \n",
              "8    998     37303   3300000         0           0        0             0   \n",
              "9   1999     25483  12700000         0           0        0             0   \n",
              "10   998     83262   3400000         0           0        0             0   \n",
              "11   998     62908   4200000         0           0        0             0   \n",
              "12  1000     54133   4600000         0           0        0             0   \n",
              "13   998     49490   5030000         0           0        0             0   \n",
              "14   998     81308   3730000         0           0        0             0   \n",
              "15   998    105163   3200000         0           0        0             0   \n",
              "16   998     47757   4400000         0           0        0             0   \n",
              "17   999    111209   6200000         0           0        0             0   \n",
              "18  1999     86488   5810000         0           0        0             0   \n",
              "19  1000     53287   2400000         0           0        0             0   \n",
              "\n",
              "    CAR_NAME_ENC  DAMAGE_COUNT  OPTION_COUNT  ...  MISSNM_ENC  USEUSENM_ENC  \\\n",
              "0             17             0             3  ...           0             0   \n",
              "1             17             0             3  ...           0             0   \n",
              "2             17             6             3  ...           0             0   \n",
              "3             16             4             6  ...           0             5   \n",
              "4             19             0             6  ...           0             4   \n",
              "5              7             0             4  ...           0             0   \n",
              "6             16             0             3  ...           0             0   \n",
              "7              7             1             5  ...           0             0   \n",
              "8             23            10             3  ...           0             1   \n",
              "9              7             0             4  ...           0             0   \n",
              "10            23             5             3  ...           0             1   \n",
              "11            23             1             3  ...           0             1   \n",
              "12            23             0             3  ...           0             1   \n",
              "13            23             0             3  ...           0             1   \n",
              "14            23             1             3  ...           0             1   \n",
              "15            23             4             3  ...           0             1   \n",
              "16            23             1             3  ...           0             4   \n",
              "17            23             5             4  ...           0             5   \n",
              "18            17             9             4  ...           0             0   \n",
              "19            29             4             1  ...           0             5   \n",
              "\n",
              "    OWNECLASNM_ENC  FUELNM_ENC  YEARCHK_ENC  INNEEXPOCLASCD_YN_ENC  \\\n",
              "0                3           1            0                      1   \n",
              "1                3           1            0                      1   \n",
              "2                3           1            0                      1   \n",
              "3                3           2            1                      1   \n",
              "4                3           2            0                      1   \n",
              "5                3           1            1                      1   \n",
              "6                3           2            1                      1   \n",
              "7                3           1            1                      1   \n",
              "8                3           2            1                      1   \n",
              "9                3           1            1                      1   \n",
              "10               3           2            1                      1   \n",
              "11               3           2            1                      1   \n",
              "12               3           2            1                      1   \n",
              "13               3           2            1                      1   \n",
              "14               3           2            1                      1   \n",
              "15               3           2            1                      1   \n",
              "16               3           2            1                      1   \n",
              "17               3           2            1                      1   \n",
              "18               3           1            1                      1   \n",
              "19               3           2            1                      1   \n",
              "\n",
              "    ANNUAL_TRAVDIST  AUCTION_QUARTER_ENC  USED_DAYS  FINAL_PRICE  \n",
              "0      31186.600000                    1       1820   17130000.0  \n",
              "1      30592.000000                    1       1820   17130000.0  \n",
              "2      32294.200000                    1       1820   17130000.0  \n",
              "3      11794.000000                    1       1189   24050000.0  \n",
              "4       9393.000000                    1       1644   58670000.0  \n",
              "5       9348.666667                    1       1092   19460000.0  \n",
              "6      28368.000000                    1       1102   16050000.0  \n",
              "7      34033.000000                    1       1127   26130000.0  \n",
              "8       7460.600000                    1       1911   11890000.0  \n",
              "9       8494.333333                    1       1092   19460000.0  \n",
              "10     16652.400000                    1       1884   11890000.0  \n",
              "11     12581.600000                    1       1898   11890000.0  \n",
              "12     10826.600000                    1       1897   11890000.0  \n",
              "13      9898.000000                    1       1884   11890000.0  \n",
              "14     16261.600000                    1       1911   11890000.0  \n",
              "15     21032.600000                    1       1910   11890000.0  \n",
              "16      9551.400000                    1       1910   12110000.0  \n",
              "17     22241.800000                    1       1928   15700000.0  \n",
              "18     21622.000000                    1       1469   17670000.0  \n",
              "19      4844.272727                    1       4069   17130000.0  \n",
              "\n",
              "[20 rows x 21 columns]"
            ],
            "text/html": [
              "\n",
              "  <div id=\"df-b5817eae-f9ac-4942-be4a-38d1d73f93ad\" class=\"colab-df-container\">\n",
              "    <div>\n",
              "<style scoped>\n",
              "    .dataframe tbody tr th:only-of-type {\n",
              "        vertical-align: middle;\n",
              "    }\n",
              "\n",
              "    .dataframe tbody tr th {\n",
              "        vertical-align: top;\n",
              "    }\n",
              "\n",
              "    .dataframe thead th {\n",
              "        text-align: right;\n",
              "    }\n",
              "</style>\n",
              "<table border=\"1\" class=\"dataframe\">\n",
              "  <thead>\n",
              "    <tr style=\"text-align: right;\">\n",
              "      <th></th>\n",
              "      <th>EXHA</th>\n",
              "      <th>TRAVDIST</th>\n",
              "      <th>SUCCPRIC</th>\n",
              "      <th>FLOODING</th>\n",
              "      <th>TOTAL_LOSS</th>\n",
              "      <th>JOINCAR</th>\n",
              "      <th>NOTAVAILABLE</th>\n",
              "      <th>CAR_NAME_ENC</th>\n",
              "      <th>DAMAGE_COUNT</th>\n",
              "      <th>OPTION_COUNT</th>\n",
              "      <th>...</th>\n",
              "      <th>MISSNM_ENC</th>\n",
              "      <th>USEUSENM_ENC</th>\n",
              "      <th>OWNECLASNM_ENC</th>\n",
              "      <th>FUELNM_ENC</th>\n",
              "      <th>YEARCHK_ENC</th>\n",
              "      <th>INNEEXPOCLASCD_YN_ENC</th>\n",
              "      <th>ANNUAL_TRAVDIST</th>\n",
              "      <th>AUCTION_QUARTER_ENC</th>\n",
              "      <th>USED_DAYS</th>\n",
              "      <th>FINAL_PRICE</th>\n",
              "    </tr>\n",
              "  </thead>\n",
              "  <tbody>\n",
              "    <tr>\n",
              "      <th>0</th>\n",
              "      <td>1999</td>\n",
              "      <td>155933</td>\n",
              "      <td>5600000</td>\n",
              "      <td>0</td>\n",
              "      <td>0</td>\n",
              "      <td>0</td>\n",
              "      <td>0</td>\n",
              "      <td>17</td>\n",
              "      <td>0</td>\n",
              "      <td>3</td>\n",
              "      <td>...</td>\n",
              "      <td>0</td>\n",
              "      <td>0</td>\n",
              "      <td>3</td>\n",
              "      <td>1</td>\n",
              "      <td>0</td>\n",
              "      <td>1</td>\n",
              "      <td>31186.600000</td>\n",
              "      <td>1</td>\n",
              "      <td>1820</td>\n",
              "      <td>17130000.0</td>\n",
              "    </tr>\n",
              "    <tr>\n",
              "      <th>1</th>\n",
              "      <td>1999</td>\n",
              "      <td>152960</td>\n",
              "      <td>5700000</td>\n",
              "      <td>0</td>\n",
              "      <td>0</td>\n",
              "      <td>0</td>\n",
              "      <td>0</td>\n",
              "      <td>17</td>\n",
              "      <td>0</td>\n",
              "      <td>3</td>\n",
              "      <td>...</td>\n",
              "      <td>0</td>\n",
              "      <td>0</td>\n",
              "      <td>3</td>\n",
              "      <td>1</td>\n",
              "      <td>0</td>\n",
              "      <td>1</td>\n",
              "      <td>30592.000000</td>\n",
              "      <td>1</td>\n",
              "      <td>1820</td>\n",
              "      <td>17130000.0</td>\n",
              "    </tr>\n",
              "    <tr>\n",
              "      <th>2</th>\n",
              "      <td>1999</td>\n",
              "      <td>161471</td>\n",
              "      <td>5700000</td>\n",
              "      <td>0</td>\n",
              "      <td>0</td>\n",
              "      <td>0</td>\n",
              "      <td>0</td>\n",
              "      <td>17</td>\n",
              "      <td>6</td>\n",
              "      <td>3</td>\n",
              "      <td>...</td>\n",
              "      <td>0</td>\n",
              "      <td>0</td>\n",
              "      <td>3</td>\n",
              "      <td>1</td>\n",
              "      <td>0</td>\n",
              "      <td>1</td>\n",
              "      <td>32294.200000</td>\n",
              "      <td>1</td>\n",
              "      <td>1820</td>\n",
              "      <td>17130000.0</td>\n",
              "    </tr>\n",
              "    <tr>\n",
              "      <th>3</th>\n",
              "      <td>1591</td>\n",
              "      <td>35382</td>\n",
              "      <td>13100000</td>\n",
              "      <td>0</td>\n",
              "      <td>0</td>\n",
              "      <td>0</td>\n",
              "      <td>0</td>\n",
              "      <td>16</td>\n",
              "      <td>4</td>\n",
              "      <td>6</td>\n",
              "      <td>...</td>\n",
              "      <td>0</td>\n",
              "      <td>5</td>\n",
              "      <td>3</td>\n",
              "      <td>2</td>\n",
              "      <td>1</td>\n",
              "      <td>1</td>\n",
              "      <td>11794.000000</td>\n",
              "      <td>1</td>\n",
              "      <td>1189</td>\n",
              "      <td>24050000.0</td>\n",
              "    </tr>\n",
              "    <tr>\n",
              "      <th>4</th>\n",
              "      <td>3342</td>\n",
              "      <td>46965</td>\n",
              "      <td>25800000</td>\n",
              "      <td>0</td>\n",
              "      <td>0</td>\n",
              "      <td>0</td>\n",
              "      <td>0</td>\n",
              "      <td>19</td>\n",
              "      <td>0</td>\n",
              "      <td>6</td>\n",
              "      <td>...</td>\n",
              "      <td>0</td>\n",
              "      <td>4</td>\n",
              "      <td>3</td>\n",
              "      <td>2</td>\n",
              "      <td>0</td>\n",
              "      <td>1</td>\n",
              "      <td>9393.000000</td>\n",
              "      <td>1</td>\n",
              "      <td>1644</td>\n",
              "      <td>58670000.0</td>\n",
              "    </tr>\n",
              "    <tr>\n",
              "      <th>5</th>\n",
              "      <td>1999</td>\n",
              "      <td>28046</td>\n",
              "      <td>12850000</td>\n",
              "      <td>0</td>\n",
              "      <td>0</td>\n",
              "      <td>0</td>\n",
              "      <td>0</td>\n",
              "      <td>7</td>\n",
              "      <td>0</td>\n",
              "      <td>4</td>\n",
              "      <td>...</td>\n",
              "      <td>0</td>\n",
              "      <td>0</td>\n",
              "      <td>3</td>\n",
              "      <td>1</td>\n",
              "      <td>1</td>\n",
              "      <td>1</td>\n",
              "      <td>9348.666667</td>\n",
              "      <td>1</td>\n",
              "      <td>1092</td>\n",
              "      <td>19460000.0</td>\n",
              "    </tr>\n",
              "    <tr>\n",
              "      <th>6</th>\n",
              "      <td>1591</td>\n",
              "      <td>85104</td>\n",
              "      <td>8100000</td>\n",
              "      <td>0</td>\n",
              "      <td>0</td>\n",
              "      <td>0</td>\n",
              "      <td>0</td>\n",
              "      <td>16</td>\n",
              "      <td>0</td>\n",
              "      <td>3</td>\n",
              "      <td>...</td>\n",
              "      <td>0</td>\n",
              "      <td>0</td>\n",
              "      <td>3</td>\n",
              "      <td>2</td>\n",
              "      <td>1</td>\n",
              "      <td>1</td>\n",
              "      <td>28368.000000</td>\n",
              "      <td>1</td>\n",
              "      <td>1102</td>\n",
              "      <td>16050000.0</td>\n",
              "    </tr>\n",
              "    <tr>\n",
              "      <th>7</th>\n",
              "      <td>1999</td>\n",
              "      <td>102099</td>\n",
              "      <td>12100000</td>\n",
              "      <td>0</td>\n",
              "      <td>0</td>\n",
              "      <td>0</td>\n",
              "      <td>0</td>\n",
              "      <td>7</td>\n",
              "      <td>1</td>\n",
              "      <td>5</td>\n",
              "      <td>...</td>\n",
              "      <td>0</td>\n",
              "      <td>0</td>\n",
              "      <td>3</td>\n",
              "      <td>1</td>\n",
              "      <td>1</td>\n",
              "      <td>1</td>\n",
              "      <td>34033.000000</td>\n",
              "      <td>1</td>\n",
              "      <td>1127</td>\n",
              "      <td>26130000.0</td>\n",
              "    </tr>\n",
              "    <tr>\n",
              "      <th>8</th>\n",
              "      <td>998</td>\n",
              "      <td>37303</td>\n",
              "      <td>3300000</td>\n",
              "      <td>0</td>\n",
              "      <td>0</td>\n",
              "      <td>0</td>\n",
              "      <td>0</td>\n",
              "      <td>23</td>\n",
              "      <td>10</td>\n",
              "      <td>3</td>\n",
              "      <td>...</td>\n",
              "      <td>0</td>\n",
              "      <td>1</td>\n",
              "      <td>3</td>\n",
              "      <td>2</td>\n",
              "      <td>1</td>\n",
              "      <td>1</td>\n",
              "      <td>7460.600000</td>\n",
              "      <td>1</td>\n",
              "      <td>1911</td>\n",
              "      <td>11890000.0</td>\n",
              "    </tr>\n",
              "    <tr>\n",
              "      <th>9</th>\n",
              "      <td>1999</td>\n",
              "      <td>25483</td>\n",
              "      <td>12700000</td>\n",
              "      <td>0</td>\n",
              "      <td>0</td>\n",
              "      <td>0</td>\n",
              "      <td>0</td>\n",
              "      <td>7</td>\n",
              "      <td>0</td>\n",
              "      <td>4</td>\n",
              "      <td>...</td>\n",
              "      <td>0</td>\n",
              "      <td>0</td>\n",
              "      <td>3</td>\n",
              "      <td>1</td>\n",
              "      <td>1</td>\n",
              "      <td>1</td>\n",
              "      <td>8494.333333</td>\n",
              "      <td>1</td>\n",
              "      <td>1092</td>\n",
              "      <td>19460000.0</td>\n",
              "    </tr>\n",
              "    <tr>\n",
              "      <th>10</th>\n",
              "      <td>998</td>\n",
              "      <td>83262</td>\n",
              "      <td>3400000</td>\n",
              "      <td>0</td>\n",
              "      <td>0</td>\n",
              "      <td>0</td>\n",
              "      <td>0</td>\n",
              "      <td>23</td>\n",
              "      <td>5</td>\n",
              "      <td>3</td>\n",
              "      <td>...</td>\n",
              "      <td>0</td>\n",
              "      <td>1</td>\n",
              "      <td>3</td>\n",
              "      <td>2</td>\n",
              "      <td>1</td>\n",
              "      <td>1</td>\n",
              "      <td>16652.400000</td>\n",
              "      <td>1</td>\n",
              "      <td>1884</td>\n",
              "      <td>11890000.0</td>\n",
              "    </tr>\n",
              "    <tr>\n",
              "      <th>11</th>\n",
              "      <td>998</td>\n",
              "      <td>62908</td>\n",
              "      <td>4200000</td>\n",
              "      <td>0</td>\n",
              "      <td>0</td>\n",
              "      <td>0</td>\n",
              "      <td>0</td>\n",
              "      <td>23</td>\n",
              "      <td>1</td>\n",
              "      <td>3</td>\n",
              "      <td>...</td>\n",
              "      <td>0</td>\n",
              "      <td>1</td>\n",
              "      <td>3</td>\n",
              "      <td>2</td>\n",
              "      <td>1</td>\n",
              "      <td>1</td>\n",
              "      <td>12581.600000</td>\n",
              "      <td>1</td>\n",
              "      <td>1898</td>\n",
              "      <td>11890000.0</td>\n",
              "    </tr>\n",
              "    <tr>\n",
              "      <th>12</th>\n",
              "      <td>1000</td>\n",
              "      <td>54133</td>\n",
              "      <td>4600000</td>\n",
              "      <td>0</td>\n",
              "      <td>0</td>\n",
              "      <td>0</td>\n",
              "      <td>0</td>\n",
              "      <td>23</td>\n",
              "      <td>0</td>\n",
              "      <td>3</td>\n",
              "      <td>...</td>\n",
              "      <td>0</td>\n",
              "      <td>1</td>\n",
              "      <td>3</td>\n",
              "      <td>2</td>\n",
              "      <td>1</td>\n",
              "      <td>1</td>\n",
              "      <td>10826.600000</td>\n",
              "      <td>1</td>\n",
              "      <td>1897</td>\n",
              "      <td>11890000.0</td>\n",
              "    </tr>\n",
              "    <tr>\n",
              "      <th>13</th>\n",
              "      <td>998</td>\n",
              "      <td>49490</td>\n",
              "      <td>5030000</td>\n",
              "      <td>0</td>\n",
              "      <td>0</td>\n",
              "      <td>0</td>\n",
              "      <td>0</td>\n",
              "      <td>23</td>\n",
              "      <td>0</td>\n",
              "      <td>3</td>\n",
              "      <td>...</td>\n",
              "      <td>0</td>\n",
              "      <td>1</td>\n",
              "      <td>3</td>\n",
              "      <td>2</td>\n",
              "      <td>1</td>\n",
              "      <td>1</td>\n",
              "      <td>9898.000000</td>\n",
              "      <td>1</td>\n",
              "      <td>1884</td>\n",
              "      <td>11890000.0</td>\n",
              "    </tr>\n",
              "    <tr>\n",
              "      <th>14</th>\n",
              "      <td>998</td>\n",
              "      <td>81308</td>\n",
              "      <td>3730000</td>\n",
              "      <td>0</td>\n",
              "      <td>0</td>\n",
              "      <td>0</td>\n",
              "      <td>0</td>\n",
              "      <td>23</td>\n",
              "      <td>1</td>\n",
              "      <td>3</td>\n",
              "      <td>...</td>\n",
              "      <td>0</td>\n",
              "      <td>1</td>\n",
              "      <td>3</td>\n",
              "      <td>2</td>\n",
              "      <td>1</td>\n",
              "      <td>1</td>\n",
              "      <td>16261.600000</td>\n",
              "      <td>1</td>\n",
              "      <td>1911</td>\n",
              "      <td>11890000.0</td>\n",
              "    </tr>\n",
              "    <tr>\n",
              "      <th>15</th>\n",
              "      <td>998</td>\n",
              "      <td>105163</td>\n",
              "      <td>3200000</td>\n",
              "      <td>0</td>\n",
              "      <td>0</td>\n",
              "      <td>0</td>\n",
              "      <td>0</td>\n",
              "      <td>23</td>\n",
              "      <td>4</td>\n",
              "      <td>3</td>\n",
              "      <td>...</td>\n",
              "      <td>0</td>\n",
              "      <td>1</td>\n",
              "      <td>3</td>\n",
              "      <td>2</td>\n",
              "      <td>1</td>\n",
              "      <td>1</td>\n",
              "      <td>21032.600000</td>\n",
              "      <td>1</td>\n",
              "      <td>1910</td>\n",
              "      <td>11890000.0</td>\n",
              "    </tr>\n",
              "    <tr>\n",
              "      <th>16</th>\n",
              "      <td>998</td>\n",
              "      <td>47757</td>\n",
              "      <td>4400000</td>\n",
              "      <td>0</td>\n",
              "      <td>0</td>\n",
              "      <td>0</td>\n",
              "      <td>0</td>\n",
              "      <td>23</td>\n",
              "      <td>1</td>\n",
              "      <td>3</td>\n",
              "      <td>...</td>\n",
              "      <td>0</td>\n",
              "      <td>4</td>\n",
              "      <td>3</td>\n",
              "      <td>2</td>\n",
              "      <td>1</td>\n",
              "      <td>1</td>\n",
              "      <td>9551.400000</td>\n",
              "      <td>1</td>\n",
              "      <td>1910</td>\n",
              "      <td>12110000.0</td>\n",
              "    </tr>\n",
              "    <tr>\n",
              "      <th>17</th>\n",
              "      <td>999</td>\n",
              "      <td>111209</td>\n",
              "      <td>6200000</td>\n",
              "      <td>0</td>\n",
              "      <td>0</td>\n",
              "      <td>0</td>\n",
              "      <td>0</td>\n",
              "      <td>23</td>\n",
              "      <td>5</td>\n",
              "      <td>4</td>\n",
              "      <td>...</td>\n",
              "      <td>0</td>\n",
              "      <td>5</td>\n",
              "      <td>3</td>\n",
              "      <td>2</td>\n",
              "      <td>1</td>\n",
              "      <td>1</td>\n",
              "      <td>22241.800000</td>\n",
              "      <td>1</td>\n",
              "      <td>1928</td>\n",
              "      <td>15700000.0</td>\n",
              "    </tr>\n",
              "    <tr>\n",
              "      <th>18</th>\n",
              "      <td>1999</td>\n",
              "      <td>86488</td>\n",
              "      <td>5810000</td>\n",
              "      <td>0</td>\n",
              "      <td>0</td>\n",
              "      <td>0</td>\n",
              "      <td>0</td>\n",
              "      <td>17</td>\n",
              "      <td>9</td>\n",
              "      <td>4</td>\n",
              "      <td>...</td>\n",
              "      <td>0</td>\n",
              "      <td>0</td>\n",
              "      <td>3</td>\n",
              "      <td>1</td>\n",
              "      <td>1</td>\n",
              "      <td>1</td>\n",
              "      <td>21622.000000</td>\n",
              "      <td>1</td>\n",
              "      <td>1469</td>\n",
              "      <td>17670000.0</td>\n",
              "    </tr>\n",
              "    <tr>\n",
              "      <th>19</th>\n",
              "      <td>1000</td>\n",
              "      <td>53287</td>\n",
              "      <td>2400000</td>\n",
              "      <td>0</td>\n",
              "      <td>0</td>\n",
              "      <td>0</td>\n",
              "      <td>0</td>\n",
              "      <td>29</td>\n",
              "      <td>4</td>\n",
              "      <td>1</td>\n",
              "      <td>...</td>\n",
              "      <td>0</td>\n",
              "      <td>5</td>\n",
              "      <td>3</td>\n",
              "      <td>2</td>\n",
              "      <td>1</td>\n",
              "      <td>1</td>\n",
              "      <td>4844.272727</td>\n",
              "      <td>1</td>\n",
              "      <td>4069</td>\n",
              "      <td>17130000.0</td>\n",
              "    </tr>\n",
              "  </tbody>\n",
              "</table>\n",
              "<p>20 rows × 21 columns</p>\n",
              "</div>\n",
              "    <div class=\"colab-df-buttons\">\n",
              "\n",
              "  <div class=\"colab-df-container\">\n",
              "    <button class=\"colab-df-convert\" onclick=\"convertToInteractive('df-b5817eae-f9ac-4942-be4a-38d1d73f93ad')\"\n",
              "            title=\"Convert this dataframe to an interactive table.\"\n",
              "            style=\"display:none;\">\n",
              "\n",
              "  <svg xmlns=\"http://www.w3.org/2000/svg\" height=\"24px\" viewBox=\"0 -960 960 960\">\n",
              "    <path d=\"M120-120v-720h720v720H120Zm60-500h600v-160H180v160Zm220 220h160v-160H400v160Zm0 220h160v-160H400v160ZM180-400h160v-160H180v160Zm440 0h160v-160H620v160ZM180-180h160v-160H180v160Zm440 0h160v-160H620v160Z\"/>\n",
              "  </svg>\n",
              "    </button>\n",
              "\n",
              "  <style>\n",
              "    .colab-df-container {\n",
              "      display:flex;\n",
              "      gap: 12px;\n",
              "    }\n",
              "\n",
              "    .colab-df-convert {\n",
              "      background-color: #E8F0FE;\n",
              "      border: none;\n",
              "      border-radius: 50%;\n",
              "      cursor: pointer;\n",
              "      display: none;\n",
              "      fill: #1967D2;\n",
              "      height: 32px;\n",
              "      padding: 0 0 0 0;\n",
              "      width: 32px;\n",
              "    }\n",
              "\n",
              "    .colab-df-convert:hover {\n",
              "      background-color: #E2EBFA;\n",
              "      box-shadow: 0px 1px 2px rgba(60, 64, 67, 0.3), 0px 1px 3px 1px rgba(60, 64, 67, 0.15);\n",
              "      fill: #174EA6;\n",
              "    }\n",
              "\n",
              "    .colab-df-buttons div {\n",
              "      margin-bottom: 4px;\n",
              "    }\n",
              "\n",
              "    [theme=dark] .colab-df-convert {\n",
              "      background-color: #3B4455;\n",
              "      fill: #D2E3FC;\n",
              "    }\n",
              "\n",
              "    [theme=dark] .colab-df-convert:hover {\n",
              "      background-color: #434B5C;\n",
              "      box-shadow: 0px 1px 3px 1px rgba(0, 0, 0, 0.15);\n",
              "      filter: drop-shadow(0px 1px 2px rgba(0, 0, 0, 0.3));\n",
              "      fill: #FFFFFF;\n",
              "    }\n",
              "  </style>\n",
              "\n",
              "    <script>\n",
              "      const buttonEl =\n",
              "        document.querySelector('#df-b5817eae-f9ac-4942-be4a-38d1d73f93ad button.colab-df-convert');\n",
              "      buttonEl.style.display =\n",
              "        google.colab.kernel.accessAllowed ? 'block' : 'none';\n",
              "\n",
              "      async function convertToInteractive(key) {\n",
              "        const element = document.querySelector('#df-b5817eae-f9ac-4942-be4a-38d1d73f93ad');\n",
              "        const dataTable =\n",
              "          await google.colab.kernel.invokeFunction('convertToInteractive',\n",
              "                                                    [key], {});\n",
              "        if (!dataTable) return;\n",
              "\n",
              "        const docLinkHtml = 'Like what you see? Visit the ' +\n",
              "          '<a target=\"_blank\" href=https://colab.research.google.com/notebooks/data_table.ipynb>data table notebook</a>'\n",
              "          + ' to learn more about interactive tables.';\n",
              "        element.innerHTML = '';\n",
              "        dataTable['output_type'] = 'display_data';\n",
              "        await google.colab.output.renderOutput(dataTable, element);\n",
              "        const docLink = document.createElement('div');\n",
              "        docLink.innerHTML = docLinkHtml;\n",
              "        element.appendChild(docLink);\n",
              "      }\n",
              "    </script>\n",
              "  </div>\n",
              "\n",
              "\n",
              "<div id=\"df-849098ca-a24d-4a61-8e85-313bf37fc6c0\">\n",
              "  <button class=\"colab-df-quickchart\" onclick=\"quickchart('df-849098ca-a24d-4a61-8e85-313bf37fc6c0')\"\n",
              "            title=\"Suggest charts\"\n",
              "            style=\"display:none;\">\n",
              "\n",
              "<svg xmlns=\"http://www.w3.org/2000/svg\" height=\"24px\"viewBox=\"0 0 24 24\"\n",
              "     width=\"24px\">\n",
              "    <g>\n",
              "        <path d=\"M19 3H5c-1.1 0-2 .9-2 2v14c0 1.1.9 2 2 2h14c1.1 0 2-.9 2-2V5c0-1.1-.9-2-2-2zM9 17H7v-7h2v7zm4 0h-2V7h2v10zm4 0h-2v-4h2v4z\"/>\n",
              "    </g>\n",
              "</svg>\n",
              "  </button>\n",
              "\n",
              "<style>\n",
              "  .colab-df-quickchart {\n",
              "      --bg-color: #E8F0FE;\n",
              "      --fill-color: #1967D2;\n",
              "      --hover-bg-color: #E2EBFA;\n",
              "      --hover-fill-color: #174EA6;\n",
              "      --disabled-fill-color: #AAA;\n",
              "      --disabled-bg-color: #DDD;\n",
              "  }\n",
              "\n",
              "  [theme=dark] .colab-df-quickchart {\n",
              "      --bg-color: #3B4455;\n",
              "      --fill-color: #D2E3FC;\n",
              "      --hover-bg-color: #434B5C;\n",
              "      --hover-fill-color: #FFFFFF;\n",
              "      --disabled-bg-color: #3B4455;\n",
              "      --disabled-fill-color: #666;\n",
              "  }\n",
              "\n",
              "  .colab-df-quickchart {\n",
              "    background-color: var(--bg-color);\n",
              "    border: none;\n",
              "    border-radius: 50%;\n",
              "    cursor: pointer;\n",
              "    display: none;\n",
              "    fill: var(--fill-color);\n",
              "    height: 32px;\n",
              "    padding: 0;\n",
              "    width: 32px;\n",
              "  }\n",
              "\n",
              "  .colab-df-quickchart:hover {\n",
              "    background-color: var(--hover-bg-color);\n",
              "    box-shadow: 0 1px 2px rgba(60, 64, 67, 0.3), 0 1px 3px 1px rgba(60, 64, 67, 0.15);\n",
              "    fill: var(--button-hover-fill-color);\n",
              "  }\n",
              "\n",
              "  .colab-df-quickchart-complete:disabled,\n",
              "  .colab-df-quickchart-complete:disabled:hover {\n",
              "    background-color: var(--disabled-bg-color);\n",
              "    fill: var(--disabled-fill-color);\n",
              "    box-shadow: none;\n",
              "  }\n",
              "\n",
              "  .colab-df-spinner {\n",
              "    border: 2px solid var(--fill-color);\n",
              "    border-color: transparent;\n",
              "    border-bottom-color: var(--fill-color);\n",
              "    animation:\n",
              "      spin 1s steps(1) infinite;\n",
              "  }\n",
              "\n",
              "  @keyframes spin {\n",
              "    0% {\n",
              "      border-color: transparent;\n",
              "      border-bottom-color: var(--fill-color);\n",
              "      border-left-color: var(--fill-color);\n",
              "    }\n",
              "    20% {\n",
              "      border-color: transparent;\n",
              "      border-left-color: var(--fill-color);\n",
              "      border-top-color: var(--fill-color);\n",
              "    }\n",
              "    30% {\n",
              "      border-color: transparent;\n",
              "      border-left-color: var(--fill-color);\n",
              "      border-top-color: var(--fill-color);\n",
              "      border-right-color: var(--fill-color);\n",
              "    }\n",
              "    40% {\n",
              "      border-color: transparent;\n",
              "      border-right-color: var(--fill-color);\n",
              "      border-top-color: var(--fill-color);\n",
              "    }\n",
              "    60% {\n",
              "      border-color: transparent;\n",
              "      border-right-color: var(--fill-color);\n",
              "    }\n",
              "    80% {\n",
              "      border-color: transparent;\n",
              "      border-right-color: var(--fill-color);\n",
              "      border-bottom-color: var(--fill-color);\n",
              "    }\n",
              "    90% {\n",
              "      border-color: transparent;\n",
              "      border-bottom-color: var(--fill-color);\n",
              "    }\n",
              "  }\n",
              "</style>\n",
              "\n",
              "  <script>\n",
              "    async function quickchart(key) {\n",
              "      const quickchartButtonEl =\n",
              "        document.querySelector('#' + key + ' button');\n",
              "      quickchartButtonEl.disabled = true;  // To prevent multiple clicks.\n",
              "      quickchartButtonEl.classList.add('colab-df-spinner');\n",
              "      try {\n",
              "        const charts = await google.colab.kernel.invokeFunction(\n",
              "            'suggestCharts', [key], {});\n",
              "      } catch (error) {\n",
              "        console.error('Error during call to suggestCharts:', error);\n",
              "      }\n",
              "      quickchartButtonEl.classList.remove('colab-df-spinner');\n",
              "      quickchartButtonEl.classList.add('colab-df-quickchart-complete');\n",
              "    }\n",
              "    (() => {\n",
              "      let quickchartButtonEl =\n",
              "        document.querySelector('#df-849098ca-a24d-4a61-8e85-313bf37fc6c0 button');\n",
              "      quickchartButtonEl.style.display =\n",
              "        google.colab.kernel.accessAllowed ? 'block' : 'none';\n",
              "    })();\n",
              "  </script>\n",
              "</div>\n",
              "\n",
              "  <div id=\"id_fec3a907-e5f1-426c-9b9e-92ddd125d578\">\n",
              "    <style>\n",
              "      .colab-df-generate {\n",
              "        background-color: #E8F0FE;\n",
              "        border: none;\n",
              "        border-radius: 50%;\n",
              "        cursor: pointer;\n",
              "        display: none;\n",
              "        fill: #1967D2;\n",
              "        height: 32px;\n",
              "        padding: 0 0 0 0;\n",
              "        width: 32px;\n",
              "      }\n",
              "\n",
              "      .colab-df-generate:hover {\n",
              "        background-color: #E2EBFA;\n",
              "        box-shadow: 0px 1px 2px rgba(60, 64, 67, 0.3), 0px 1px 3px 1px rgba(60, 64, 67, 0.15);\n",
              "        fill: #174EA6;\n",
              "      }\n",
              "\n",
              "      [theme=dark] .colab-df-generate {\n",
              "        background-color: #3B4455;\n",
              "        fill: #D2E3FC;\n",
              "      }\n",
              "\n",
              "      [theme=dark] .colab-df-generate:hover {\n",
              "        background-color: #434B5C;\n",
              "        box-shadow: 0px 1px 3px 1px rgba(0, 0, 0, 0.15);\n",
              "        filter: drop-shadow(0px 1px 2px rgba(0, 0, 0, 0.3));\n",
              "        fill: #FFFFFF;\n",
              "      }\n",
              "    </style>\n",
              "    <button class=\"colab-df-generate\" onclick=\"generateWithVariable('df_test')\"\n",
              "            title=\"Generate code using this dataframe.\"\n",
              "            style=\"display:none;\">\n",
              "\n",
              "  <svg xmlns=\"http://www.w3.org/2000/svg\" height=\"24px\"viewBox=\"0 0 24 24\"\n",
              "       width=\"24px\">\n",
              "    <path d=\"M7,19H8.4L18.45,9,17,7.55,7,17.6ZM5,21V16.75L18.45,3.32a2,2,0,0,1,2.83,0l1.4,1.43a1.91,1.91,0,0,1,.58,1.4,1.91,1.91,0,0,1-.58,1.4L9.25,21ZM18.45,9,17,7.55Zm-12,3A5.31,5.31,0,0,0,4.9,8.1,5.31,5.31,0,0,0,1,6.5,5.31,5.31,0,0,0,4.9,4.9,5.31,5.31,0,0,0,6.5,1,5.31,5.31,0,0,0,8.1,4.9,5.31,5.31,0,0,0,12,6.5,5.46,5.46,0,0,0,6.5,12Z\"/>\n",
              "  </svg>\n",
              "    </button>\n",
              "    <script>\n",
              "      (() => {\n",
              "      const buttonEl =\n",
              "        document.querySelector('#id_fec3a907-e5f1-426c-9b9e-92ddd125d578 button.colab-df-generate');\n",
              "      buttonEl.style.display =\n",
              "        google.colab.kernel.accessAllowed ? 'block' : 'none';\n",
              "\n",
              "      buttonEl.onclick = () => {\n",
              "        google.colab.notebook.generateWithVariable('df_test');\n",
              "      }\n",
              "      })();\n",
              "    </script>\n",
              "  </div>\n",
              "\n",
              "    </div>\n",
              "  </div>\n"
            ],
            "application/vnd.google.colaboratory.intrinsic+json": {
              "type": "dataframe",
              "variable_name": "df_test"
            }
          },
          "metadata": {},
          "execution_count": 481
        }
      ]
    },
    {
      "cell_type": "code",
      "source": [
        "df_test.to_csv('/content/drive/MyDrive/Colab Notebooks/P1_team3_test_real.csv', index=False)"
      ],
      "metadata": {
        "id": "qnkd9QhJGDti"
      },
      "execution_count": null,
      "outputs": []
    },
    {
      "cell_type": "markdown",
      "source": [
        "**저장해놓은 전처리한 데이터셋과 TEST 데이터셋 불러오기**"
      ],
      "metadata": {
        "id": "ZEkEI1MKak6n"
      }
    },
    {
      "cell_type": "code",
      "source": [
        "df_full = pd.read_csv('/content/drive/MyDrive/Colab Notebooks/P1_team3_real.csv', encoding ='cp949')"
      ],
      "metadata": {
        "id": "qYbGOErxIijV"
      },
      "execution_count": null,
      "outputs": []
    },
    {
      "cell_type": "code",
      "source": [
        "df_test_full = pd.read_csv('/content/drive/MyDrive/Colab Notebooks/P1_team3_test_real.csv', encoding ='cp949')"
      ],
      "metadata": {
        "id": "RLVjTnN-JPiv"
      },
      "execution_count": null,
      "outputs": []
    },
    {
      "cell_type": "markdown",
      "source": [
        "Randomseed 아무거나 5개로 설정 후 train, valid 사이 평균 값 구하기"
      ],
      "metadata": {
        "id": "1n8Y0R1wPxm9"
      }
    },
    {
      "cell_type": "code",
      "source": [
        "from sklearn.model_selection import train_test_split\n",
        "import random\n",
        "\n",
        "X = df_full.drop(columns=['SUCCPRIC'])\n",
        "y = df_full['SUCCPRIC']\n",
        "\n",
        "seeds = [101, 202, 303, 404, 505]  # 예시 시드 5개\n",
        "splits = []  # 결과 저장\n",
        "\n",
        "for seed in seeds:\n",
        "    X_train, X_valid, y_train, y_valid = train_test_split(\n",
        "        X, y, test_size=0.2, random_state=seed\n",
        "    )\n",
        "    splits.append({\n",
        "        'seed': seed,\n",
        "        'X_train': X_train,\n",
        "        'X_valid': X_valid,\n",
        "        'y_train': y_train,\n",
        "        'y_valid': y_valid\n",
        "    })\n"
      ],
      "metadata": {
        "id": "HFoPhiuYJjL5"
      },
      "execution_count": null,
      "outputs": []
    },
    {
      "cell_type": "markdown",
      "source": [
        "test data에 대해 모델 진행"
      ],
      "metadata": {
        "id": "OhK1cs2bQAP2"
      }
    },
    {
      "cell_type": "markdown",
      "source": [
        "##ADABOOST 진행"
      ],
      "metadata": {
        "id": "1C698VhAS1vf"
      }
    },
    {
      "cell_type": "code",
      "source": [
        "from sklearn.ensemble import AdaBoostRegressor\n",
        "from sklearn.tree import DecisionTreeRegressor\n",
        "from sklearn.metrics import mean_squared_error, mean_absolute_percentage_error\n",
        "import numpy as np\n",
        "import pandas as pd\n",
        "\n",
        "# 하이퍼파라미터 고정\n",
        "n_estimators = 130\n",
        "learning_rate = 0.1\n",
        "max_depth = 10\n",
        "\n",
        "# 결과 저장 리스트\n",
        "train_mses = []\n",
        "valid_mses = []\n",
        "valid_mapes = []\n",
        "\n",
        "for split in splits:\n",
        "    X_train = split['X_train']\n",
        "    y_train = split['y_train']\n",
        "    X_valid = split['X_valid']\n",
        "    y_valid = split['y_valid']\n",
        "\n",
        "    model = AdaBoostRegressor(\n",
        "        estimator=DecisionTreeRegressor(max_depth=max_depth),\n",
        "        n_estimators=n_estimators,\n",
        "        learning_rate=learning_rate,\n",
        "        random_state=42\n",
        "    )\n",
        "    model.fit(X_train, y_train)\n",
        "\n",
        "    y_train_pred = model.predict(X_train)\n",
        "    y_valid_pred = model.predict(X_valid)\n",
        "\n",
        "    train_mse = mean_squared_error(y_train, y_train_pred)\n",
        "    valid_mse = mean_squared_error(y_valid, y_valid_pred)\n",
        "    valid_mape = mean_absolute_percentage_error(y_valid, y_valid_pred) * 100  # %\n",
        "\n",
        "    train_mses.append(train_mse)\n",
        "    valid_mses.append(valid_mse)\n",
        "    valid_mapes.append(valid_mape)\n",
        "\n",
        "# 결과 테이블\n",
        "mape_df = pd.DataFrame({\n",
        "    'Seed': [s['seed'] for s in splits],\n",
        "    'Train MSE': train_mses,\n",
        "    'Valid MSE': valid_mses,\n",
        "    'Valid MAPE (%)': valid_mapes\n",
        "})\n",
        "\n",
        "# 평균값\n",
        "avg_train_mse = np.mean(train_mses)\n",
        "avg_valid_mse = np.mean(valid_mses)\n",
        "avg_valid_mape = np.mean(valid_mapes)\n",
        "\n",
        "best_ADABOOST_model = model\n",
        "\n",
        "# 출력\n",
        "print(mape_df)\n",
        "print(f\"\\n▶ 평균 Train MSE: {avg_train_mse:.2f}\")\n",
        "print(f\"▶ 평균 Valid MSE: {avg_valid_mse:.2f}\")\n",
        "print(f\"▶ 평균 Valid MAPE: {avg_valid_mape:.2f}%\")"
      ],
      "metadata": {
        "colab": {
          "base_uri": "https://localhost:8080/"
        },
        "id": "QAMBCCSqRlyf",
        "outputId": "d0356091-fb3b-4720-a20d-d58c986d0241"
      },
      "execution_count": null,
      "outputs": [
        {
          "output_type": "stream",
          "name": "stdout",
          "text": [
            "   Seed     Train MSE     Valid MSE  Valid MAPE (%)\n",
            "0   101  5.116915e+11  9.732999e+11       10.538922\n",
            "1   202  4.992836e+11  9.987109e+11       10.485088\n",
            "2   303  4.968027e+11  1.036915e+12       12.427623\n",
            "3   404  4.964748e+11  1.057465e+12       12.547614\n",
            "4   505  5.030496e+11  9.570505e+11       11.081605\n",
            "\n",
            "▶ 평균 Train MSE: 501460451480.84\n",
            "▶ 평균 Valid MSE: 1004688295575.85\n",
            "▶ 평균 Valid MAPE: 11.42%\n"
          ]
        }
      ]
    },
    {
      "cell_type": "markdown",
      "source": [
        "TEST SET에 대해서도 진행"
      ],
      "metadata": {
        "id": "DsWmTZRuSQRv"
      }
    },
    {
      "cell_type": "code",
      "source": [
        "# Feature / Target 분리\n",
        "X_test = df_test.drop(columns=['SUCCPRIC'])\n",
        "y_test = df_test['SUCCPRIC']"
      ],
      "metadata": {
        "id": "0RFZCSLkSUBn"
      },
      "execution_count": null,
      "outputs": []
    },
    {
      "cell_type": "code",
      "source": [
        "from sklearn.metrics import mean_squared_error, mean_absolute_error, mean_absolute_percentage_error\n",
        "\n",
        "y_test_pred = best_ADABOOST_model.predict(X_test)\n",
        "\n",
        "# 중고차 시세 기준 지표\n",
        "mse = mean_squared_error(y_test, y_test_pred)\n",
        "mae = mean_absolute_error(y_test, y_test_pred)\n",
        "mape = mean_absolute_percentage_error(y_test, y_test_pred) * 100\n",
        "\n",
        "print(f\"✅ Test MSE (중고차 시세): {mse:.2f}\")\n",
        "print(f\"✅ Test MAE (중고차 시세): {mae:.2f}\")\n",
        "print(f\"✅ Test MAPE (중고차 시세): {mape:.2f}%\")"
      ],
      "metadata": {
        "colab": {
          "base_uri": "https://localhost:8080/"
        },
        "id": "ls3h0fYFSg52",
        "outputId": "2403e175-ec0c-437c-9c6b-6efd19802082"
      },
      "execution_count": null,
      "outputs": [
        {
          "output_type": "stream",
          "name": "stdout",
          "text": [
            "✅ Test MSE (중고차 시세): 1022938887148.88\n",
            "✅ Test MAE (중고차 시세): 811087.80\n",
            "✅ Test MAPE (중고차 시세): 12.59%\n"
          ]
        }
      ]
    },
    {
      "cell_type": "code",
      "source": [
        "import matplotlib.pyplot as plt\n",
        "import numpy as np\n",
        "\n",
        "fig, ax = plt.subplots(figsize=(8, 6))\n",
        "ax.scatter(y_test, y_test_pred, c='dodgerblue', alpha=0.7, edgecolor='k', label='Predictions')\n",
        "\n",
        "lims = [np.min([y_test.min(), y_test_pred.min()]), np.max([y_test.max(), y_test_pred.max()])]\n",
        "ax.plot(lims, lims, 'r--', lw=2, label='Ideal Line')\n",
        "\n",
        "ax.set_xlabel('True Values')\n",
        "ax.set_ylabel('Predictions')\n",
        "ax.set_title('AdaBoost Regression Performance on Test Set')\n",
        "ax.set_xlim(lims)\n",
        "ax.set_ylim(lims)\n",
        "ax.legend()\n",
        "ax.grid(alpha=0.3)\n",
        "plt.tight_layout()\n",
        "plt.show()"
      ],
      "metadata": {
        "colab": {
          "base_uri": "https://localhost:8080/",
          "height": 607
        },
        "id": "90StQyK0Sjd3",
        "outputId": "b47ada25-6c9f-417a-91ae-e4edd80b4c9b"
      },
      "execution_count": null,
      "outputs": [
        {
          "output_type": "display_data",
          "data": {
            "text/plain": [
              "<Figure size 800x600 with 1 Axes>"
            ],
            "image/png": "[encoded data removed]"
          },
          "metadata": {}
        }
      ]
    },
    {
      "cell_type": "markdown",
      "source": [
        "##RANDOMFOREST 진행"
      ],
      "metadata": {
        "id": "-EjvLTAYVX6Z"
      }
    },
    {
      "cell_type": "code",
      "source": [
        "from sklearn.ensemble import RandomForestRegressor\n",
        "from sklearn.metrics import mean_squared_error, mean_absolute_percentage_error\n",
        "import numpy as np\n",
        "import pandas as pd\n",
        "\n",
        "# 🎯 설정한 단일 하이퍼파라미터\n",
        "n_estimators = 150\n",
        "max_depth = 10\n",
        "min_samples_split = 5\n",
        "\n",
        "# 결과 저장 리스트\n",
        "valid_mses = []\n",
        "valid_mapes = []\n",
        "\n",
        "# 마지막 모델 저장용\n",
        "random_forest_model = None\n",
        "\n",
        "# 5개 split에 대해 반복\n",
        "for split in splits:\n",
        "    X_train = split['X_train']\n",
        "    y_train = split['y_train']\n",
        "    X_valid = split['X_valid']\n",
        "    y_valid = split['y_valid']\n",
        "\n",
        "    model = RandomForestRegressor(\n",
        "        n_estimators=n_estimators,\n",
        "        max_depth=max_depth,\n",
        "        min_samples_split=min_samples_split,\n",
        "        random_state=42,\n",
        "        n_jobs=-1\n",
        "    )\n",
        "    model.fit(X_train, y_train)\n",
        "\n",
        "    y_valid_pred = model.predict(X_valid)\n",
        "    valid_mse = mean_squared_error(y_valid, y_valid_pred)\n",
        "    valid_mape = mean_absolute_percentage_error(y_valid, y_valid_pred) * 100\n",
        "\n",
        "    valid_mses.append(valid_mse)\n",
        "    valid_mapes.append(valid_mape)\n",
        "\n",
        "    # 마지막 모델 저장\n",
        "    random_forest_model = model\n",
        "\n",
        "# 결과 테이블\n",
        "mape_df = pd.DataFrame({\n",
        "    'Seed': [s['seed'] for s in splits],\n",
        "    'Train MSE': train_mses,\n",
        "    'Valid MSE': valid_mses,\n",
        "    'Valid MAPE (%)': valid_mapes\n",
        "})\n",
        "\n",
        "\n",
        "\n",
        "# 평균 결과 출력\n",
        "avg_train_mse = np.mean(train_mses)\n",
        "avg_valid_mse = np.mean(valid_mses)\n",
        "avg_valid_mape = np.mean(valid_mapes)\n",
        "\n",
        "\n",
        "print(mape_df)\n",
        "print(f\"\\n▶ 평균 Train MSE: {avg_train_mse:.2f}\")\n",
        "print(f\"✅ 평균 Valid MSE (RandomForest): {avg_valid_mse:.2f}\")\n",
        "print(f\"✅ 평균 Valid MAPE (RandomForest): {avg_valid_mape:.2f}%\")"
      ],
      "metadata": {
        "colab": {
          "base_uri": "https://localhost:8080/"
        },
        "id": "aoIfoozpVThG",
        "outputId": "925f125b-b4b5-4f20-dbcb-bbbff798ef78"
      },
      "execution_count": null,
      "outputs": [
        {
          "output_type": "stream",
          "name": "stdout",
          "text": [
            "   Seed     Train MSE     Valid MSE  Valid MAPE (%)\n",
            "0   101  5.116915e+11  1.076974e+12       10.938143\n",
            "1   202  4.992836e+11  1.122869e+12       10.912910\n",
            "2   303  4.968027e+11  1.188919e+12       12.992526\n",
            "3   404  4.964748e+11  1.181315e+12       13.048108\n",
            "4   505  5.030496e+11  1.098009e+12       11.475160\n",
            "\n",
            "▶ 평균 Train MSE: 501460451480.84\n",
            "✅ 평균 Valid MSE (RandomForest): 1133617149330.80\n",
            "✅ 평균 Valid MAPE (RandomForest): 11.87%\n"
          ]
        }
      ]
    },
    {
      "cell_type": "code",
      "source": [
        "# Feature / Target 분리\n",
        "X_test = df_test.drop(columns=['SUCCPRIC'])\n",
        "y_test = df_test['SUCCPRIC']\n",
        "\n",
        "# 예측 수행\n",
        "y_test_pred = random_forest_model.predict(X_test)\n",
        "\n",
        "# 성능 지표 계산\n",
        "from sklearn.metrics import mean_absolute_error\n",
        "\n",
        "mse = mean_squared_error(y_test, y_test_pred)\n",
        "mae = mean_absolute_error(y_test, y_test_pred)\n",
        "mape = mean_absolute_percentage_error(y_test, y_test_pred) * 100\n",
        "\n",
        "print(\"\\n📊 [RF] Test Set 성능\")\n",
        "print(f\"✅ MSE  : {mse:.2f}\")\n",
        "print(f\"✅ MAE  : {mae:.2f}\")\n",
        "print(f\"✅ MAPE : {mape:.2f}%\")"
      ],
      "metadata": {
        "colab": {
          "base_uri": "https://localhost:8080/"
        },
        "id": "2htqJN2UV45m",
        "outputId": "11471ffe-0666-44f0-8b79-9719340d9c8c"
      },
      "execution_count": null,
      "outputs": [
        {
          "output_type": "stream",
          "name": "stdout",
          "text": [
            "\n",
            "📊 [RF] Test Set 성능\n",
            "✅ MSE  : 1575605575211.46\n",
            "✅ MAE  : 958652.90\n",
            "✅ MAPE : 14.17%\n"
          ]
        }
      ]
    },
    {
      "cell_type": "code",
      "source": [
        "import matplotlib.pyplot as plt\n",
        "import numpy as np\n",
        "\n",
        "plt.figure(figsize=(8, 6))\n",
        "plt.scatter(y_test, y_test_pred, c='dodgerblue', alpha=0.6, edgecolor='k', label='Prediction')\n",
        "lims = [min(y_test.min(), y_test_pred.min()), max(y_test.max(), y_test_pred.max())]\n",
        "plt.plot(lims, lims, 'r--', linewidth=2, label='Ideal Line (y = x)')\n",
        "\n",
        "plt.xlabel(\"True Price (₩)\")\n",
        "plt.ylabel(\"Predicted Price (₩)\")\n",
        "plt.title(\"Random Forest Regression Performance on Test Set\")\n",
        "plt.legend()\n",
        "plt.grid(True)\n",
        "plt.tight_layout()\n",
        "plt.show()"
      ],
      "metadata": {
        "colab": {
          "base_uri": "https://localhost:8080/",
          "height": 607
        },
        "id": "b5JLkYWMXlau",
        "outputId": "7c2a2845-ac88-4fdb-ae35-c0e2a0c9a447"
      },
      "execution_count": null,
      "outputs": [
        {
          "output_type": "display_data",
          "data": {
            "text/plain": [
              "<Figure size 800x600 with 1 Axes>"
            ],
            "image/png": "[encoded data removed]"
          },
          "metadata": {}
        }
      ]
    },
    {
      "cell_type": "markdown",
      "source": [
        "##LIGHTGBM 진행"
      ],
      "metadata": {
        "id": "AkJnCmcKXuTv"
      }
    },
    {
      "cell_type": "code",
      "source": [
        "from lightgbm import LGBMRegressor\n",
        "from sklearn.metrics import mean_squared_error, mean_absolute_percentage_error\n",
        "import numpy as np\n",
        "import pandas as pd\n",
        "\n",
        "# 🎯 단일 하이퍼파라미터 설정\n",
        "n_estimators = 150\n",
        "max_depth = 10\n",
        "learning_rate = 0.1\n",
        "\n",
        "# 결과 저장 리스트\n",
        "train_mses = []\n",
        "valid_mses = []\n",
        "valid_mapes = []\n",
        "\n",
        "# 최종 모델 저장\n",
        "lgbm_model = None\n",
        "\n",
        "for split in splits:\n",
        "    X_train = split['X_train']\n",
        "    y_train = split['y_train']\n",
        "    X_valid = split['X_valid']\n",
        "    y_valid = split['y_valid']\n",
        "\n",
        "    model = LGBMRegressor(\n",
        "        n_estimators=n_estimators,\n",
        "        max_depth=max_depth,\n",
        "        learning_rate=learning_rate,\n",
        "        random_state=42,\n",
        "        n_jobs=-1,\n",
        "        verbose=-1\n",
        "    )\n",
        "\n",
        "    model.fit(X_train, y_train)\n",
        "\n",
        "    y_train_pred = model.predict(X_train)\n",
        "    y_valid_pred = model.predict(X_valid)\n",
        "\n",
        "    train_mse = mean_squared_error(y_train, y_train_pred)\n",
        "    valid_mse = mean_squared_error(y_valid, y_valid_pred)\n",
        "    valid_mape = mean_absolute_percentage_error(y_valid, y_valid_pred) * 100\n",
        "\n",
        "    train_mses.append(train_mse)\n",
        "    valid_mses.append(valid_mse)\n",
        "    valid_mapes.append(valid_mape)\n",
        "\n",
        "    lgbm_model = model  # 마지막 모델 저장\n",
        "\n",
        "# 📋 결과 테이블\n",
        "mape_df = pd.DataFrame({\n",
        "    'Seed': [s['seed'] for s in splits],\n",
        "    'Train MSE': train_mses,\n",
        "    'Valid MSE': valid_mses,\n",
        "    'Valid MAPE (%)': valid_mapes\n",
        "})\n",
        "\n",
        "# 평균값 계산\n",
        "avg_train_mse = np.mean(train_mses)\n",
        "avg_valid_mse = np.mean(valid_mses)\n",
        "avg_valid_mape = np.mean(valid_mapes)\n",
        "\n",
        "# 📌 출력\n",
        "print(mape_df)\n",
        "print(f\"\\n▶ 평균 Train MSE : {avg_train_mse:.2f}\")\n",
        "print(f\"▶ 평균 Valid MSE : {avg_valid_mse:.2f}\")\n",
        "print(f\"▶ 평균 Valid MAPE: {avg_valid_mape:.2f}%\")"
      ],
      "metadata": {
        "colab": {
          "base_uri": "https://localhost:8080/"
        },
        "id": "lPOnvwaHXyoB",
        "outputId": "ce68a64b-1c0f-4a49-9a2e-b05d0bfff796"
      },
      "execution_count": null,
      "outputs": [
        {
          "output_type": "stream",
          "name": "stdout",
          "text": [
            "   Seed     Train MSE     Valid MSE  Valid MAPE (%)\n",
            "0   101  5.571358e+11  7.199594e+11        9.363708\n",
            "1   202  5.477281e+11  7.338003e+11        9.182130\n",
            "2   303  5.510093e+11  7.624074e+11       10.650787\n",
            "3   404  5.480023e+11  7.449433e+11       10.918523\n",
            "4   505  5.604986e+11  7.116264e+11        9.550685\n",
            "\n",
            "▶ 평균 Train MSE : 552874813708.73\n",
            "▶ 평균 Valid MSE : 734547367414.02\n",
            "▶ 평균 Valid MAPE: 9.93%\n"
          ]
        }
      ]
    },
    {
      "cell_type": "code",
      "source": [
        "# Feature / Target 분리\n",
        "X_test = df_test.drop(columns=['SUCCPRIC'])\n",
        "y_test = df_test['SUCCPRIC']\n",
        "\n",
        "# 예측 수행\n",
        "y_test_pred = lgbm_model.predict(X_test)\n",
        "\n",
        "# 성능 지표 계산\n",
        "from sklearn.metrics import mean_absolute_error\n",
        "\n",
        "mse = mean_squared_error(y_test, y_test_pred)\n",
        "mae = mean_absolute_error(y_test, y_test_pred)\n",
        "mape = mean_absolute_percentage_error(y_test, y_test_pred) * 100\n",
        "\n",
        "print(\"\\n📊 [LGBM] Test Set 성능\")\n",
        "print(f\"✅ MSE  : {mse:.2f}\")\n",
        "print(f\"✅ MAE  : {mae:.2f}\")\n",
        "print(f\"✅ MAPE : {mape:.2f}%\")"
      ],
      "metadata": {
        "colab": {
          "base_uri": "https://localhost:8080/"
        },
        "id": "u-B4d6crYNff",
        "outputId": "1f55470f-8cc2-40e9-a1e5-65c18c809ca5"
      },
      "execution_count": null,
      "outputs": [
        {
          "output_type": "stream",
          "name": "stdout",
          "text": [
            "\n",
            "📊 [LGBM] Test Set 성능\n",
            "✅ MSE  : 1177773448912.02\n",
            "✅ MAE  : 773343.04\n",
            "✅ MAPE : 11.71%\n"
          ]
        }
      ]
    },
    {
      "cell_type": "code",
      "source": [
        "import matplotlib.pyplot as plt\n",
        "\n",
        "plt.figure(figsize=(8, 6))\n",
        "plt.scatter(y_test, y_test_pred, c='seagreen', alpha=0.6, edgecolor='k', label='Predicted')\n",
        "lims = [min(y_test.min(), y_test_pred.min()), max(y_test.max(), y_test_pred.max())]\n",
        "plt.plot(lims, lims, 'r--', lw=2, label='Ideal Line')\n",
        "\n",
        "plt.xlabel(\"True Price (₩)\")\n",
        "plt.ylabel(\"Predicted Price (₩)\")\n",
        "plt.title(\"LGBM Regression Performance on Test Set\")\n",
        "plt.grid(True)\n",
        "plt.legend()\n",
        "plt.tight_layout()\n",
        "plt.show()"
      ],
      "metadata": {
        "colab": {
          "base_uri": "https://localhost:8080/",
          "height": 607
        },
        "id": "-wxSNZAQYQnA",
        "outputId": "9aaab4dc-4671-4418-c2eb-f0a0eac1b4df"
      },
      "execution_count": null,
      "outputs": [
        {
          "output_type": "display_data",
          "data": {
            "text/plain": [
              "<Figure size 800x600 with 1 Axes>"
            ],
            "image/png": "[encoded data removed]"
          },
          "metadata": {}
        }
      ]
    }
  ]
}